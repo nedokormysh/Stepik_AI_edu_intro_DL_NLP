{
  "nbformat": 4,
  "nbformat_minor": 0,
  "metadata": {
    "colab": {
      "provenance": [],
      "include_colab_link": true
    },
    "kernelspec": {
      "name": "python3",
      "display_name": "Python 3"
    },
    "language_info": {
      "name": "python"
    }
  },
  "cells": [
    {
      "cell_type": "markdown",
      "metadata": {
        "id": "view-in-github",
        "colab_type": "text"
      },
      "source": [
        "<a href=\"https://colab.research.google.com/github/nedokormysh/Stepik_AI_edu_intro_DL_NLP/blob/week_7_logging/logging.ipynb\" target=\"_parent\"><img src=\"https://colab.research.google.com/assets/colab-badge.svg\" alt=\"Open In Colab\"/></a>"
      ]
    },
    {
      "cell_type": "markdown",
      "source": [
        "# Логирование"
      ],
      "metadata": {
        "id": "H74a31B94RgJ"
      }
    },
    {
      "cell_type": "markdown",
      "source": [
        "## Модуль logging"
      ],
      "metadata": {
        "id": "NRtineWd4thC"
      }
    },
    {
      "cell_type": "markdown",
      "source": [
        "\n",
        "\n",
        "*   [Документация к модулю](https://docs.python.org/3/library/logging.html)\n",
        "*   [Logging Cookbook](https://docs.python.org/3/howto/logging-cookbook.html)\n",
        "\n"
      ],
      "metadata": {
        "id": "5g7BSe5J6Suu"
      }
    },
    {
      "cell_type": "code",
      "execution_count": null,
      "metadata": {
        "id": "1tzzFmkZ4JRP"
      },
      "outputs": [],
      "source": [
        "import logging"
      ]
    },
    {
      "cell_type": "markdown",
      "source": [
        "### Уровни логирования"
      ],
      "metadata": {
        "id": "T1nh3rqG7xQ_"
      }
    },
    {
      "cell_type": "markdown",
      "source": [
        "*  `Debug` (10): самый низкий уровень логирования, предназначенный для отладочных сообщений, для вывода диагностической информации о приложении\n",
        "\n",
        "*  `Info` (20): этот уровень предназначен для вывода данных о фрагментах кода, работающих так, как ожидается\n",
        "\n",
        "*  `Warning` (30): этот уровень логирования предусматривает вывод предупреждений, он применяется для записи сведений о событиях, на которые программист обычно обращает внимание. Такие события вполне могут привести к проблемам при работе приложения. Если явно не задать уровень логирования — по умолчанию используется именно `warning`\n",
        "\n",
        "*  `Error` (40): этот уровень логирования предусматривает вывод сведений об ошибках — о том, что часть приложения работает не так как ожидается, о том, что программа не смогла правильно выполниться\n",
        "\n",
        "*  `Critical` (50): этот уровень используется для вывода сведений об очень серьёзных ошибках, наличие которых угрожает нормальному функционированию всего приложения. Если не исправить такую ошибку — это может привести к тому, что приложение прекратит работу"
      ],
      "metadata": {
        "id": "fGMyGlxl4WqC"
      }
    },
    {
      "cell_type": "code",
      "source": [
        "# logging.<level>(<message>)\n",
        "\n",
        "logging.debug('Используем когда ведем разработку')\n",
        "logging.info('Все хорошо, так и задумано')\n",
        "logging.warning('Возможно что-то пошло не так?')\n",
        "logging.error('Что-то точно пошло не так!')\n",
        "logging.critical('Все настолько не так, что дальше некуда !!!')"
      ],
      "metadata": {
        "colab": {
          "base_uri": "https://localhost:8080/"
        },
        "id": "sI532HqLqls3",
        "outputId": "c21813b9-fdda-4550-cbec-4516f5b10752"
      },
      "execution_count": null,
      "outputs": [
        {
          "output_type": "stream",
          "name": "stderr",
          "text": [
            "WARNING:root:Возможно что-то пошло не так?\n",
            "ERROR:root:Что-то точно пошло не так!\n",
            "CRITICAL:root:Все настолько не так, что дальше некуда !!!\n"
          ]
        }
      ]
    },
    {
      "cell_type": "markdown",
      "source": [
        "По умолчанию `logging` фиксирует только логи уровня `WARNING` и выше (т.е. ещё `ERROR` и `CRITICAL`), а все логи уровнями ниже — игнорирует (`DEBUG` и `INFO`).  \n",
        "\n",
        "Это можно изменить в настройках логов. Основная функция для указания основных настроек — `basicConfig()`. У нее 3 основных параметра:\n",
        "*   `level` — уровень логирования\n",
        "*   `filename` — куда пишем логи\n",
        "*   `format` — в каком виде их пишем\n",
        "*   `filemode` — необязательный параметр, указывающий режим, в котором предполагается работать с файлом журнала, заданным параметром `filename`. Установка `filemode` в значение `w` (write, запись) приводит к тому, что логи перезаписываются при каждом запуске модуля. По умолчанию параметр `filemode` установлен в значение `a` (append, присоединение), то есть — в файл будут попадать записи из всех сеансов работы программы\n"
      ],
      "metadata": {
        "id": "INMEN17x7Ykc"
      }
    },
    {
      "cell_type": "code",
      "source": [
        "logging.basicConfig(level=logging.DEBUG)"
      ],
      "metadata": {
        "id": "Lg5ZbvlI7ezT"
      },
      "execution_count": null,
      "outputs": []
    },
    {
      "cell_type": "markdown",
      "source": [
        "### Вывод в файл"
      ],
      "metadata": {
        "id": "zf_5sPCbqQwL"
      }
    },
    {
      "cell_type": "code",
      "source": [
        "LOGGING = 'logs.log'"
      ],
      "metadata": {
        "id": "Elg_DAmQqTeP"
      },
      "execution_count": null,
      "outputs": []
    },
    {
      "cell_type": "code",
      "source": [
        "logging.basicConfig(\n",
        "    level=logging.DEBUG,\n",
        "    filename=LOGGING,\n",
        "    filemode=\"w\"\n",
        ")"
      ],
      "metadata": {
        "id": "3pibxxWg5AKR"
      },
      "execution_count": null,
      "outputs": []
    },
    {
      "cell_type": "markdown",
      "source": [
        "Записи в лог-файле имеют формат  `<logging-level>:<name-of-the-logger>:<message>`\n",
        "\n",
        "По умолчанию `<name-of-the-logger>`, имя логгера, установлено в `root`"
      ],
      "metadata": {
        "id": "hP64Bvu1dodw"
      }
    },
    {
      "cell_type": "markdown",
      "source": [
        "### Форматирование"
      ],
      "metadata": {
        "id": "PkANH4wmp-7K"
      }
    },
    {
      "cell_type": "code",
      "source": [
        "# process, levelname и message — атрибуты записи логов\n",
        "logging.basicConfig(\n",
        "    level=logging.DEBUG,\n",
        "    format=\"%(process)d %(levelname)s %(message)s\"\n",
        ")"
      ],
      "metadata": {
        "id": "GVTtF4DYqUFb"
      },
      "execution_count": null,
      "outputs": []
    },
    {
      "cell_type": "markdown",
      "source": [
        "Чтобы один из атрибутов выводился, его нужно взять в скобки, поставить перед ним процент (`%`) и в конце указать тип значения\n",
        "\n",
        "`d` — digit, число  \n",
        "`s` — string, строка  "
      ],
      "metadata": {
        "id": "uDBt3axrkR3r"
      }
    },
    {
      "cell_type": "markdown",
      "source": [
        "Другие полезные атрибуты логов представлены в таблице\n",
        "\n",
        "\n",
        "|   Атрибут   | Как выглядит `format` |               Описание               |\n",
        "|:-----------:|:---------------------:|:------------------------------------:|\n",
        "| `asctime`   | `%(asctime)s`         | Время создания лога (Удобная запись) |\n",
        "| `created`   | `%(created)f`         | Время создания лога (UTC)            |\n",
        "| `pathname`  | `%(pathname)s`        | Полный путь до файла, где создан лог |\n",
        "| `filename`  | `%(filename)s`        | В каком файле создан лог             |\n",
        "| `funcName`  | `%(funcName)s`        | В какой функции создан лог           |\n",
        "| `lineno`    | `%(lineno)d`          | На какой строке создан лог           |\n",
        "| `message`   | `%(message)s`         | Сообщение, которое вы передали       |\n",
        "| `levelname` | `%(levelname)s`       | Уровень лога                         |"
      ],
      "metadata": {
        "id": "IM73p-oekmpc"
      }
    },
    {
      "cell_type": "markdown",
      "source": [
        "Полную таблицу атрибутов можно [посмотреть в документации](https://docs.python.org/3/library/logging.html#logrecord-attributes)"
      ],
      "metadata": {
        "id": "_gp6yDPzn6sl"
      }
    },
    {
      "cell_type": "code",
      "source": [
        "FORMAT = \"%(asctime)s - %(module)s - %(levelname)s - %(funcName)s: %(lineno)d - %(message)s\"\n",
        "logging.basicConfig(\n",
        "    level=logging.DEBUG,\n",
        "    format=FORMAT,\n",
        "    datefmt='%H:%M:%S',\n",
        "    )"
      ],
      "metadata": {
        "id": "75EeXMeD8Iuq"
      },
      "execution_count": null,
      "outputs": []
    },
    {
      "cell_type": "markdown",
      "source": [
        "### Логирование ошибок"
      ],
      "metadata": {
        "id": "RYYtsxuB9KKq"
      }
    },
    {
      "cell_type": "code",
      "source": [
        "def division(a: float, b: float) -> float:\n",
        "    return a / b"
      ],
      "metadata": {
        "id": "2HdzDjWEbwe6"
      },
      "execution_count": null,
      "outputs": []
    },
    {
      "cell_type": "markdown",
      "source": [
        "Обычный лог"
      ],
      "metadata": {
        "id": "b7KUmNfI9W1Q"
      }
    },
    {
      "cell_type": "code",
      "source": [
        "try:\n",
        "    division(1, 0)\n",
        "except Exception as error:\n",
        "    logging.error(error)"
      ],
      "metadata": {
        "colab": {
          "base_uri": "https://localhost:8080/"
        },
        "id": "QUJU1yrx9NHP",
        "outputId": "60cfe074-4074-4aa3-ea75-fc1e27f4ddc6"
      },
      "execution_count": null,
      "outputs": [
        {
          "output_type": "stream",
          "name": "stderr",
          "text": [
            "\u001b[32m2023-10-28 13:24:43.037\u001b[0m | \u001b[31m\u001b[1mERROR   \u001b[0m | \u001b[36m__main__\u001b[0m:\u001b[36m<cell line: 1>\u001b[0m:\u001b[36m2\u001b[0m - \u001b[31m\u001b[1mAn error has been caught in function '<cell line: 1>', process 'MainProcess' (468), thread 'MainThread' (137739901038592):\u001b[0m\n",
            "\u001b[33m\u001b[1mTraceback (most recent call last):\u001b[0m\n",
            "\n",
            "  File \"/usr/lib/python3.10/runpy.py\", line 196, in _run_module_as_main\n",
            "    return _run_code(code, main_globals, None,\n",
            "           │         │     └ {'__name__': '__main__', '__doc__': 'Custom kernel launcher app to customize socket options.', '__package__': '', '__loader__...\n",
            "           │         └ <code object <module> at 0x7d4611811420, file \"/usr/local/lib/python3.10/dist-packages/colab_kernel_launcher.py\", line 1>\n",
            "           └ <function _run_code at 0x7d46117ea200>\n",
            "  File \"/usr/lib/python3.10/runpy.py\", line 86, in _run_code\n",
            "    exec(code, run_globals)\n",
            "         │     └ {'__name__': '__main__', '__doc__': 'Custom kernel launcher app to customize socket options.', '__package__': '', '__loader__...\n",
            "         └ <code object <module> at 0x7d4611811420, file \"/usr/local/lib/python3.10/dist-packages/colab_kernel_launcher.py\", line 1>\n",
            "  File \"/usr/local/lib/python3.10/dist-packages/colab_kernel_launcher.py\", line 37, in <module>\n",
            "    ColabKernelApp.launch_instance()\n",
            "    │              └ <classmethod(<function Application.launch_instance at 0x7d46114b0280>)>\n",
            "    └ <class '__main__.ColabKernelApp'>\n",
            "  File \"/usr/local/lib/python3.10/dist-packages/traitlets/config/application.py\", line 992, in launch_instance\n",
            "    app.start()\n",
            "    │   └ <function IPKernelApp.start at 0x7d460f562ef0>\n",
            "    └ <__main__.ColabKernelApp object at 0x7d46117fd810>\n",
            "  File \"/usr/local/lib/python3.10/dist-packages/ipykernel/kernelapp.py\", line 619, in start\n",
            "    self.io_loop.start()\n",
            "    │    │       └ <function BaseAsyncIOLoop.start at 0x7d460fa80820>\n",
            "    │    └ <tornado.platform.asyncio.AsyncIOMainLoop object at 0x7d46096b9f30>\n",
            "    └ <__main__.ColabKernelApp object at 0x7d46117fd810>\n",
            "  File \"/usr/local/lib/python3.10/dist-packages/tornado/platform/asyncio.py\", line 195, in start\n",
            "    self.asyncio_loop.run_forever()\n",
            "    │    │            └ <function BaseEventLoop.run_forever at 0x7d461074c790>\n",
            "    │    └ <_UnixSelectorEventLoop running=True closed=False debug=False>\n",
            "    └ <tornado.platform.asyncio.AsyncIOMainLoop object at 0x7d46096b9f30>\n",
            "  File \"/usr/lib/python3.10/asyncio/base_events.py\", line 603, in run_forever\n",
            "    self._run_once()\n",
            "    │    └ <function BaseEventLoop._run_once at 0x7d461074e290>\n",
            "    └ <_UnixSelectorEventLoop running=True closed=False debug=False>\n",
            "  File \"/usr/lib/python3.10/asyncio/base_events.py\", line 1909, in _run_once\n",
            "    handle._run()\n",
            "    │      └ <function Handle._run at 0x7d46109b1c60>\n",
            "    └ <Handle IOLoop.add_future.<locals>.<lambda>(<Future finis...ba00>, ...]))>) at /usr/local/lib/python3.10/dist-packages/tornad...\n",
            "  File \"/usr/lib/python3.10/asyncio/events.py\", line 80, in _run\n",
            "    self._context.run(self._callback, *self._args)\n",
            "    │    │            │    │           │    └ <member '_args' of 'Handle' objects>\n",
            "    │    │            │    │           └ <Handle IOLoop.add_future.<locals>.<lambda>(<Future finis...ba00>, ...]))>) at /usr/local/lib/python3.10/dist-packages/tornad...\n",
            "    │    │            │    └ <member '_callback' of 'Handle' objects>\n",
            "    │    │            └ <Handle IOLoop.add_future.<locals>.<lambda>(<Future finis...ba00>, ...]))>) at /usr/local/lib/python3.10/dist-packages/tornad...\n",
            "    │    └ <member '_context' of 'Handle' objects>\n",
            "    └ <Handle IOLoop.add_future.<locals>.<lambda>(<Future finis...ba00>, ...]))>) at /usr/local/lib/python3.10/dist-packages/tornad...\n",
            "  File \"/usr/local/lib/python3.10/dist-packages/tornado/ioloop.py\", line 685, in <lambda>\n",
            "    lambda f: self._run_callback(functools.partial(callback, future))\n",
            "           │  │    │             │         │       │         └ <Future finished result=(10, 75, <bound method...7d46096ba2f0>>, (<zmq.eventloo...x7d46096b9d20>, [<zmq.sugar.fr...x7d46096be...\n",
            "           │  │    │             │         │       └ <function Runner.handle_yield.<locals>.inner at 0x7d460012bc70>\n",
            "           │  │    │             │         └ <class 'functools.partial'>\n",
            "           │  │    │             └ <module 'functools' from '/usr/lib/python3.10/functools.py'>\n",
            "           │  │    └ <function IOLoop._run_callback at 0x7d460fa55ea0>\n",
            "           │  └ <tornado.platform.asyncio.AsyncIOMainLoop object at 0x7d46096b9f30>\n",
            "           └ <Future finished result=(10, 75, <bound method...7d46096ba2f0>>, (<zmq.eventloo...x7d46096b9d20>, [<zmq.sugar.fr...x7d46096be...\n",
            "  File \"/usr/local/lib/python3.10/dist-packages/tornado/ioloop.py\", line 738, in _run_callback\n",
            "    ret = callback()\n",
            "          └ functools.partial(<function Runner.handle_yield.<locals>.inner at 0x7d460012bc70>, <Future finished result=(10, 75, <bound me...\n",
            "  File \"/usr/local/lib/python3.10/dist-packages/tornado/gen.py\", line 825, in inner\n",
            "    self.ctx_run(self.run)\n",
            "    │    │       │    └ <function Runner.run at 0x7d460fa80040>\n",
            "    │    │       └ <tornado.gen.Runner object at 0x7d4601048ca0>\n",
            "    │    └ <built-in method run of _contextvars.Context object at 0x7d46000a9900>\n",
            "    └ <tornado.gen.Runner object at 0x7d4601048ca0>\n",
            "  File \"/usr/local/lib/python3.10/dist-packages/tornado/gen.py\", line 786, in run\n",
            "    yielded = self.gen.send(value)\n",
            "              │    │   │    └ (10, 75, <bound method Kernel.dispatch_shell of <google.colab._kernel.Kernel object at 0x7d46096ba2f0>>, (<zmq.eventloop.zmqs...\n",
            "              │    │   └ <method 'send' of 'generator' objects>\n",
            "              │    └ <generator object Kernel.process_one at 0x7d461196a180>\n",
            "              └ <tornado.gen.Runner object at 0x7d4601048ca0>\n",
            "  File \"/usr/local/lib/python3.10/dist-packages/ipykernel/kernelbase.py\", line 361, in process_one\n",
            "    yield gen.maybe_future(dispatch(*args))\n",
            "          │   │            │         └ (<zmq.eventloop.zmqstream.ZMQStream object at 0x7d46096b9d20>, [<zmq.sugar.frame.Frame object at 0x7d46096be6c0>, <zmq.sugar....\n",
            "          │   │            └ <bound method Kernel.dispatch_shell of <google.colab._kernel.Kernel object at 0x7d46096ba2f0>>\n",
            "          │   └ <function maybe_future at 0x7d460fa57be0>\n",
            "          └ <module 'tornado.gen' from '/usr/local/lib/python3.10/dist-packages/tornado/gen.py'>\n",
            "  File \"/usr/local/lib/python3.10/dist-packages/tornado/gen.py\", line 234, in wrapper\n",
            "    yielded = ctx_run(next, result)\n",
            "              │             └ <generator object Kernel.dispatch_shell at 0x7d45f0f08580>\n",
            "              └ <built-in method run of _contextvars.Context object at 0x7d4601009d40>\n",
            "  File \"/usr/local/lib/python3.10/dist-packages/ipykernel/kernelbase.py\", line 261, in dispatch_shell\n",
            "    yield gen.maybe_future(handler(stream, idents, msg))\n",
            "          │   │            │       │       │       └ {'header': {'msg_id': 'c74f91d3-19d5-4a2d-f51a-55704f5091e7', 'username': 'username', 'session': '0cc5cb10-389b-4048-f432-e29...\n",
            "          │   │            │       │       └ [b'0cc5cb10-389b-4048-f432-e292f79d8276']\n",
            "          │   │            │       └ <zmq.eventloop.zmqstream.ZMQStream object at 0x7d46096b9d20>\n",
            "          │   │            └ <bound method Kernel.execute_request of <google.colab._kernel.Kernel object at 0x7d46096ba2f0>>\n",
            "          │   └ <function maybe_future at 0x7d460fa57be0>\n",
            "          └ <module 'tornado.gen' from '/usr/local/lib/python3.10/dist-packages/tornado/gen.py'>\n",
            "  File \"/usr/local/lib/python3.10/dist-packages/tornado/gen.py\", line 234, in wrapper\n",
            "    yielded = ctx_run(next, result)\n",
            "              │             └ <generator object Kernel.execute_request at 0x7d45f0fb8430>\n",
            "              └ <built-in method run of _contextvars.Context object at 0x7d46001fc0c0>\n",
            "  File \"/usr/local/lib/python3.10/dist-packages/ipykernel/kernelbase.py\", line 539, in execute_request\n",
            "    self.do_execute(\n",
            "    │    └ <function IPythonKernel.do_execute at 0x7d460f561750>\n",
            "    └ <google.colab._kernel.Kernel object at 0x7d46096ba2f0>\n",
            "  File \"/usr/local/lib/python3.10/dist-packages/tornado/gen.py\", line 234, in wrapper\n",
            "    yielded = ctx_run(next, result)\n",
            "              │             └ <generator object IPythonKernel.do_execute at 0x7d45f0fb83c0>\n",
            "              └ <built-in method run of _contextvars.Context object at 0x7d460111eec0>\n",
            "  File \"/usr/local/lib/python3.10/dist-packages/ipykernel/ipkernel.py\", line 302, in do_execute\n",
            "    res = shell.run_cell(code, store_history=store_history, silent=silent)\n",
            "          │     │        │                   │                     └ False\n",
            "          │     │        │                   └ True\n",
            "          │     │        └ 'try:\\n    division(1, 0)\\nexcept Exception as error:\\n    logging.error(error)'\n",
            "          │     └ <function ZMQInteractiveShell.run_cell at 0x7d460f8e4700>\n",
            "          └ <google.colab._shell.Shell object at 0x7d46096ba380>\n",
            "  File \"/usr/local/lib/python3.10/dist-packages/ipykernel/zmqshell.py\", line 539, in run_cell\n",
            "    return super(ZMQInteractiveShell, self).run_cell(*args, **kwargs)\n",
            "                 │                    │               │       └ {'store_history': True, 'silent': False}\n",
            "                 │                    │               └ ('try:\\n    division(1, 0)\\nexcept Exception as error:\\n    logging.error(error)',)\n",
            "                 │                    └ <google.colab._shell.Shell object at 0x7d46096ba380>\n",
            "                 └ <class 'ipykernel.zmqshell.ZMQInteractiveShell'>\n",
            "  File \"/usr/local/lib/python3.10/dist-packages/IPython/core/interactiveshell.py\", line 2975, in run_cell\n",
            "    result = self._run_cell(\n",
            "             │    └ <function InteractiveShell._run_cell at 0x7d461079f370>\n",
            "             └ <google.colab._shell.Shell object at 0x7d46096ba380>\n",
            "  File \"/usr/local/lib/python3.10/dist-packages/IPython/core/interactiveshell.py\", line 3030, in _run_cell\n",
            "    return runner(coro)\n",
            "           │      └ <coroutine object InteractiveShell.run_cell_async at 0x7d45f0fb84a0>\n",
            "           └ <function _pseudo_sync_runner at 0x7d46107881f0>\n",
            "  File \"/usr/local/lib/python3.10/dist-packages/IPython/core/async_helpers.py\", line 78, in _pseudo_sync_runner\n",
            "    coro.send(None)\n",
            "    │    └ <method 'send' of 'coroutine' objects>\n",
            "    └ <coroutine object InteractiveShell.run_cell_async at 0x7d45f0fb84a0>\n",
            "  File \"/usr/local/lib/python3.10/dist-packages/IPython/core/interactiveshell.py\", line 3257, in run_cell_async\n",
            "    has_raised = await self.run_ast_nodes(code_ast.body, cell_name,\n",
            "                       │    │             │        │     └ '<ipython-input-22-126800ff50a2>'\n",
            "                       │    │             │        └ [<ast.Try object at 0x7d46001b3910>]\n",
            "                       │    │             └ <ast.Module object at 0x7d46001b2f20>\n",
            "                       │    └ <function InteractiveShell.run_ast_nodes at 0x7d461079f6d0>\n",
            "                       └ <google.colab._shell.Shell object at 0x7d46096ba380>\n",
            "  File \"/usr/local/lib/python3.10/dist-packages/IPython/core/interactiveshell.py\", line 3473, in run_ast_nodes\n",
            "    if (await self.run_code(code, result,  async_=asy)):\n",
            "              │    │        │     │               └ False\n",
            "              │    │        │     └ <ExecutionResult object at 7d46001f9090, execution_count=22 error_before_exec=None error_in_exec=None info=<ExecutionInfo obj...\n",
            "              │    │        └ <code object <cell line: 1> at 0x7d46000b8190, file \"<ipython-input-22-126800ff50a2>\", line 1>\n",
            "              │    └ <function InteractiveShell.run_code at 0x7d461079f7f0>\n",
            "              └ <google.colab._shell.Shell object at 0x7d46096ba380>\n",
            "  File \"/usr/local/lib/python3.10/dist-packages/IPython/core/interactiveshell.py\", line 3553, in run_code\n",
            "    exec(code_obj, self.user_global_ns, self.user_ns)\n",
            "         │         │    │               │    └ {'__name__': '__main__', '__doc__': 'Automatically created module for IPython interactive environment', '__package__': None, ...\n",
            "         │         │    │               └ <google.colab._shell.Shell object at 0x7d46096ba380>\n",
            "         │         │    └ <property object at 0x7d46107772e0>\n",
            "         │         └ <google.colab._shell.Shell object at 0x7d46096ba380>\n",
            "         └ <code object <cell line: 1> at 0x7d46000b8190, file \"<ipython-input-22-126800ff50a2>\", line 1>\n",
            "> File \"<ipython-input-22-126800ff50a2>\", line 2, in <cell line: 1>\n",
            "    division(1, 0)\n",
            "    └ <function division at 0x7d460012b7f0>\n",
            "  File \"<ipython-input-18-8702bcb3884c>\", line 3, in division\n",
            "    return a / b\n",
            "           │   └ 0\n",
            "           └ 1\n",
            "\n",
            "\u001b[31m\u001b[1mZeroDivisionError\u001b[0m:\u001b[1m division by zero\u001b[0m\n"
          ]
        }
      ]
    },
    {
      "cell_type": "markdown",
      "source": [
        "Лог вместе с трейсбеком"
      ],
      "metadata": {
        "id": "Jcv7d-VA9PlT"
      }
    },
    {
      "cell_type": "code",
      "source": [
        "try:\n",
        "    division(1, 0)\n",
        "except Exception as error:\n",
        "    logging.error(error, exc_info=True)"
      ],
      "metadata": {
        "colab": {
          "base_uri": "https://localhost:8080/"
        },
        "id": "-xjtywWH9SAU",
        "outputId": "f10bec85-cfa9-4417-d0b9-83d37c5a30d3"
      },
      "execution_count": null,
      "outputs": [
        {
          "output_type": "stream",
          "name": "stderr",
          "text": [
            "ERROR:root:division by zero\n",
            "Traceback (most recent call last):\n",
            "  File \"<ipython-input-13-afa80c47e2af>\", line 2, in <cell line: 1>\n",
            "    division(1, 0)\n",
            "  File \"<ipython-input-11-e6c305bbb976>\", line 2, in division\n",
            "    return a / b\n",
            "ZeroDivisionError: division by zero\n"
          ]
        }
      ]
    },
    {
      "cell_type": "markdown",
      "source": [
        "## Модуль loguru"
      ],
      "metadata": {
        "id": "gBiY44BX5Bq9"
      }
    },
    {
      "cell_type": "markdown",
      "source": [
        "[Репозиторий Loguru](https://github.com/Delgan/loguru)"
      ],
      "metadata": {
        "id": "qLOzD-xP6dlH"
      }
    },
    {
      "cell_type": "markdown",
      "source": [
        "![image.png](data:image/png;base64,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)"
      ],
      "metadata": {
        "id": "-2sLLpIr5GCX"
      }
    },
    {
      "cell_type": "code",
      "source": [
        "%%capture\n",
        "!pip install loguru"
      ],
      "metadata": {
        "id": "Guko6LNU7WA1"
      },
      "execution_count": null,
      "outputs": []
    },
    {
      "cell_type": "code",
      "source": [
        "from loguru import logger"
      ],
      "metadata": {
        "id": "pctfTFRO5D02"
      },
      "execution_count": null,
      "outputs": []
    },
    {
      "cell_type": "code",
      "source": [
        "logger.add(LOGGING, level='DEBUG')"
      ],
      "metadata": {
        "colab": {
          "base_uri": "https://localhost:8080/"
        },
        "id": "G7hWD2Oi7VJy",
        "outputId": "6def1a15-7598-4c26-9719-e4d2c9dd3856"
      },
      "execution_count": null,
      "outputs": [
        {
          "output_type": "execute_result",
          "data": {
            "text/plain": [
              "1"
            ]
          },
          "metadata": {},
          "execution_count": 16
        }
      ]
    },
    {
      "cell_type": "code",
      "source": [
        "logger.debug('Сообщение для дебагинга')\n",
        "logger.info('Произошло какое-то событие. Всё идёт по плану.')\n",
        "logger.warning('Предупреждение, что-то могло сломаться')\n",
        "logger.error('Ошибка, что-то сломалось')\n",
        "logger.critical('МЫ В ОГНЕ ЧТО ДЕЛАТЬ?!?!')"
      ],
      "metadata": {
        "colab": {
          "base_uri": "https://localhost:8080/"
        },
        "id": "gPcHXWw_bM1L",
        "outputId": "45769f36-0254-48ec-c66d-d16c0fb42452"
      },
      "execution_count": null,
      "outputs": [
        {
          "output_type": "stream",
          "name": "stderr",
          "text": [
            "\u001b[32m2023-10-28 13:09:48.077\u001b[0m | \u001b[34m\u001b[1mDEBUG   \u001b[0m | \u001b[36m__main__\u001b[0m:\u001b[36m<cell line: 1>\u001b[0m:\u001b[36m1\u001b[0m - \u001b[34m\u001b[1mСообщение для дебагинга\u001b[0m\n",
            "\u001b[32m2023-10-28 13:09:48.082\u001b[0m | \u001b[1mINFO    \u001b[0m | \u001b[36m__main__\u001b[0m:\u001b[36m<cell line: 2>\u001b[0m:\u001b[36m2\u001b[0m - \u001b[1mПроизошло какое-то событие. Всё идёт по плану.\u001b[0m\n",
            "\u001b[32m2023-10-28 13:09:48.085\u001b[0m | \u001b[33m\u001b[1mWARNING \u001b[0m | \u001b[36m__main__\u001b[0m:\u001b[36m<cell line: 3>\u001b[0m:\u001b[36m3\u001b[0m - \u001b[33m\u001b[1mПредупреждение, что-то могло сломаться\u001b[0m\n",
            "\u001b[32m2023-10-28 13:09:48.087\u001b[0m | \u001b[31m\u001b[1mERROR   \u001b[0m | \u001b[36m__main__\u001b[0m:\u001b[36m<cell line: 4>\u001b[0m:\u001b[36m4\u001b[0m - \u001b[31m\u001b[1mОшибка, что-то сломалось\u001b[0m\n",
            "\u001b[32m2023-10-28 13:09:48.089\u001b[0m | \u001b[41m\u001b[1mCRITICAL\u001b[0m | \u001b[36m__main__\u001b[0m:\u001b[36m<cell line: 5>\u001b[0m:\u001b[36m5\u001b[0m - \u001b[41m\u001b[1mМЫ В ОГНЕ ЧТО ДЕЛАТЬ?!?!\u001b[0m\n"
          ]
        }
      ]
    },
    {
      "cell_type": "code",
      "source": [
        "@logger.catch\n",
        "def division(a: float, b: float) -> float:\n",
        "  return a / b"
      ],
      "metadata": {
        "id": "gAHI9fehb9mZ"
      },
      "execution_count": null,
      "outputs": []
    },
    {
      "cell_type": "code",
      "source": [
        "division(1, 0)"
      ],
      "metadata": {
        "id": "2vibKj5acBID",
        "colab": {
          "base_uri": "https://localhost:8080/"
        },
        "outputId": "b242222e-3bab-4cfa-94b9-edf40b06b145"
      },
      "execution_count": null,
      "outputs": [
        {
          "output_type": "stream",
          "name": "stderr",
          "text": [
            "\u001b[32m2023-10-28 13:09:48.104\u001b[0m | \u001b[31m\u001b[1mERROR   \u001b[0m | \u001b[36m__main__\u001b[0m:\u001b[36m<cell line: 1>\u001b[0m:\u001b[36m1\u001b[0m - \u001b[31m\u001b[1mAn error has been caught in function '<cell line: 1>', process 'MainProcess' (468), thread 'MainThread' (137739901038592):\u001b[0m\n",
            "\u001b[33m\u001b[1mTraceback (most recent call last):\u001b[0m\n",
            "\n",
            "  File \"/usr/lib/python3.10/runpy.py\", line 196, in _run_module_as_main\n",
            "    return _run_code(code, main_globals, None,\n",
            "           │         │     └ {'__name__': '__main__', '__doc__': 'Custom kernel launcher app to customize socket options.', '__package__': '', '__loader__...\n",
            "           │         └ <code object <module> at 0x7d4611811420, file \"/usr/local/lib/python3.10/dist-packages/colab_kernel_launcher.py\", line 1>\n",
            "           └ <function _run_code at 0x7d46117ea200>\n",
            "  File \"/usr/lib/python3.10/runpy.py\", line 86, in _run_code\n",
            "    exec(code, run_globals)\n",
            "         │     └ {'__name__': '__main__', '__doc__': 'Custom kernel launcher app to customize socket options.', '__package__': '', '__loader__...\n",
            "         └ <code object <module> at 0x7d4611811420, file \"/usr/local/lib/python3.10/dist-packages/colab_kernel_launcher.py\", line 1>\n",
            "  File \"/usr/local/lib/python3.10/dist-packages/colab_kernel_launcher.py\", line 37, in <module>\n",
            "    ColabKernelApp.launch_instance()\n",
            "    │              └ <classmethod(<function Application.launch_instance at 0x7d46114b0280>)>\n",
            "    └ <class '__main__.ColabKernelApp'>\n",
            "  File \"/usr/local/lib/python3.10/dist-packages/traitlets/config/application.py\", line 992, in launch_instance\n",
            "    app.start()\n",
            "    │   └ <function IPKernelApp.start at 0x7d460f562ef0>\n",
            "    └ <__main__.ColabKernelApp object at 0x7d46117fd810>\n",
            "  File \"/usr/local/lib/python3.10/dist-packages/ipykernel/kernelapp.py\", line 619, in start\n",
            "    self.io_loop.start()\n",
            "    │    │       └ <function BaseAsyncIOLoop.start at 0x7d460fa80820>\n",
            "    │    └ <tornado.platform.asyncio.AsyncIOMainLoop object at 0x7d46096b9f30>\n",
            "    └ <__main__.ColabKernelApp object at 0x7d46117fd810>\n",
            "  File \"/usr/local/lib/python3.10/dist-packages/tornado/platform/asyncio.py\", line 195, in start\n",
            "    self.asyncio_loop.run_forever()\n",
            "    │    │            └ <function BaseEventLoop.run_forever at 0x7d461074c790>\n",
            "    │    └ <_UnixSelectorEventLoop running=True closed=False debug=False>\n",
            "    └ <tornado.platform.asyncio.AsyncIOMainLoop object at 0x7d46096b9f30>\n",
            "  File \"/usr/lib/python3.10/asyncio/base_events.py\", line 603, in run_forever\n",
            "    self._run_once()\n",
            "    │    └ <function BaseEventLoop._run_once at 0x7d461074e290>\n",
            "    └ <_UnixSelectorEventLoop running=True closed=False debug=False>\n",
            "  File \"/usr/lib/python3.10/asyncio/base_events.py\", line 1909, in _run_once\n",
            "    handle._run()\n",
            "    │      └ <function Handle._run at 0x7d46109b1c60>\n",
            "    └ <Handle IOLoop.add_future.<locals>.<lambda>(<Future finished result=None>) at /usr/local/lib/python3.10/dist-packages/tornado...\n",
            "  File \"/usr/lib/python3.10/asyncio/events.py\", line 80, in _run\n",
            "    self._context.run(self._callback, *self._args)\n",
            "    │    │            │    │           │    └ <member '_args' of 'Handle' objects>\n",
            "    │    │            │    │           └ <Handle IOLoop.add_future.<locals>.<lambda>(<Future finished result=None>) at /usr/local/lib/python3.10/dist-packages/tornado...\n",
            "    │    │            │    └ <member '_callback' of 'Handle' objects>\n",
            "    │    │            └ <Handle IOLoop.add_future.<locals>.<lambda>(<Future finished result=None>) at /usr/local/lib/python3.10/dist-packages/tornado...\n",
            "    │    └ <member '_context' of 'Handle' objects>\n",
            "    └ <Handle IOLoop.add_future.<locals>.<lambda>(<Future finished result=None>) at /usr/local/lib/python3.10/dist-packages/tornado...\n",
            "  File \"/usr/local/lib/python3.10/dist-packages/tornado/ioloop.py\", line 685, in <lambda>\n",
            "    lambda f: self._run_callback(functools.partial(callback, future))\n",
            "           │  │    │             │         │       │         └ <Future finished result=None>\n",
            "           │  │    │             │         │       └ <function Runner.handle_yield.<locals>.inner at 0x7d46000b4280>\n",
            "           │  │    │             │         └ <class 'functools.partial'>\n",
            "           │  │    │             └ <module 'functools' from '/usr/lib/python3.10/functools.py'>\n",
            "           │  │    └ <function IOLoop._run_callback at 0x7d460fa55ea0>\n",
            "           │  └ <tornado.platform.asyncio.AsyncIOMainLoop object at 0x7d46096b9f30>\n",
            "           └ <Future finished result=None>\n",
            "  File \"/usr/local/lib/python3.10/dist-packages/tornado/ioloop.py\", line 738, in _run_callback\n",
            "    ret = callback()\n",
            "          └ functools.partial(<function Runner.handle_yield.<locals>.inner at 0x7d46000b4280>, <Future finished result=None>)\n",
            "  File \"/usr/local/lib/python3.10/dist-packages/tornado/gen.py\", line 825, in inner\n",
            "    self.ctx_run(self.run)\n",
            "    │    │       │    └ <function Runner.run at 0x7d460fa80040>\n",
            "    │    │       └ <tornado.gen.Runner object at 0x7d460104b3d0>\n",
            "    │    └ <built-in method run of _contextvars.Context object at 0x7d46010fe180>\n",
            "    └ <tornado.gen.Runner object at 0x7d460104b3d0>\n",
            "  File \"/usr/local/lib/python3.10/dist-packages/tornado/gen.py\", line 786, in run\n",
            "    yielded = self.gen.send(value)\n",
            "              │    │   │    └ None\n",
            "              │    │   └ <method 'send' of 'generator' objects>\n",
            "              │    └ <generator object Kernel.dispatch_queue at 0x7d4600ff4e40>\n",
            "              └ <tornado.gen.Runner object at 0x7d460104b3d0>\n",
            "  File \"/usr/local/lib/python3.10/dist-packages/ipykernel/kernelbase.py\", line 377, in dispatch_queue\n",
            "    yield self.process_one()\n",
            "          │    └ <function Kernel.process_one at 0x7d460f8ba440>\n",
            "          └ <google.colab._kernel.Kernel object at 0x7d46096ba2f0>\n",
            "  File \"/usr/local/lib/python3.10/dist-packages/tornado/gen.py\", line 250, in wrapper\n",
            "    runner = Runner(ctx_run, result, future, yielded)\n",
            "             │      │        │       │       └ <Future finished result=(10, 29, <bound method...7d46096ba2f0>>, (<zmq.eventloo...x7d46096b9d20>, [<zmq.sugar.fr...x7d46000b8...\n",
            "             │      │        │       └ <Future pending>\n",
            "             │      │        └ <generator object Kernel.process_one at 0x7d46000df060>\n",
            "             │      └ <built-in method run of _contextvars.Context object at 0x7d46000aa840>\n",
            "             └ <class 'tornado.gen.Runner'>\n",
            "  File \"/usr/local/lib/python3.10/dist-packages/tornado/gen.py\", line 748, in __init__\n",
            "    self.ctx_run(self.run)\n",
            "    │    │       │    └ <function Runner.run at 0x7d460fa80040>\n",
            "    │    │       └ <tornado.gen.Runner object at 0x7d46001138e0>\n",
            "    │    └ <built-in method run of _contextvars.Context object at 0x7d46000aa840>\n",
            "    └ <tornado.gen.Runner object at 0x7d46001138e0>\n",
            "  File \"/usr/local/lib/python3.10/dist-packages/tornado/gen.py\", line 786, in run\n",
            "    yielded = self.gen.send(value)\n",
            "              │    │   │    └ (10, 29, <bound method Kernel.dispatch_shell of <google.colab._kernel.Kernel object at 0x7d46096ba2f0>>, (<zmq.eventloop.zmqs...\n",
            "              │    │   └ <method 'send' of 'generator' objects>\n",
            "              │    └ <generator object Kernel.process_one at 0x7d46000df060>\n",
            "              └ <tornado.gen.Runner object at 0x7d46001138e0>\n",
            "  File \"/usr/local/lib/python3.10/dist-packages/ipykernel/kernelbase.py\", line 361, in process_one\n",
            "    yield gen.maybe_future(dispatch(*args))\n",
            "          │   │            │         └ (<zmq.eventloop.zmqstream.ZMQStream object at 0x7d46096b9d20>, [<zmq.sugar.frame.Frame object at 0x7d46000b8040>, <zmq.sugar....\n",
            "          │   │            └ <bound method Kernel.dispatch_shell of <google.colab._kernel.Kernel object at 0x7d46096ba2f0>>\n",
            "          │   └ <function maybe_future at 0x7d460fa57be0>\n",
            "          └ <module 'tornado.gen' from '/usr/local/lib/python3.10/dist-packages/tornado/gen.py'>\n",
            "  File \"/usr/local/lib/python3.10/dist-packages/tornado/gen.py\", line 234, in wrapper\n",
            "    yielded = ctx_run(next, result)\n",
            "              │             └ <generator object Kernel.dispatch_shell at 0x7d46000df0d0>\n",
            "              └ <built-in method run of _contextvars.Context object at 0x7d460012eb40>\n",
            "  File \"/usr/local/lib/python3.10/dist-packages/ipykernel/kernelbase.py\", line 261, in dispatch_shell\n",
            "    yield gen.maybe_future(handler(stream, idents, msg))\n",
            "          │   │            │       │       │       └ {'header': {'msg_id': '25312ae9-50bd-4509-bc6a-61753cb0fb25', 'username': 'username', 'session': '0cc5cb10-389b-4048-f432-e29...\n",
            "          │   │            │       │       └ [b'0cc5cb10-389b-4048-f432-e292f79d8276']\n",
            "          │   │            │       └ <zmq.eventloop.zmqstream.ZMQStream object at 0x7d46096b9d20>\n",
            "          │   │            └ <bound method Kernel.execute_request of <google.colab._kernel.Kernel object at 0x7d46096ba2f0>>\n",
            "          │   └ <function maybe_future at 0x7d460fa57be0>\n",
            "          └ <module 'tornado.gen' from '/usr/local/lib/python3.10/dist-packages/tornado/gen.py'>\n",
            "  File \"/usr/local/lib/python3.10/dist-packages/tornado/gen.py\", line 234, in wrapper\n",
            "    yielded = ctx_run(next, result)\n",
            "              │             └ <generator object Kernel.execute_request at 0x7d46000df140>\n",
            "              └ <built-in method run of _contextvars.Context object at 0x7d460012fec0>\n",
            "  File \"/usr/local/lib/python3.10/dist-packages/ipykernel/kernelbase.py\", line 539, in execute_request\n",
            "    self.do_execute(\n",
            "    │    └ <function IPythonKernel.do_execute at 0x7d460f561750>\n",
            "    └ <google.colab._kernel.Kernel object at 0x7d46096ba2f0>\n",
            "  File \"/usr/local/lib/python3.10/dist-packages/tornado/gen.py\", line 234, in wrapper\n",
            "    yielded = ctx_run(next, result)\n",
            "              │             └ <generator object IPythonKernel.do_execute at 0x7d46000df3e0>\n",
            "              └ <built-in method run of _contextvars.Context object at 0x7d460012d100>\n",
            "  File \"/usr/local/lib/python3.10/dist-packages/ipykernel/ipkernel.py\", line 302, in do_execute\n",
            "    res = shell.run_cell(code, store_history=store_history, silent=silent)\n",
            "          │     │        │                   │                     └ False\n",
            "          │     │        │                   └ True\n",
            "          │     │        └ 'division(1, 0)'\n",
            "          │     └ <function ZMQInteractiveShell.run_cell at 0x7d460f8e4700>\n",
            "          └ <google.colab._shell.Shell object at 0x7d46096ba380>\n",
            "  File \"/usr/local/lib/python3.10/dist-packages/ipykernel/zmqshell.py\", line 539, in run_cell\n",
            "    return super(ZMQInteractiveShell, self).run_cell(*args, **kwargs)\n",
            "                 │                    │               │       └ {'store_history': True, 'silent': False}\n",
            "                 │                    │               └ ('division(1, 0)',)\n",
            "                 │                    └ <google.colab._shell.Shell object at 0x7d46096ba380>\n",
            "                 └ <class 'ipykernel.zmqshell.ZMQInteractiveShell'>\n",
            "  File \"/usr/local/lib/python3.10/dist-packages/IPython/core/interactiveshell.py\", line 2975, in run_cell\n",
            "    result = self._run_cell(\n",
            "             │    └ <function InteractiveShell._run_cell at 0x7d461079f370>\n",
            "             └ <google.colab._shell.Shell object at 0x7d46096ba380>\n",
            "  File \"/usr/local/lib/python3.10/dist-packages/IPython/core/interactiveshell.py\", line 3030, in _run_cell\n",
            "    return runner(coro)\n",
            "           │      └ <coroutine object InteractiveShell.run_cell_async at 0x7d46000df450>\n",
            "           └ <function _pseudo_sync_runner at 0x7d46107881f0>\n",
            "  File \"/usr/local/lib/python3.10/dist-packages/IPython/core/async_helpers.py\", line 78, in _pseudo_sync_runner\n",
            "    coro.send(None)\n",
            "    │    └ <method 'send' of 'coroutine' objects>\n",
            "    └ <coroutine object InteractiveShell.run_cell_async at 0x7d46000df450>\n",
            "  File \"/usr/local/lib/python3.10/dist-packages/IPython/core/interactiveshell.py\", line 3257, in run_cell_async\n",
            "    has_raised = await self.run_ast_nodes(code_ast.body, cell_name,\n",
            "                       │    │             │        │     └ '<ipython-input-19-c67caa4c08c8>'\n",
            "                       │    │             │        └ [<ast.Expr object at 0x7d4600112980>]\n",
            "                       │    │             └ <ast.Module object at 0x7d46001131f0>\n",
            "                       │    └ <function InteractiveShell.run_ast_nodes at 0x7d461079f6d0>\n",
            "                       └ <google.colab._shell.Shell object at 0x7d46096ba380>\n",
            "  File \"/usr/local/lib/python3.10/dist-packages/IPython/core/interactiveshell.py\", line 3473, in run_ast_nodes\n",
            "    if (await self.run_code(code, result,  async_=asy)):\n",
            "              │    │        │     │               └ False\n",
            "              │    │        │     └ <ExecutionResult object at 7d4600113c10, execution_count=19 error_before_exec=None error_in_exec=None info=<ExecutionInfo obj...\n",
            "              │    │        └ <code object <cell line: 1> at 0x7d4600131b00, file \"<ipython-input-19-c67caa4c08c8>\", line 1>\n",
            "              │    └ <function InteractiveShell.run_code at 0x7d461079f7f0>\n",
            "              └ <google.colab._shell.Shell object at 0x7d46096ba380>\n",
            "  File \"/usr/local/lib/python3.10/dist-packages/IPython/core/interactiveshell.py\", line 3553, in run_code\n",
            "    exec(code_obj, self.user_global_ns, self.user_ns)\n",
            "         │         │    │               │    └ {'__name__': '__main__', '__doc__': 'Automatically created module for IPython interactive environment', '__package__': None, ...\n",
            "         │         │    │               └ <google.colab._shell.Shell object at 0x7d46096ba380>\n",
            "         │         │    └ <property object at 0x7d46107772e0>\n",
            "         │         └ <google.colab._shell.Shell object at 0x7d46096ba380>\n",
            "         └ <code object <cell line: 1> at 0x7d4600131b00, file \"<ipython-input-19-c67caa4c08c8>\", line 1>\n",
            "> File \"<ipython-input-19-c67caa4c08c8>\", line 1, in <cell line: 1>\n",
            "    division(1, 0)\n",
            "    └ <function division at 0x7d460012b7f0>\n",
            "  File \"<ipython-input-18-8702bcb3884c>\", line 3, in division\n",
            "    return a / b\n",
            "           │   └ 0\n",
            "           └ 1\n",
            "\n",
            "\u001b[31m\u001b[1mZeroDivisionError\u001b[0m:\u001b[1m division by zero\u001b[0m\n"
          ]
        }
      ]
    },
    {
      "cell_type": "markdown",
      "source": [
        "## Дополнительные материалы"
      ],
      "metadata": {
        "id": "J1G4F8t5ccYn"
      }
    },
    {
      "cell_type": "markdown",
      "source": [
        "*   [Продвинутые возможности модуля logging в Python](https://habr.com/ru/articles/513966/)\n",
        "*   [Подробнее про модуль loguru (ru)](https://docs-python.ru/packages/modul-loguru-python/)\n",
        "\n",
        "\n"
      ],
      "metadata": {
        "id": "HgWWK86FcT5X"
      }
    }
  ]
}