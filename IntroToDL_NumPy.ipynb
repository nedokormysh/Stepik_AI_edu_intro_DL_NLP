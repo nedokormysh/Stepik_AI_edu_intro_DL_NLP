{
  "nbformat": 4,
  "nbformat_minor": 0,
  "metadata": {
    "colab": {
      "provenance": [],
      "include_colab_link": true
    },
    "kernelspec": {
      "name": "python3",
      "display_name": "Python 3"
    },
    "language_info": {
      "name": "python"
    }
  },
  "cells": [
    {
      "cell_type": "markdown",
      "metadata": {
        "id": "view-in-github",
        "colab_type": "text"
      },
      "source": [
        "<a href=\"https://colab.research.google.com/github/nedokormysh/Stepik_AI_edu_intro_DL_NLP/blob/week_3/IntroToDL_NumPy.ipynb\" target=\"_parent\"><img src=\"https://colab.research.google.com/assets/colab-badge.svg\" alt=\"Open In Colab\"/></a>"
      ]
    },
    {
      "cell_type": "markdown",
      "source": [
        "# Numpy"
      ],
      "metadata": {
        "id": "vrsgj1qAoj1n"
      }
    },
    {
      "cell_type": "markdown",
      "source": [
        "## Что это такое?"
      ],
      "metadata": {
        "id": "oHz8RCn1zE6D"
      }
    },
    {
      "cell_type": "markdown",
      "source": [
        "Что такое Numpy? Это библиотека, которая позволяет достаточно быстро выполнять различные операции с массивами (многомерными и не очень): перемножение, сложение, преобразования, базовый анализ данных\n",
        "\n",
        "Вся работа в массивами в Numpy гораздо проще и быстрее, чем с обычными списками в Python. Давайте проверим это на простом примере\n",
        "\n",
        "Достаточно часто в линале вам надо было перемножать матрицы, при этом внутри Python нет встроенного перемножения матриц. Давайте попробуем перемножить две матрицы в чистом Python и с помощью numpy и сравним время"
      ],
      "metadata": {
        "id": "1YW10vcgpGJz"
      }
    },
    {
      "cell_type": "code",
      "source": [
        "a = [[i for i in range(50)] for j in range(50)] #возьмем матрицу a размера 50x50\n",
        "b = [[i for i in range(100)] for j in range(50)] #возьмем матрицу b размера 50x100"
      ],
      "metadata": {
        "id": "XPKY_-Qjqe7_"
      },
      "execution_count": 1,
      "outputs": []
    },
    {
      "cell_type": "code",
      "execution_count": 2,
      "metadata": {
        "id": "RrNkFQYdn0gJ"
      },
      "outputs": [],
      "source": [
        "## Pure Python\n",
        "def matmul_python(a,b):\n",
        "    return [[sum(ele_a * ele_b for ele_a, ele_b in zip(row_a, col_b))\n",
        "             for col_b in list(zip(*b))] for row_a in a]"
      ]
    },
    {
      "cell_type": "code",
      "source": [
        "import numpy as np\n",
        "\n",
        "# NumPy (сделаем функцию, чтобы было честнее)\n",
        "def matmul_numpy(a, b):\n",
        "    return np.matrix(a) * np.matrix(b)"
      ],
      "metadata": {
        "id": "tFD_lYFkq6e7"
      },
      "execution_count": 4,
      "outputs": []
    },
    {
      "cell_type": "code",
      "source": [
        "%%time\n",
        "\n",
        "k_python = matmul_python(a, b)"
      ],
      "metadata": {
        "id": "MzYmQtugrQLZ",
        "colab": {
          "base_uri": "https://localhost:8080/"
        },
        "outputId": "5fb1b94f-0b2a-483d-fde4-c9a89a64d0e7"
      },
      "execution_count": 5,
      "outputs": [
        {
          "output_type": "stream",
          "name": "stdout",
          "text": [
            "CPU times: user 36.2 ms, sys: 0 ns, total: 36.2 ms\n",
            "Wall time: 46 ms\n"
          ]
        }
      ]
    },
    {
      "cell_type": "code",
      "source": [
        "%%time\n",
        "\n",
        "k_numpy = matmul_numpy(a, b)"
      ],
      "metadata": {
        "id": "TFtI-R-BrWLL",
        "colab": {
          "base_uri": "https://localhost:8080/"
        },
        "outputId": "ad010070-2445-4209-c20a-4eb2d7e35712"
      },
      "execution_count": 6,
      "outputs": [
        {
          "output_type": "stream",
          "name": "stdout",
          "text": [
            "CPU times: user 1.02 ms, sys: 943 µs, total: 1.96 ms\n",
            "Wall time: 1.57 ms\n"
          ]
        }
      ]
    },
    {
      "cell_type": "code",
      "source": [
        "# проверяем, что таблицы совпадают\n",
        "np.alltrue(k_python == k_numpy)"
      ],
      "metadata": {
        "id": "aXJ85GwssAiI",
        "colab": {
          "base_uri": "https://localhost:8080/"
        },
        "outputId": "d38a84c0-35ea-46cf-b75f-1dfb7f6b3929"
      },
      "execution_count": null,
      "outputs": [
        {
          "output_type": "execute_result",
          "data": {
            "text/plain": [
              "True"
            ]
          },
          "metadata": {},
          "execution_count": 63
        }
      ]
    },
    {
      "cell_type": "markdown",
      "source": [
        "Удивительно, Numpy почти в 30 раз быстрее, чем Python! За счет чего это получается?\n",
        "\n",
        "Причин несколько:\n",
        "\n",
        "* В первую очередь за счет ограничения со стороны размера: если в Numpy при создании объекта он имеет фиксированный размер (и если его надо поменять, то создастся новый объект и старый будет удален), то в Python нет фиксированного размера (что усложняет работу)\n",
        "\n",
        "* За счет фиксированного размера массивы в NumPy и хранятся в памяти по-другому:\n",
        "\n",
        "Numpy хранит данные друг за другом:\n",
        "\n",
        "![Numpy](data:image/png;base64,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)\n",
        "\n",
        "В свою очередь внутри Python элементы хранятся рандомно (поэтому когда вы обращаетесь к элементу, то вы обращаетесь к ссылке, ссылка идет в нужное место в памяти и находит его). С точки зрения выполнения арифметических операций это сложнее\n",
        "\n",
        "![python.png](data:image/png;base64,iVBORw0KGgoAAAANSUhEUgAAAuUAAAD7CAYAAADNeeo8AAAgAElEQVR4Ae2dCbwsV1WvF5PMMzKJgAZBwiAQBCQEZJR5TAQEIlPAQBgDSSQxkAAJk0GGMIcEEELykJkAYR4kGDKQkCARiAqiqDg8Z99T+/2+k1339e2z9unb9/Q5VV3727/fvd1ndXXV3l+vqv2vXWuvHWGRgAQkIAEJSEACEpCABCQgAQlIQAISkIAEJCABCUhAAhKQgAQkIAEJSEACEpCABCQgAQlIQAISkIAEJCABCUhAAhKQgAQkIAEJSEACEpCABCQgAQlIQAISkIAEJCABCUhAAhKQgAQkIAEJSEACEpCABCQgAQlIQAISkIAEJCABCUhAAhKQgAQkIAEJSEACEpCABCQgAQlIQAISkIAEhkPgshHxCxFxo4i49HCqZU0kIAEJSEACEpCABCQwfgKI8d+JiMnUv+9HxF17bvpNImK/3ajDYyLiCwt8772l3fea+Q7th8mpM3b/lIAEJCABCUhAAhKQwNIJvDgi/joi9omIS0XE9SPiDRHxTxFx3aUfbdd3+JCI4OZg0fKgiPjwAl86uYjv42e+86pi/8CM3T8lIAEJSEACEpCABCSwVAJXLsLzSTN7vVJEHBcRt42Iy0TEERHxwyLesV+xbP+OiHhRRHwuIi6KiCdGBCKfbb8aEXuU7RiNPqTYuAHgO9wAcPwzI+KGZburlL/3KoKckepOFHOzcEqpw+kRcfvyHep+dEScEBFvjYi7R8S7y2ePKKPm3GBgu1qxT78gys8oNyE8NaAQvkM9sXfH/6mIeEWp19kRwYg85Qqlzs+JiPNKG+8XEeyXffDa8brlVH1o995lH9NtOKnsr2sfm3CTxP4tEpCABCQgAQlIQAIjJHDrIspvtkHbDiiC9ZlF8CK4X1q2R3gjnJ9ShCPvvxwRDy3C8s1lO0a8EcaMYj+ufOcOEXH18v7nynbXKH8j5n+7iFq2Q8AjYhHj94mIY8t2bH94ef+piLhnEfgc5zrFTggM30EwPz9pJ6L5leVYfJ9yp1Lfl0+J8k6Q7xsR+5d9/2pEcANDuy8s4TaEzvD32yLiYeX9oyPi8uVm5bSIuFth2D2NmG0DNwMvKXXhRoX9zYbXlI99kYAEJCABCUhAAhJYdQKM1CL4rrdBQxDDnQhns6cWccl7RHknHn9+Rjw+dyq2G1HOSHlXEOuMvtdEOSPn0+ErjJxTz5uWHSDSGYV+VBHlvJ+dnHrj8p2DIgJhy9+36Cow9YooR3DzBIARaQqin3AW2sZIOfvm+I8vn/PCyPvrp0T5vctnTyjbXrX8/dHS1vvP2PkYUf7YpA3UGZFPeXjZrhvFL2ZfJCABCUhAAhKQgATGQoBMK4jNBycNYoSc8BWEIyO+XUF88h0KopyQFQpCGnsXh35g+ZzPEOWMnnflhWXUe1aUd6Pbs6Kc0W72Pfvvt4qgJTwmKwdPfefjJbvM7HadKCemnrZertx0MLreifKubbPHJ5ymGynvnjZQ105QcywmihLS8/QZO5/Bj5sXRsqn29D9LuzzxKmbhdm6+7cEJCABCUhAAhKQwAgIMAKMEH3tTFsIH0GAkgGFcAxCV7qC2CZUhIKo7EaPO+H60+WzWVHebcfHCFAEbSfKO0FLHDXHnRXlxGhjZ0QfEcy/O0YEx5oVtOXwce2IYL+EjRCWQljNtPDttutEOSPRsGBEn1diyDtR3sXeM3rfHZ9Rd/bfifIuBKcmyol1Z7/E6FMY7edvsrxkbYDtC8o2fNciAQlIQAISkIAEJDBiAohnBC9iEvGJ0CSmuctgwgRDQlgIT0GoIm4Z3aUsIsr5HhMeEd6I0adNCdPDyrGZONqJcuLCCUtBLHcj6IhU6sBnbHeriqClbsSicxzqTTkqIhgtny2dKMdOyAr7ZdIopRPlvIcJNxLEse9ZRtNpw66KckbgqQ8j5rTpAeVv3meivPtdYNAJ+Utq5f8SkIAEJCABCUhAAqMjgChkoiNitPvHhEpCKChkPWGSZPcZAr0LUclEOQKagqhEiFMIX5neB0IYkUo5cmrfxGlzHEbK+YcgJasLhcmSXR14ZSIohUwu7ynvZ18IHWHbbj9Z7nVGz4khp3ShOYh+CqK8y1NOKA+TXLs6fLC0YVdEOW2k8MSB7yPOeX1ysWdt6J48dHUrm/oiAQlIQAISkIAEJDBmAohLRp6vmTSSkVpG0JksSdjFogVRzsgwISWdaJ/eB2Es/Jst3DB0Eyb5jJF8MsZkdZz9bvc3ITisVLqMQn1+ceqGZXf2yUg7bYD3RgVWCPdl1X2jY/mZBCQgAQlIQAISkEADBDpR3kBTl9LER0YEqRO7EKKl7NSdSEACEpCABCQgAQm0TYA4akbaLbtGgGw35H6ffkqwa990KwlIQAISkIAEJCABCUhAAhKQgAQkIAEJSEACEpCABCQgAQlIQAISkIAEJCABCUhAAhKQgAQkIAEJSEACEpCABCQgAQlIQAISkIAEJCABCUhAAhKQgAQkIAEJSEACEpCABCQgAQlIQAISkIAEJCABCUhAAhKQgAQkIAEJSEACEpCABCQgAQlIQAISkIAEJCABCUhAAhKQgAQkIAEJSEACEpCABCQgAQlIQAISkIAEJCABCUhAAhKQgAQkIAEJSEACEpCABCQgAQlIQAISkIAEJCABCUhAAhKQgAQkIAEJSEACEpCABCQgAQlIQAISkIAEJCABCUhAAhKQgAQkIAEJSEACEpCABCQgAQlIQAISkIAEJCABCUhAAhLYmMAkIvwnA31AH9AH9AF9QB/QB/SBMfvAxop4AJ9OLvzxBf6bYcCNimU9AbjoL+vPF/1lva9g0V/W+wrnj1zqXHJPatvq9SX//T2PPI9yz8it+MsANPfcKiiyZgR512nmP2vbVi+CXgQXOQP0l7q/eHO7ng3+YllPQC7rmWDx+rL+HFK/5L7S+ctcRTyADRTlivK6F8984kXQi+CMS2z4p/5S9xdF+Xo2is/8dJJLnYvnkedR7h3rrZxHA9Dcc6ugKFeUr/feikWRtf4C6MhExVkcyapeWz2PPI/qZ836TxTl65lg8TzyPMo9I7fiL3MV8QA2qHYcLd+BehGsO3XLflFru/6iv9R8I7MrJhQT+RmTW72+1Llk51frNv2l7i8D0Nxzq6Aod6Q89+DEqphQTCRuUTXpL3V/aV04ZO1XTOSnklzqXDI/at2mv9T9Za4iHsAGinJFee7BiVWRVRdZCa7mTfpL3V9aFw5Z+xUT+SVDLnUumR+1btNf6v4yAM09twqKckV57sGJVZFVF1kJruZN+kvdX1oXDln7FRP5JUMudS6ZH7Vu01/q/jJXEQ9gA0W5ojz34MSqyKqLrARX8yb9pe4vrQuHrP2KifySIZc6l8yPWrfpL3V/GYDmnlsFRbmiPPfgxKrIqousBFfzJv2l7i+tC4es/YqJ/JIhlzqXzI9at+kvdX+Zq4gHsIGiXFGee3BiVWTVRVaCq3mT/lL3l9aFQ9Z+xUR+yZBLnUvmR63b9Je6vwxAc8+tgqJcUZ57cGJVZNVFVoKreZP+UveX1oVD1n7FRH7JkEudS+ZHrdv0l7q/zFXEA9hAUa4ozz04sSqy6iIrwdW8SX+p+0vrwiFrv2Iiv2TIpc4l86PWbfpL3V8GoLnnVkFRrijPPTixKrLqIivB1bxJf6n7S+vCIWu/YiK/ZMilziXzo9Zt+kvdX+Yq4gFsoChXlOcenFgVWXWRleBq3qS/1P2ldeGQtV8xkV8y5FLnkvlR6zb9pe4vA9Dcc6ugKFeU5x6cWBVZdZGV4GrepL/U/aV14ZC1XzGRXzLkUueS+VHrNv2l7i9zFfEANlCUK8pzD06siqy6yEpwNW/SX+r+0rpwyNqvmMgvGXKpc8n8qHWb/lL3lwFo7rlVUJQrynMPTqyKrLrISnA1b9Jf6v7SunDI2q+YyC8ZcqlzyfyodZv+UveXuYp4ABsoyhXluQcnVkVWXWQluJo36S91f2ldOGTtV0zklwy51LlkftS6TX+p+8sANPfcKijKFeW5BydWRVZdZCW4mjfpL3V/aV04ZO1XTOSXDLnUuWR+1LpNf6n7y1xFPIANFOWK8tyDE6siqy6yElzNm/SXur+0Lhyy9ism8kuGXOpcMj9q3aa/1P1lAJp7bhUU5Yry3IMTqyKrLrISXM2b9Je6v7QuHLL2KybyS4Zc6lwyP2rdpr/U/WWuIh7ABopyRXnuwYlVkVUXWQmu5k36S91fWhcOWfsVE/klQy51LpkftW7TX+r+MgDNPbcKgxHlx739dyePf+rjBlEfnbru1H1e8N5x6tsnhx/zovTfmd/7o958R38Zpr90vvrNH547ee07jps85aCnTB6630MmBx584OR9n3hvr/7S1W0Ir0cce/jkPg+89+SL532hNyZw8Dyqn0f5J21b8Ze+z593fuCEybMPe/bkgQ9/wGT/pz1hcuwbjp2c/xfn9Vovz6P8vIDLXEU8gA16dZ7uhPr6RWdMrneD661dlDtbn686dd2p+/xd9r7n3ms+Uk6und5/5qzTe/Nl/WWY/oKvnnXxNyb73GufnXyl8x9Eeh/+zPH7OG52zJM+eOIONp8847Re6+V5VD+P8k/atvZ5Hl3wV9+aHPDsA3acO1e+ypV3vL/17W69dt3JzrftsHke5ecFXAaguedWodeL8Cve+IrJ/k/ff4cg7/Mkmz5ZdOq6U09z2u733Ljd+W53nnzq659c96/P0Qn9ZZj+gn8e9btHrXWWD3/0wyff+P6Zk2/96PzJez/2+zs60D6E6FCuc1+58CuTa13nWr2ymL6GeB7Vz6P8k7atfZ5HPGnj+Dff8+aTz579mTUd9dEvf2Ry+zvdfs3O07hp397O955H+XkBl7mKeAAb9OY4OOmNbnKjHR1CAdZrfboTR6euO3XHaLtfz/7Ts9Z85SnPfPIgfGS6/frL8Pyl+30esu+D1/ym6zg7OyKd3+2tJ79l2/2J43b16Ov1W395/uQe97n7hBE+bnSpUx83KNPt9zyqn0f5J21b+zyPDj3qkLVz5g0nvX6nc/n4d79xzf5Le/3STvZpP9/q955H+XkBlwFo7rlV6M1xZh2zG7GZtffxt05dd+o+fg+OySgEvwvxr4x0HvP6YybEmJ9x0dd692H9ZXj+0vnpa976msmLX3XkTj7CU5VuRKsP/8Ffuvr19XrIS164dj698V1vmHQ3KIry3I/7tnp9yX+BPs+jg174zLVryOfO+exO5/LrT3zd2nm111322sm+nee5/lL3l7mKeAAb9OY4s06qKM8daUjWPi+Cb3rP8WsXO+ow/Y+RPiYJz/rTdv7tRTD30j79Jfv9GdV6xgueMSHmk7o95omP7sVv+uZyyqfev9b+/Z6w31r7FeW5/w7F6vUl/yX6Po9mrzHMX2GEnHo965CDerm2UCf9pe4vA9Dcc6vQm+PMOrSiPHekIVn7vAgeevShaxcb4sqPPu7oyetO+L3JfR983zUb9Tr106f05steBHMv7dNfZq8v/E24BnXq/h31mpdMmLCVbbuVtj65dJPqCR0kxp52Kspz/x2KFX+xrCfQ53k0e3049fRTJzfd46Zr1xbizAm3nN1mu/7WX9b7Cha4zFXEA9igN8eZdVBFee5IQ7L2eRH80Oc/OHn56142+dL5X9zJZw8+8uC1k+2Rj33ETvZZ/9rKv70I5l7ap79kv/fXvvOHa6FPLzjyBWux1NTv1W9+1bb7TZ9cSN3G8d//yZN3tFtRnvvvUKz8Xpb1BPo8j7rrC+FvPHGjLvzj6VOf6Xmpl/6y3lewlN9oALJ74yrsuDB3TtbXq6I8d6QhWXHqvvyjdlziYKnXnrfZs7e6eRHMvbRvf2Ey4xe++fl03sHzDn/umt886JEP2na/6YvL6d/4dNcxreUlJzc5/7prLxM+efoEt9r5tpV2z6P6eZR/0ra1r/OoOwe4se3OHcJW+lz7oKsTr55H+XkBl43l8DA+7eXiO+1A3fvOubu/+3zVqetO3dfvwmQ9JnfOHv/t73/b2kWI0ITZz7brb/1leP7Cb89iOPw2e9x8j3W+0aU0Y8LndvlJdxzq1L3fztfPn/u5tfSzhIBN/6M+/OMajJ20kdtZr+5Y1MGynoBc1jPBApfOd7b7lWxOXW7yw156WG/nTNZu/aXuL8OQ3RvXojennnUmRXnuSEOy9nkRJE6P45OFZdp3ukfvz/nt5+xkn95mq997Ecy9tE9/4TcnXrzrOD995qd38o/fePJvrPlTH6sI981l9nx49G/++hoLs6/kfty31etL/gv0eR49/4jnrZ0zpujNf5shWvGXjeXwMD7dqaOavVhv59+K8iG68c516vMiSCpEjo+fMDJBxpV9H7/vmg3h9fU/+Xpvvky9LOsJ9Okv3bWrC1NhBJjJwke+8sgdebmp32lf+8S2+80QuHR8eFWUr/fdIVm8vuS/Rp/nUbdKMCFfXRjY9GtfqwVzPusvdX8ZhuzeuBbb3iFNdwbT7xXluSMNydrnRRBfedahz1q74FCP7h/p7foQVtO+60Uw99K+/YXf6NwfnDN54oFP3OEvnd+QKeGkD53Uy/VvCFym/bebqOZIee7HfVu9vuS/QF/n0fQTuO56Mvvq4kH5b9antfxGGyviAXzaS6c03SEM8T0/nmU9Abj0/XsxIn7yae+bvPsj71qXiaWvuukv630FyxD8pfOJr377K2uZV1hwCvHJAkLdZ9v9OiQu2932jY7neVQ/j/JP2rZ6Hl2QXsM8j/LzAi4D0Nxzq5D+qBtdOFv4TKeuO3ULv/+ibdRf9JdFfAZ/WWT7Vrb1PKqfR/knbVs9jxTli5wB+MtcRTyADewcfrzese0cclf3IrjeVxBM+ov+sohw9jzyPMrPmNzq9aXOZZHzrpVt9Ze6vwxAc8+tgqJcUZ57cGJVTCgmEreomvSXur+0IhAWaadiIj+V5FLnsoh/tbKt/lL3l7mKeAAbKMoV5bkHJ1ZFVl1kJbiaN+kvdX9pRSAs0k7FRH7JkEudyyL+1cq2+kvdXwaguedWQVGuKM89OLEqsuoiK8HVvEl/qftLKwJhkXYqJvJLhlzqXBbxr1a21V/q/jJXEQ9gA0W5ojz34MSqyKqLrARX8yb9pe4vrQiERdqpmMgvGXKpc1nEv1rZVn+p+8sANPfcKijKFeW5BydWRVZdZCW4mjfpL3V/aUUgLNJOxUR+yZBLncsi/tXKtvpL3V/mKuIBbKAoV5TnHpxYFVl1kZXgat6kv9T9pRWBsEg7FRP5JUMudS6L+Fcr2+ovdX8ZgOaeWwVFuaI89+DEqsiqi6wEV/Mm/aXuL60IhEXaqZjILxlyqXNZxL9a2VZ/qfvLXEU8gA0U5Yry3IMTqyKrLrISXM2b9Je6v7QiEBZpp2Iiv2TIpc5lEf9qZVv9pe4vA9Dcc6ugKFeU5x6cWBVZdZGV4GrepL/U/aUVgbBIOxUT+SVDLnUui/hXK9vqL3V/mauIB7CBolxRnntwYlVk1UVWgqt5k/5S95dWBMIi7VRM5JcMudS5LOJfrWyrv9T9ZQCae24VFOWK8tyDE6siqy6yElzNm/SXur+0IhAWaadiIr9kyKXOZRH/amVb/aXuL3MV8QA2UJQrynMPTqyKrLrISnA1b9Jf6v7SikBYpJ2KifySIZc6l0X8q5Vt9Ze6vwxAc8+tgqJcUZ57cGJVZNVFVoKreZP+UveXVgTCIu1UTOSXDLnUuSziX61sq7/U/WWuIh7ABopyRXnuwYlVkVUXWQmu5k36S91fWhEIi7RTMZFfMuRS57KIf7Wyrf5S95cBaO65VVCUK8pzD06siqy6yEpwNW/SX+r+0opAWKSdion8kiGXOpdF/KuVbfWXur/MVcQD2EBRrijPPTixKrLqIivB1bxJf6n7SysCYZF2KibyS4Zc6lwW8a9WttVf6v4yAM09twqKckV57sGJVZFVF1kJruZN+kvdX1oRCIu0UzGRXzLkUueyiH+1sq3+UveXuYp4ABsoyhXluQcnVkVWXWQluJo36S91f2lFICzSTsVEfsmQS53LIv7Vyrb6S91fBqC551ZBUa4ozz04sSqy6iIrwdW8SX+p+0srAmGRdiom8kuGXOpcFvGvVrbVX+r+MlcRD2ADRbmiPPfgxKrIqousBFfzJv2l7i+tCIRF2qmYyC8ZcqlzWcS/WtlWf6n7ywA099wqTPgB/ScDfUAf0Af0AX1AH9AH9IER+8BcUdz6BleLiFdExL9FxCNbh2H7d5nAwyLifbu8tRtKQAI1Aq+JiD+LiBvUNtAuAQlsSOCIiPj9DbfwQwkMnEAnxv8zIvj3rxFxs4HX2eoNh8CFEfHvEfErw6mSNZHAShJ4SUT8V0T8Q0Q8eCVbYKUl0B+B20XE/y0jy1fsrxoeWQK7R2BWjHehM/+xe7vzWw0S4MnKv5SL4PENtt8mS2CZBBDl3XWYJ5bHLnPn7ksCIyZwhYj4bjl/uKm9/4jbatNGSOBFZUSmu6vsOgJevzXC9tqk5RNgZJwnK53v/N3yD+EeGyTAo+cXN9humjwtyjmv/ndEfNFwlka9wWYvQuCjEcGAYtcfMWBkkcDKEOAu8i0R8aWI+MnUIx8c+oSVaYUV7ZMAYSvdBZBXRPmv9Vkhj73yBC4fEf9TBgz2WvnWLN6AWVHOecWNL0+jDl98d35DAk0QQIBzAzvdH9E/WSSwkgQIOzizxJL/c0QcuJKtsNLbSWA6bOX/TF0MT9nOSnis0RG4X0T8Y/GniyPiKqNr4cYN6kQ5czQQGN+IiK9FxB9HxAEbf9VPJdAkgcdMhVCiX7r+iLkZ12iSiI1eaQKPiojvRMTlyog5IzJ7r3SLrPxWE3hqGclEOJwdEf9UfIcRPWyX2uoKuP/REjhm6gaPR9GfGW1L84Z1opyYWJ5YvizfTKsEJBARP1P6HuZffCIiPhkRFxWRjpZ5uJQksEoEmBjBaNQDS6WfHRH/HRFXXaVGWNdeCHwwIm5ejowYZ9LwO8soxSt7qZEHHQOBC6ZEOSPFPJImTWArhbYyz+chEbFnRPy4lYbbTgnsJoE7TH3vs0XPHFzOo9OmPvOtBAZPgA6AuPLp0mIc53T7fb8YgetExN9PfeU5U+99K4FFCHBjxyNnxDiPoHkUzXtStD5hkR2t8Lb7RwQ3vF1h5O+x3R++SkACVQI8oe0GiNjo+RFxm+rWfiCBgRH4pRJ2gKiySGB3CTBaThoqiwQ2S+ChU4+dCalDkJJRAXHOjd+NNnuAFfz+b86I9BVsglWWwLYQuFdE/OG2HMmDSGALCLw/Il64Bft1l20R4MnKOW012dZuEYGPl0fOL4iIRxRB3h3qtt2bxl55ekBIoQuhNPbD29yFCTAf5eiFv+UXJDAAAneJiB8MoB5WYfUJ3M3RidX/EQfSgltNDRTcskxAH0jVeq3G6RHBUwSLBCRQJ8DgEP2RRQIrR4DFOYi3skhgswTuUXLdb3Y/fl8C0wSYhE58qCWChd5amuzqby6BRQncLCL+ctEvub0EhkDgpiVGk07PIoHNEtgnIr662Z34/cET6CPNJYuaOeclgljZLw/eQ6ygBPojQMjbbNKK/mrjkSWwAIEjI+L1C2zvphLYiMAvR8RZG23gZ4MicMOyDsFvlFCR4yKCJ2efiog/KiEjf1EmVpL1hPR8rLBJFhRe+ZucwOTRZmSKSb7nlqXgPxIRJ5ZR3UMj4kkR8YCIYFL5T+8GBfINd2k3d+Pro/nKtcuCSqNpkA2RwJIJsMCWq0kvGaq72x4C344IYsotElgGAbOvLIPi8vfBBEFGWAlTO6ms2MsiT+S9pgM7OSJeXT5/XOnQ7hQRtygLclyzTC68zEzV+JunbFePiOtHxB4RcbuIuHtEPCwinhgRjFqRq57jIvbPj4i/K6kNWZkS25sj4pCIeGREMIkzm8hIjOjtZ47f6p9/HRE3aLXxtlsCGxC4tXPkNqDjR4MmcMeyXPOgK2nlVooA4o0FXiz9ErhWROwbEW8o2XBYDfMrEfG6iHhKuRFHSPdZrhwRTOBk9PwZZUT9QxHBgkHkJf9+WZWP+OknRwQDCE7cuuQX+0ZE8FTKIgEJ7Ezg2DIIsLPVvySwAgQOjwgeV1sksEwChDJcY5k7dF+7RIBRbdKafiEi/j0iSCnIKPWdd+nbw9uIyVqsZEnoy7tKmAzhMohzRvYPKyP6uxMKM7zWLlYjcrbff7GvuLUEmiDwIxcJauJ3HmUjSa314FG2zEb1SeDMFRaCfXLbnWMzIv6skoaSmO43lWWlL707Oxv4d4hX/4XS4T6+jKx/rsRX8xlrLbCcNpONLz/wtmy2ev+rPAnZ7H78vgTGRIDrAuFwFgmsJAFiSunULRJYJoETIuLpy9yh+1pH4D5l9JgJl+8uISDrNhqZgVU8a9erX4yIJ5RJ618vE1HPKE8CH1Xi3ceEgxuQR4+pQbZFAksgQFYizneLBFaOABPyvrdytbbCq0AAQc6kPstyCRDO8TtlHggZbp4bEWTiaKFcNSL+ZYGG/lSZbEqIy8dKdhgmmBJjT6ddE/cLHKLXTT9YVjnttRIeXAIDInC/iDhvQPWxKhJYiABhK59Y6BtuLIFdI8CopSvE7hqreVshHrnJIUzjb8pI8K/M+9IIP79DRHxzk+1iYiQx9sTak8bxDyPiqBWdPIo/3HuTPPy6BMZEAD3z1DE1yLa0ReDAkoasrVbb2u0iQK5qYnstixNgVHj/iPhwyQPOpMZHLL6bUX3jNyPivUtuEaKWTA1nRwQpBplMSkjIVZZ8nK3YHRlqSP1mkYAEIhglv1AQElhlAjwGf+kqN8C6D5rAb7ui2kK/DytVkvYPIU6cOOEJxEhfaaG9rO7GrBAKA8LqyBbDwh+/HhEHlNzpLGT0+Yg4vixIREw1rMhCgp10j8SSE9bDDSGhKghX/tFZ84qN0XZEOJORGSn/YkR8pjyJ4HMa5tsAAB8ISURBVHsslAT/Py0Txl5VRtd/KyKYREbu9XtGxF4RQTgRmV8u1wN2QnnIPW+RgAQuyTjFjbtFAitL4BUl1djKNsCKD5oAC5v8d0Rcd9C17LdypDB8XkR8toRTnFKEHyPlYykIbVbwfGDJj35Eiesme8iXSnrDvy1C+CcR8SdlJVEyKMDj7RHxu2WRI+LByWfOgkSMaCOQSQuISN67iHnCXDjebSLiVhGxZ/nHe0aWWZiIBYgIZSEMiEWOmDT7oLJwESub8hTxnUXck4Lx4iLeqQ+rlHITgLBnTg51Zxsmzf95+Q6/J9tyA0F4DNlxqC/1pB4w2Uy5qeFhm8Hnd0dGgKeKTPC0SGClCTACRE5jiwS2igAL1SCoLJcQYDSYx6wwYeSWuPu3RsRDI2J2pcxVYfYzJUyJjvHIiCDzDiPPF5UbDYQ2k68Y0eazlxeRul9E3KMsHjQvzzgilHj6Pgqj4IzYI7L/JyJqqQi5kbpJEfyExSDCuYF4cbkJ4fvkj2fUHiYsjsTvz4g9I/6saMrTS56W8JSAG4harn9WPWXyqkUCrRMg9emfOb+idTcYR/sJXWHUyiKBrSLAKPk/Np6znBFbsqQgoljQhxEdzjuWsF+VwsguI9EIRp6w/UEJBfnXiCA3+lcj4j0lHI6JVveNCCb7smLnMsqzy8j1Mva1mX0gvFkNlZsORsi56dzdVTUR+zcufvDwMjr/stLOTxfxzsq4nD/fKpPyEe6EhTFR9W0RwQ2RRQItE3itYZIt//zjajtZCFi+2iKBrSRATDCjga0UYqIRpojUH5ZwjLeU0dahp+EjRhnxTfw0oSJk+Pirkk6QnN+kuXxRWbTmdts4IZJ4ccJLhlRYxIhRcBYt+lrJkHOFLaggo+Xc2NF+wmq4Kfq78qSF34YbPVY4JfMEvxnhUDx5IUxmK+qzBU10lxLYLQI8dWQOyNV369t+SQIDI/C4iHjfwOpkdcZJgBG+3x9n09bilwlTIDMIMcU8SmUxH4Q5EwGHWhhlJS0qIRMfKOKSkW8mSxLHzeg+I9436rkBdywx3T1XY8PDI5hPLXnUX19i2jf8wiY+ZHSd8JeuMBEYAc5vyRMFRu95KoNQJ0QGfyTGnXPw+WU7bhwtElhlAtxw/nFEEAZnkcAoCDDJiYwGFglsBwGE34nbcaAtPAYj3UwsZISUGOl/KOLnHRHxpJI5ZAsPv9u7ZiQJgc0o94dKLDMpAJlMSUpA4p8JNxliIeZ+VcLsiClnYiejd4xcMxF12WXRUJ6fK/MYnhkRvxcRp5UJqv9VQmTI8nNMScFJSNWYJhkvm737Gw4B+hJugC0SGA0BHosuskLeaBpuQ3ojQB7o0yMCoTD0Qq5qMnMwYkwoCqMyZNhg1BERg+C63kAbwUgoGUoQtEyyZKEcUv8xuZtJiz8/0HrPVosJnv+5oquWkp6NsBZSMLL407IKaRzJZLPZwoqnhMXsW256eJJFRhl8hXSQ3FS8utxsItaXNT9gs/X2+xLgmsx5YJHA6AjwiJP0YRYJbBcBJqpxM0iauKGUG5YR8ENLSBfnBbG6iKo3FmGCgBlqoW6MhJK7m1FaRBXhNAdFBOEfq1pIKchI/ioXnlDwdILf5bBN5p3nt/z+NsDYIyIeUlLmEopF7vf/KCFOtIUkAdzc3XIb6uIhJDBNgDCtv48I0slaJDA6AsSODkkcjQ6wDUoJsPAKca+kh2Py2nZNSLt2WVKdkUtib5nISBjHj0tGDVIVktqPXNZDLsSqP63cQJD9hPSDnMvUfVVGwefxxUfofMcyiYv2MFGWbCqEuNTSHW7EhScfh2+0wRZ/RogTI+svKRl4yCnPzSthkF1fwtOlsfxmW4zT3S9IgHOIp5XLeFK04KHdXALbQ+AxEfHR7TmUR5HAOgIs2sIEOUbhWEqeR/6ELGymXLqMojCiwsQ2Mp+QH5pMFYg8HnsSA06WCmbvM0o+9ELoAGnzGLX/TsnqwggmceyrEAq0O3yJfSZ+emwFYYtP8rTo6AVW5WTCLYsUzcvpvt28CPO6a8nYw2RSzi8mDCPYObeZx4CIYjExiwR2lwADETwBJCWpRQKjJcCkHpaUdrnm0f7EK9Ew8pmTraQLv2DkmlUTEc/diogIUFZbfGwZESZtH+EmxEkjUBn15tE+/kyaOkQdE9vIjMJiLn1nEVn0h2AlSm4qyFnNojVMyiSNKakIx174bYmBH3Mh7p+Rb0bOGf2+7JzG8hRnlRbiIrSFc/WVZR4Jed1ZLIkVUZkoTXiMedbn/Oh+vEaAgQdCChlIsUhg9AR4pNrnI9HRA7aBCxP42ZIthBANOnBm2bPsOZPRiJXGZxmVI2fzIWWEndhd4gxZlGVVCytccpNBWA+p7GgjI+RXXNUG7Ua9+Q15crLKsfCLNJt0htxU/qjMAci+i8CFyaqPNiOuHlVWdSV7Eau0ItSJU6cPIrMRC1VZJNAR4MkSk+xdfbwj4uvoCXDB/+9GRuBG/2PawJUjwKN9whmIDWdCHfG6u7tK5Mo1PqkwoUY8IWitkKKWUEKy5czmXmZ0mZvPMRbmQDBplBF1nnaxiilzJLgBJ8sGoTGrfKM9xt9su9rEb88E6TGGsW0XQ4+zogSY+MbjoVWIr11RxFZbAjsIsNgMoTmszPiliDg4IlghsvXC5FuehLRcWI2TFXAJv7pzEabcqLRUeHpASk+y73yjhG+xqBVPzB7vudKEK7B2AnMo+L0tEmiSAKnqeEw05NRvTf4wNnoUBO4VEW8qj+wR4owCstiM5RICzylPCi4vkDUCpLgk3pxVORHnLRdyqt+t3LyeUkK7mLj94ZJm8lcbC/Eauy8QssjqyPyuFgk0TYAJVnQCT26ago2XwHIIsAYACw0xAZXQFCamkgPasjMBskAxuXeoq4ruXNvt+QsWpOtkER8mSS5zAaLtacHWHuXGJcyHya9kfCEEk9F0JnczysrnltUiwGR8QrXweZ/ar9ZvZ223kMDeEXFGRLD8sp3kFoJ216MkcM2ykA9CgcmaTEa9/ShbupxGEcrDqp3kt7ZcQoAnKDy17NaQIN6ceOvPNDQBdlFfIHvNPiX2nomj3OR9r6zGy1oIQ197YNH2jm171lggnI9RcosEJJAQYFTvnyPiDSuYTi5pjiYJbCkBcp6/p6RkZJKaC1zMx/2AMsIpq//PilSJtWwThLSweAoralrmEyCJAXmtTyj5/X9SRmKZNMvgk6V/AsylIZ89cwe8Me//97AGAydw/TLS92/lwtZKmrKB/yxWbyAErldCUpgkzeQ8RjYZKbfMJ0CqR/Kvk6/acgkB4qZJjbhRtglye3PTd27Jvy+7XSdASASZbQhxIZyMfo2nD0dGBHM+iF23bA8BnmyQaYprgCmZt4e5RxkRAVaRYyIoq7R9tcQ3ssqgRQItEmACErmlyQ7A8uKIKcuuEyCzBk/heLpguYQAq9kiUFgga1cK25FGk7z2lt0jcPWIIHyKEDP6NeLSWbSKJxH45hV2b7d+aw4BJnVz83liRJAS0yIBCWyCwMPKkuj/VeLOSVmkQN8EUL+6MgRYdZTJZN8qq8vRqVsWI8DNPctl32mxr416ayYr8rSF2PFFyrXKQlrn+Oh/EWzVbVmkCzH+spKqlNWByZT08rKw0VWq3/SDeQRgxwJALBb1gYi4y7wv+LkEJLAYAToERryYEMpErdPLoh8sD26RwFgIEC5wdJk4Rgq2B4+lYT20g2Xlv2wqyB3kCQf8WpmLcNUd1sXfMEnuHyLidxb/qt/YgAAinZWCOf+ZaMuqqsQ+ky/9sRHBCqWWjQncofAiVOhd3oxvDMtPJbAsAtwFP7LkYSbEhbthHu+TWvFmyzqI+5HANhKgMyE0hRShTHa+9TYee2yHYjIXYvydY2vYJtqDgP7XJaY6JAUg6eQ+7TV3E7/Kxl+9VJkg+oIy2vvDsuIkA1OHRcR9nFOyBvAGZX4NGah4KkbsuCkqN/YtP5XAlhJg1jt5dclGcXGJffyD8viKGdbG6m0pfne+CQL3jghSqrG8MxOQeCJk2X0CjCiydDqrlloiyDhDuAkZJ7YinpbMImRoeZywt4UAvyF50V9T4tFhf1FEvL8I9fs3knObPv955YkC80VOMgPVtvifB5HAbhFgtJyJSa+NiK9ExL9HxIUliwCdNULoOru1Z78kgeUQIBsIj6gviAgW0bJsngBPGEjvd8/N72rl98CaD+8rqfkQcVtZ7lFi1LneWrafwK3K8vAIdbK7sAgUedM/GxGvKwNW/EZkb1rVQp9O2BRPE79bRsQJT3toRPBEwSIBCawQgUtHBOEBTyrpqRBDfzN14SJmD2G06heuFfpJmq3qr5e43j9aIPNFs7B2seE8xmcy7Ntc/nxtZUKE2L9ExIt2kd8yNrtSeVJJNhHChyz9EmBuyq+V0WSELINT9HksmMPkcdJcHlXmadHv3TQi6Cf7LpcvCy+x6i4TXllt868i4s/L04CDIuI2fVfS40tAAltDgJXseNzHYzDuuulQuADw+JsJNieXSTekDyMNnUvxbs3v0MJe6WTILU7nyHwIy+YJXCYijivpzuDbckGEkVWFDB6vjojr9gSD+Oe/j4hH9HR8D7sxAfzirmXUmdhrJkOS8YXVgEnRSOpArlPMF6BPZNIp6yHw5Jm+kiwmhI6wRD1rJMwLDWUUmxs2nkwzUZXVhsnRzuAE+z2m1IG+F+HNnBqeHhJuRT53sq8ZH77xb+qnEhg9AfKkky6M9Issw8uFCzFF3C8XDSaXkv2FEQgmUCHaudAwQjTvIjV6eDZwJwL7lpEpJh4SsmJZDgE69e8X4dDyAkqELry55LAnfOFnl4N3U3thhBZxt50j9ZuqsF9eI4CARmzfuVyrmKeFMOZJ8nsj4pMRcUYJBSW5AqPuhIaS755+kYwnTCbmH3bWVUDo8zej9JyvzG/gSfUpZUI782i6/tPsMjqiBCSwMAEyv9ARMoHqaSXHLJNMuNAw4YbHxqQLI4ad+D4EPYtFsIABQoJHhbeIiGssfGS/sEoEWCSEESg6sUetUsUHXley0pB94uxyDg68ultWPUYt4UD8MCOefY2M1xrI6CbXRK6NlvETYHVSUjqyhgj/eH+58TfbFkpAAqtAgJH225bHfeRWZwET4jyZIf+FMinqJ2UkgVXyziuTcgiXYbIao/PPjAgeyZO3dq8S83e1VWh843UkzIk4yPPNSLFUTyCvNmEZjLqxKEiLhRv555brBSEGjGQOIQ54o9+CEAieMhKzbJGABCQgAQkMlgChLjxuZhIqK7sRt/fsMgHnjSV7AnmAiW//XonVJGaUmE1SP/Io8PMlpR4jUgh/lmwmrpNRfNLDMWJLWkhi+czhvnWuQLYLUnLyWPfArTtMk3vu4pSPj4jrN0iAcBB8izABnrwRKrdK5dCIIMc21yGLBCQgAQlIYLQEmHzKSDorP7IsOzF6xAAy6k5KrG+WWHhi/BhlpHNkFJfQClaM7MQ8M/GfX/ZBmA2Px5kQxEx3JsSaPzt3IZ5eMIIL3yNWYOQyb8UwrWRE4uaT+FNuKlsq3KgT9sZiKIRAMSnu2isMgKd+3FQw8GCRgAQkIAEJSGCKAPF+Ny+rwrESKhNWmTDGrHtSZiEGEPHEyDMz/6yyeh9i/00lXRUjmAdExH5lpJ8JQszMJxMEYnXs+WN5qkEYEk81WhzBnXKnpb7lKc93IuJjZQ7GUnc+4J1xA8zEOsLZmExOZoox3YzsUwYIuPm3SEACEpCABCSwSQLEhjIqT1wveaEZjWcxh/+IiL8tgoKQGx63k66ODAyILLKQjKXQfm5SPhoRdxxLowbQDm5yCNNCjLPAVwuFG9mXladXZKfgnEG8jrUQQsck3WPH2kDbJQEJSEACEhgiAZaE7hZ/IBZ21QuCgicF3y5PB1a9PUOoP5OimdhMFhHCVMYsSOHNPBJSY76lzD8glIwRcULFWilXL0/dmARqkYAEJCABCYyKAJM//ScDfUAf0Ae21wdG1ZHYGAlIQAIS2DyByTLLOeecMzn77LPX/p111lmT2X/dZ2x37rnnTs4777zJ+eefP7ngggsm3/72tycXXXTR5Lvf/e7k4osvnvzgBz+Y/OhHP1pm9XZ5X9yoWNYTkMt6JljkIpecQG4tAyGbv3q7BwlIQAISGBWBvNdo3KrIyh1ALnLJCeRW/aXOZVS9iI2RgAQkIIGlEMh7jcationcAeQil5xAbtVf6lyWcvV2JxKQgAQkMCoCea/RuFUxkTuAXOSSE8it+kudy6h6ERsjAQlIQAJLIZD3Go1bFRO5A8hFLjmB3Kq/1Lks5ertTiQgAQlIYFQE8l6jcatiIncAucglJ5Bb9Zc6l1H1IjZGAhKQgASWQiDvNRq3KiZyB5CLXHICuVV/qXNZytXbnUhAAhKQwKgI5L1G41bFRO4AcpFLTiC36i91LqPqRWyMBCQgAQkshUDeazRuVUzkDiAXueQEcqv+UueylKu3O5GABCQggVERyHuNxq2KidwB5CKXnEBu1V/qXEbVi9gYCUhAAhJYCoG812jcqpjIHUAucskJ5Fb9pc5lKVdvdyIBCUhAAqMikPcajVsVE7kDyEUuOYHcqr/UuYyqF7ExEpCABCSwFAJ5r9G4VTGRO4Bc5JITyK36S53LUq7e7kQCEpCABEZFIO81GrcqJnIHkItccgK5VX+pcxlVL2JjJCABCUhgKQTyXqNxq2IidwC5yCUnkFv1lzqXpVy93YkEJCABCYyKQN5rNG5VTOQOIBe55ARyq/5S5zKqXsTGSEACEpDAUgjkvUbjVsVE7gBykUtOILfqL3UuS7l6uxMJSEACEhgVgbzXaNyqmMgdQC5yyQnkVv2lzmVUvYiNkYAEJCCBpRDIe43GrYqJ3AHkIpecQG7VX+pclnL1dicSkIAEJDAqAnmv0bhVMZE7gFzkkhPIrfpLncuoehEbIwEJSEACSyGQ9xqNWxUTuQPIRS45gdyqv9S5LOXq7U4kIAEJSGBUBPJeo3GrYiJ3ALnIJSeQW/WXOpdR9SI2RgISkIAElkIg7zUatyomcgeQi1xyArlVf6lzWcrV251IQAISkMCoCOS9RuNWxUTuAHKRS04gt+ovdS6j6kVsjAQkIAEJLIVA3ms0blVM5A4gF7nkBHKr/lLnspSrtzuRgAQkIIFREch7jcationcAeQil5xAbtVf6lxG1YvYGAlIQAISWAqBvNdo3KqYyB1ALnLJCeRW/aXOZSlXb3ciAQlIQAKjIpD3Go1bFRO5A8hFLjmB3Kq/1LmMqhexMRKQgAQksBQCea/RuFUxkTuAXOSSE8it+kudy1Ku3u5EAhKQgARGRSDvNRq3KiZyB5CLXHICuVV/qXMZVS9iYyQgAQlIYCkE8l6jcatiIncAucglJ5Bb9Zc6l6Vcvd2JBCQgAQmMikDeazRuVUzkDiAXueQEcqv+Uucyql7ExkhAAhKQwFII5L1G41bFRO4AcpFLTiC36i91Lku5ersTCUhAAhIYFYG812jcqpjIHUAucskJ5Fb9pc5lVL2IjZGABCQggaUQyHuNxq2KidwB5CKXnEBu1V/qXJZy9XYnEpCABCQwKgJ5r9G4VTGRO4Bc5JITyK36S53LqHoRGyMBCUhAAkshkPcajVsVE7kDyEUuOYHcqr/UuSzl6u1OJCABCUhgVATyXqNxq2IidwC5yCUnkFv1lzqXUfUiNkYCEpCABJZCIO81GrcqJnIHkItccgK5VX+pc1nK1dudSEACEpDAqAjkvUbjVsVE7gBykUtOILfqL3Uuo+pFbIwEJCABCSyFQN5rNG5VTOQOIBe55ARyq/5S57KUq7c7kYAEJCCBURHIe43GrYqJ3AHkIpecQG7VX+pcRtWL2BgJSEACElgKgbzXaNyqmMgdQC5yyQnkVv2lzmUpV293IgEJSEACoyKQ9xqNWxUTuQPIRS45gdyqv9S5jKoXsTESkIAEJLAUAnmv0bhVMZE7gFzkkhPIrfpLnctSrt7uRAISkIAERkUg7zUatyomcgeQi1xyArlVf6lzGVUvYmMkIAEJSGApBPJeo3GrYiJ3ALnIJSeQW/WXOpelXL3diQQkIAEJjIpA3ms0blVM5A4gF7nkBHKr/lLnMqpexMZIQAISkMBSCOS9RuNWxUTuAHKRS04gt+ovdS5LuXq7EwlIQAISGBWBvNdo3KqYyB1ALnLJCeRW/aXOZVS9iI2RgAQkIIGlEMh7jcationcAeQil5xAbtVf6lyWcvV2JxKQgAQkMCoCea/RuFUxkTuAXOSSE8it+kudy6h6ERsjAQlIQAJLIZD3Go1bFRO5A8hFLjmB3Kq/1Lks5ertTiQgAQlIYFQE8l6jcatiIncAucglJ5Bb9Zc6l1H1IjZGAhKQgASWQiDvNRq3KiZyB5CLXHICuVV/qXNZytXbnUhAAhKQwKgI5L1G41bFRO4AcpFLTiC36i91LqPqRWyMBCQgAQkshUDeazRuVUzkDiAXueQEcqv+UueylKu3O5GABCQggVERyHuNxq2KidwB5CKXnEBu1V/qXEbVi9gYCUhAAhJYCoG812jcqpjIHUAucskJ5Fb9pc5lKVdvdyIBCUhAAqMiMKHj9J8M9AF9QB/YVh8YVUdiYyQgAQlIQAISkIAEJCABCUhAAhKQgAQkIAEJSEACEpCABCQgAQlIQAISkIAEJCABCUhAAhKQgAQkIAEJSEACEpCABCQgAQlIQAISkIAEJCABCUhAAhKQgAQkIAEJSEACEpCABCQgAQlIQAISkIAEJCABCUhAAhKQgAQkIAEJSEACEpCABCQgAQlIQAISkIAEJCABCYyewGUj4tKjb6UNlIAEJCABCUhAAhJogsDPlCWtnzvT2gcU+11m7Jv984rJEtpnRsQBc3Z8+Yh4ckRcqWz31Yh4/Jzv7O7HT4iIH1a+zHGfWPmsMz8iIvbo/vBVAhKQgAQkIAEJSEACu0LgOUUo37BsjHD+fkS8dVe+vOA2iOpJRDwkIq4bEdwUPKPYfnGDfV1rpo5bKcr3j4i/rtTl9hFxg8pnnfm8iNiv+8NXCUhAAhKQgAQkIAEJ7AoBQkHOjoj3lo2PiIh/igiE8DUi4t3lb4R6N6J914j46NTO946ID5S/nxQRR0fECYmw70Q523eFMBSO98yIOCUi+H5XGJV+T0R8oYhyBO9PRwSi/PhiR0C/NiIuU7700Ii4sOzzwxFxo2J/eqkX++M7p5V9dcfqXjcS5RzzQWVDRsSpF3WH0dUi4qWlnoy036fboa8SkIAEJCABCUhAAhLYFQJ3LGLyKeX1MeVLCPWLIgKh+9jy2f0igvCW6RAPhCqinXJ42e5TEXHPYuteOlGOYOX9dYrQZ/T8lkXUIri78uWIeHFEcEy2QQj/VBHl/P20qZH2u0fEnmU7RPqdI+LjZdtLRcRR5bMjI2LfIsx5P1s2EuXUjZsG6s3xGRGnLdwsPD8iblE4sF+2sUhAAhKQgAQkIAEJSGAhAscVoYmYpjDyi/BEEHcFkU5YyzxRzkh0NhGzE+Xst/vHtoeVAxAegv16JbyF97cto/a870JsEMeI7K4w0v/UiDgmIs7ojBFBSAzfu3HZHpHfFbbtng50Nl53RZSzP/Z7UERcpewfQU4xfKWA8EUCEpCABCQgAQlIYHEC1y9Cc5/y1VuVv689tSuEMGErs6L8YTMj5ZnYZTedKGcknsmQ/Lvc1P55y4g7YSuIY0bpKVlM+fSEy89Nhb9wc9GVbmLpXkWUn9h9EBGHRsQHp/7u3u6KKGfbgwsfxDkj8r9QdqAo70j6KgEJSEACEpCABCSwMAHixxGYv1y+2QloRqq7cmoRs4hyRri78qwFRfl0THm3j+6VcBViwRHMxLdTMlE+nX2lE+Vs38W2873blDaRvYUbindcsru1/zcjyrlRuVlEsF9CdBiB725EFOVTkH0rAQlIQAISkIAEJLAYgVlRzrcRxwjZq5cJk0xqZNQZoY6AJ46b2GkmVk7HlHcCdbYGndDfSJR3Qpr9E2dO6erG6D2F8JVMlN+hTLy8W9nu2KkJqYuIctpJG6f/Xbkcl5jy7jg/X47DvhktpxBKw6RSiwQkIAEJSEACEpCABBYmgPCeHilnB4hnBCp2/iHQyXJCxpbTi43PEe+dKH9RyZiSVaALJ9lIlPM9wlbIXz5dEOLUgbjymihnQufJU/ViNP9OZSeZKJ8eVe+ORfhK197pVzLOcNwubIanBnzOMagvn1OIVcduWsQCxBcJSEACEpCABCQggc0TuEJEMEI9HVve7ZU4dLKhLLsw2jydGrHb/zW7N3NeEe5MvOTmYSvLTaZiyaePQ7hNl6Jx2u57CUhAAhKQgAQkIAEJDJ4AYSFvKqPPhLpYJCABCUhAAhKQgAQkIIFtJkAM9yFTC/5s8+E9nAQkIAEJSEACEpCABCQgAQlIQAISkIAEJCABCUhAAhKQgAQkIAEJSEACEpCABCQgAQlIQAISkIAEJCABCUhAAhKQgAQkIAEJSEACEpCABCQgAQlIQAISkIAEJCABCUhAAhKQgAQkIAEJSEACEpCABCQgAQlIQAISkIAEJCABCUhAAhKQgAQkIIHhEfh/Zj+Kz6L7+u0AAAAASUVORK5CYII=)\n",
        "\n",
        "* А такое хранение позволяет гораздо проще итерироваться по массиву (итерация идет с помощью strides, говорящая, по сути, сколько бит надо пройти до следующего значения в строке/столбце)\n",
        "\n",
        "Рассмотрим ситуацию с транспонированием: это же в Python надо брать и прямо переворачивать! А вот в Numpy мы по сути не меняем хранение данных, мы просто делаем другие strides!\n",
        "\n",
        "Попробуйте запустить:\n",
        "\n",
        "```\n",
        "b = np.matrix(b)\n",
        "print(b.strides)\n",
        "print(b.T.strides)\n",
        "```\n",
        "\n",
        "И вы увидите, что поменялись strides (что говорит о том, что данные остались на местах, мы просто изменили то, как по нему ходить)\n",
        "\n",
        "* Код в Numpy - это прекомпилированный код, написанный на C (то есть мы проходим более быстрый путь от компиляции до выполнения)"
      ],
      "metadata": {
        "id": "S-a737S3sbVJ"
      }
    },
    {
      "cell_type": "markdown",
      "source": [
        "В целом этого уже достаточно, чтобы использовать Numpy (а теперь представьте, если делать все преобразования с массивами в моделях ML делать с помощью чистого Python, было бы безумие)"
      ],
      "metadata": {
        "id": "W2J0titiyqBy"
      }
    },
    {
      "cell_type": "code",
      "source": [
        "b = np.matrix(b) # b - матрица 100 на 50\n",
        "\n",
        "print(b.strides) # один элемент занимает 8 байт, поэтому чтобы перейти к новой строке, нам надо пройти 100*8 байт, а к новому столбцу - 8 байт\n",
        "print(b.T.strides)"
      ],
      "metadata": {
        "id": "Gkeo2d0ewG3J",
        "colab": {
          "base_uri": "https://localhost:8080/"
        },
        "outputId": "89dfa600-54e3-4d35-b4fb-25501de8b3ce"
      },
      "execution_count": 7,
      "outputs": [
        {
          "output_type": "stream",
          "name": "stdout",
          "text": [
            "(800, 8)\n",
            "(8, 800)\n"
          ]
        }
      ]
    },
    {
      "cell_type": "markdown",
      "source": [
        "## Как пользоваться?"
      ],
      "metadata": {
        "id": "HCsxKs-uzIKN"
      }
    },
    {
      "cell_type": "markdown",
      "source": [
        "А теперь о том, как пользоваться и что надо знать (будем учить матчасть)\n",
        "\n",
        "Самое полезное - [документация](https://numpy.org/doc/stable/reference/index.html) (к ней в любом случае надо будет обращаться, знать все невозможно)"
      ],
      "metadata": {
        "id": "ud2Z1UsazMp-"
      }
    },
    {
      "cell_type": "markdown",
      "source": [
        "#### Создание\n",
        "\n"
      ],
      "metadata": {
        "id": "COyBZ83jzutH"
      }
    },
    {
      "cell_type": "markdown",
      "source": [
        "Массивы в Numpy называются ndarray (n-dimensional array). Массив можно создать из любого массива в Python, можно также создать из коробки\n",
        "\n",
        "Обратите внимание: чтобы создать нормально ndarray из питоновских списков, нужно иметь в виду:\n",
        "\n",
        "* Все элементы должны быть одного типа данных (иначе вы можете создать массив, состоящий из питоновских листов, будет грустно, никакого эффекта), не полагайтесь на ум numpy\n",
        "\n",
        "* Если у вас все ок, но при этом есть одни элемента float, другие int, то он может не привести самостоятельно все в формат float. Так что будет славно, если вы укажете тип элементов в ndarray"
      ],
      "metadata": {
        "id": "Nveij5AAzyTQ"
      }
    },
    {
      "cell_type": "code",
      "source": [
        "a = [1, 2, 2.7]\n",
        "\n",
        "print(np.array(a))\n",
        "print('-' * 30)\n",
        "print(np.array(a, int)) # второй аргумент - тип. Если указать, то он попробует перевести все элементы в этот типа\n",
        "print('-' * 30)\n",
        "print(np.array(a, str)) # со строками тоже работает\n",
        "\n",
        "a = [[1, 2, 'str'], [1, 2 ,3]]\n",
        "\n",
        "print('-' * 30)\n",
        "np.array(a) # он приведет, но хотели ли вы этого?.."
      ],
      "metadata": {
        "id": "AjmtZo7r0l9T",
        "colab": {
          "base_uri": "https://localhost:8080/"
        },
        "outputId": "e0e72f66-04e3-4c3b-e7a1-acb01ef76d03"
      },
      "execution_count": 8,
      "outputs": [
        {
          "output_type": "stream",
          "name": "stdout",
          "text": [
            "[1.  2.  2.7]\n",
            "------------------------------\n",
            "[1 2 2]\n",
            "------------------------------\n",
            "['1' '2' '2.7']\n",
            "------------------------------\n"
          ]
        },
        {
          "output_type": "execute_result",
          "data": {
            "text/plain": [
              "array([['1', '2', 'str'],\n",
              "       ['1', '2', '3']], dtype='<U21')"
            ]
          },
          "metadata": {},
          "execution_count": 8
        }
      ]
    },
    {
      "cell_type": "markdown",
      "source": [
        "Из коробки можно создать много разных массивов, например:"
      ],
      "metadata": {
        "id": "GlbQCK0G16Kp"
      }
    },
    {
      "cell_type": "markdown",
      "source": [
        "* np.zeros - создать массив из нулей (аргументы - tuple размеров, опционально - тип)"
      ],
      "metadata": {
        "id": "Q7_lNv_b2Fx1"
      }
    },
    {
      "cell_type": "code",
      "source": [
        "np.zeros((3, 4), dtype=int)"
      ],
      "metadata": {
        "id": "1G4R8Wy32Bo7",
        "colab": {
          "base_uri": "https://localhost:8080/"
        },
        "outputId": "91e323e0-0b41-4412-fc0f-367c7169bae2"
      },
      "execution_count": 9,
      "outputs": [
        {
          "output_type": "execute_result",
          "data": {
            "text/plain": [
              "array([[0, 0, 0, 0],\n",
              "       [0, 0, 0, 0],\n",
              "       [0, 0, 0, 0]])"
            ]
          },
          "metadata": {},
          "execution_count": 9
        }
      ]
    },
    {
      "cell_type": "markdown",
      "source": [
        "* np.ones - создать массив из единиц (аргументы - tuple размеров, опционально - тип)"
      ],
      "metadata": {
        "id": "aHrTN3wy2OYW"
      }
    },
    {
      "cell_type": "code",
      "source": [
        "np.ones((3, 4), dtype=float)"
      ],
      "metadata": {
        "id": "AHtGlcKW2aZX",
        "colab": {
          "base_uri": "https://localhost:8080/"
        },
        "outputId": "d49702e9-c2e0-4eb1-cbac-4c6ac36322f2"
      },
      "execution_count": 10,
      "outputs": [
        {
          "output_type": "execute_result",
          "data": {
            "text/plain": [
              "array([[1., 1., 1., 1.],\n",
              "       [1., 1., 1., 1.],\n",
              "       [1., 1., 1., 1.]])"
            ]
          },
          "metadata": {},
          "execution_count": 10
        }
      ]
    },
    {
      "cell_type": "markdown",
      "source": [
        "* np.eye - создать массив из нулей и единиц на главной диагонали (аргументы - размеры матрицы, опционально - тип)\n",
        "\n",
        "* np.identity(n) - создать единичную матрицу размера $n \\times n$"
      ],
      "metadata": {
        "id": "claVuHSc2Sdw"
      }
    },
    {
      "cell_type": "code",
      "source": [
        "np.eye(4, 3, dtype=str)"
      ],
      "metadata": {
        "id": "2sj8lJAF2dU7",
        "colab": {
          "base_uri": "https://localhost:8080/"
        },
        "outputId": "6f5d56dd-9e2b-4d1b-fc49-b07393bc7607"
      },
      "execution_count": 11,
      "outputs": [
        {
          "output_type": "execute_result",
          "data": {
            "text/plain": [
              "array([['1', '', ''],\n",
              "       ['', '1', ''],\n",
              "       ['', '', '1'],\n",
              "       ['', '', '']], dtype='<U1')"
            ]
          },
          "metadata": {},
          "execution_count": 11
        }
      ]
    },
    {
      "cell_type": "markdown",
      "source": [
        "* np.empty - создать массив из рандомных элементов"
      ],
      "metadata": {
        "id": "1Mxc18Kb2_hA"
      }
    },
    {
      "cell_type": "code",
      "source": [
        "np.empty((2, 3), float)"
      ],
      "metadata": {
        "id": "IbBWyt8L3Ebe",
        "colab": {
          "base_uri": "https://localhost:8080/"
        },
        "outputId": "cc2108ff-8eca-4bc4-d820-81c6997323b8"
      },
      "execution_count": 12,
      "outputs": [
        {
          "output_type": "execute_result",
          "data": {
            "text/plain": [
              "array([[4.94816063e-310, 0.00000000e+000, 3.68067497e+180],\n",
              "       [2.46345036e-154, 2.65141253e+180, 3.99461109e+252]])"
            ]
          },
          "metadata": {},
          "execution_count": 12
        }
      ]
    },
    {
      "cell_type": "markdown",
      "source": [
        "Функции для созданий одномерных массивов:\n",
        "\n",
        "* np.arange(a, b, step) - аналог range (получаем массив)\n",
        "\n",
        "* np.linspace(a, b, num, enndpoint=True) - получить равномерно $num$ значений от $a$ (включительно) до $b$ (до endpoint - включительно или нет)\n",
        "\n",
        "* np.logspace(a, b, num, endpoint=True, base=10.0) - получить равномерные значения по логарифмической шкале (от $base^a$ до $base^b$)"
      ],
      "metadata": {
        "id": "tGx-rdyF3iY4"
      }
    },
    {
      "cell_type": "code",
      "source": [
        "print(np.arange(0, 10))\n",
        "print(np.linspace(0, 10, 11, endpoint=True))\n",
        "print(np.logspace(2, 4, 5, endpoint=True, base=2))"
      ],
      "metadata": {
        "id": "J7kzEiIz6CtN",
        "colab": {
          "base_uri": "https://localhost:8080/"
        },
        "outputId": "cd5516f0-c50b-4f16-f06e-9cabc4294a56"
      },
      "execution_count": 13,
      "outputs": [
        {
          "output_type": "stream",
          "name": "stdout",
          "text": [
            "[0 1 2 3 4 5 6 7 8 9]\n",
            "[ 0.  1.  2.  3.  4.  5.  6.  7.  8.  9. 10.]\n",
            "[ 4.          5.65685425  8.         11.3137085  16.        ]\n"
          ]
        }
      ]
    },
    {
      "cell_type": "markdown",
      "source": [
        "Теперь про другие способы создать ndarray. Очевидно, что вам часто потребуется загрузить из каких-то других источников (например, вам дали файл и сказали: делай)\n",
        "\n",
        "Варианты:\n",
        "\n",
        "* np.loadtxt(file, delimeter, skiprows=0) - возьми данные из текста, разделяются через delimiter (например, \\t - табами), скипни skiprows строк (если там вам не нужны названия, например)\n",
        "\n",
        "* np.fromstring(s, sep) - загрузи из строки\n",
        "\n",
        "* np.load(file) - загрузи из файла (работает для всяких штук типа .npy, .npz)"
      ],
      "metadata": {
        "id": "gliffqjDeIbh"
      }
    },
    {
      "cell_type": "markdown",
      "source": [
        "#### Индексация"
      ],
      "metadata": {
        "id": "LhG9AH7-beOC"
      }
    },
    {
      "cell_type": "markdown",
      "source": [
        "Тут все достаточно просто - обращение как в питоновских списках"
      ],
      "metadata": {
        "id": "tpE5CSDXbgvp"
      }
    },
    {
      "cell_type": "code",
      "source": [
        "a = np.arange(28)\n",
        "a = a.reshape(2, -1)\n",
        "print(a)\n",
        "\n",
        "\n",
        "print(a[0][0], a[0, 0]) # обращение к элементу, несколько вариантов\n",
        "print(a[:1]) # вывести строку\n",
        "print(a[-1][5:7]) # вывести последнюю строку и часть столбцов\n",
        "print(a[:, 5:7]) # вывести столбцы"
      ],
      "metadata": {
        "id": "tFeE55oybl_N",
        "colab": {
          "base_uri": "https://localhost:8080/"
        },
        "outputId": "4e4fab79-a622-47a5-9bcf-d989f57b1ed6"
      },
      "execution_count": 16,
      "outputs": [
        {
          "output_type": "stream",
          "name": "stdout",
          "text": [
            "[[ 0  1  2  3  4  5  6  7  8  9 10 11 12 13]\n",
            " [14 15 16 17 18 19 20 21 22 23 24 25 26 27]]\n",
            "0 0\n",
            "[[ 0  1  2  3  4  5  6  7  8  9 10 11 12 13]]\n",
            "[19 20]\n",
            "[[ 5  6]\n",
            " [19 20]]\n"
          ]
        }
      ]
    },
    {
      "cell_type": "markdown",
      "source": [
        "#### Арифметика"
      ],
      "metadata": {
        "id": "k2QnwLxT6eeU"
      }
    },
    {
      "cell_type": "markdown",
      "source": [
        "Ну почти как везде (операции с числами считаются как операции со скаляром):\n",
        "\n",
        "* +, - - сложение-вычитание (поэлементно)\n",
        "\n",
        "* \\* - умножение (поэлементное)\n",
        "\n",
        "* .T - транспонирование\n",
        "\n",
        "* A.dot(B) - перемножение матриц"
      ],
      "metadata": {
        "id": "8e4gNoeO6g1h"
      }
    },
    {
      "cell_type": "code",
      "source": [
        "np.random.seed = 1514 ##зададим какой-нибудь seed\n",
        "\n",
        "a = np.empty((3, 3))\n",
        "b = np.empty((3, 3))\n",
        "\n",
        "print(a)\n",
        "print(b)\n",
        "print(a + b)\n",
        "print(a - b)\n",
        "print(a * b)\n",
        "print(a.dot(b))"
      ],
      "metadata": {
        "id": "22kBGRGD7Pnm",
        "colab": {
          "base_uri": "https://localhost:8080/"
        },
        "outputId": "71a78f10-0403-4ef6-8503-d26e1366ff07"
      },
      "execution_count": 17,
      "outputs": [
        {
          "output_type": "stream",
          "name": "stdout",
          "text": [
            "[[4.94816087e-310 0.00000000e+000 0.00000000e+000]\n",
            " [0.00000000e+000 0.00000000e+000 0.00000000e+000]\n",
            " [0.00000000e+000 0.00000000e+000 0.00000000e+000]]\n",
            "[[4.9481609e-310 0.0000000e+000 0.0000000e+000]\n",
            " [0.0000000e+000 0.0000000e+000 0.0000000e+000]\n",
            " [0.0000000e+000 0.0000000e+000 0.0000000e+000]]\n",
            "[[9.89632177e-310 0.00000000e+000 0.00000000e+000]\n",
            " [0.00000000e+000 0.00000000e+000 0.00000000e+000]\n",
            " [0.00000000e+000 0.00000000e+000 0.00000000e+000]]\n",
            "[[-2.26471e-318  0.00000e+000  0.00000e+000]\n",
            " [ 0.00000e+000  0.00000e+000  0.00000e+000]\n",
            " [ 0.00000e+000  0.00000e+000  0.00000e+000]]\n",
            "[[0. 0. 0.]\n",
            " [0. 0. 0.]\n",
            " [0. 0. 0.]]\n",
            "[[0. 0. 0.]\n",
            " [0. 0. 0.]\n",
            " [0. 0. 0.]]\n"
          ]
        }
      ]
    },
    {
      "cell_type": "markdown",
      "source": [
        "Умножений, на самом деле, есть несколько:\n",
        "\n",
        "* a * b - поэлементный (обратите внимание, если a и b типа matrix, то это просто умножение)\n",
        "\n",
        "* a.dot(b) и np.dot(a, b) - умножение матриц (a на b)\n",
        "\n",
        "* np.matmul(a, b) и a @ b - умножение матриц, но тут сложнее :)"
      ],
      "metadata": {
        "id": "dTabSUVE8Sru"
      }
    },
    {
      "cell_type": "markdown",
      "source": [
        "\n",
        "Функции numpy.dot и numpy.matmul (также известная как @ в Python 3.5 и выше) выполняют матричное умножение (матричное произведение), но имеют разные правила работы в зависимости от типов и форм массивов. Вот их основное отличие:\n",
        "\n",
        "* **numpy.dot:**\n",
        "Функция numpy.dot выполняет умножение двух массивов, независимо от их типов и размерностей.\n",
        "Если оба массива являются одномерными (векторами), то numpy.dot выполняет скалярное произведение (dot product) векторов.\n",
        "Если хотя бы один из массивов является двумерным или имеет более высокую размерность, то numpy.dot выполняет матричное умножение (matrix multiplication) в соответствии с общими правилами линейной алгебры.\n",
        "\n",
        "* **numpy.matmul:**\n",
        "Функция numpy.matmul (или оператор @) предназначена специально для выполнения матричного умножения.\n",
        "Она следует строгим правилам матричного умножения и может быть использована только для массивов с совместимыми размерностями. Это означает, что для умножения массивов с помощью numpy.matmul, число столбцов первой матрицы должно совпадать с числом строк второй матрицы.\n",
        "Если вы попытаетесь выполнить матричное умножение с массивами, которые не совместимы по размерности, numpy.matmul выдаст ошибку."
      ],
      "metadata": {
        "id": "uyFsJG_bARTz"
      }
    },
    {
      "cell_type": "code",
      "source": [
        "a = np.arange(2 * 3).reshape((2, 3))\n",
        "b = np.arange(3 * 2).reshape((2, 3))\n",
        "\n",
        "np.matmul(a,b).shape"
      ],
      "metadata": {
        "id": "opAt4gJtLzyu",
        "colab": {
          "base_uri": "https://localhost:8080/",
          "height": 251
        },
        "outputId": "d304de1f-f7d2-4171-b46a-444fe84909d5"
      },
      "execution_count": null,
      "outputs": [
        {
          "output_type": "error",
          "ename": "ValueError",
          "evalue": "ignored",
          "traceback": [
            "\u001b[0;31m---------------------------------------------------------------------------\u001b[0m",
            "\u001b[0;31mValueError\u001b[0m                                Traceback (most recent call last)",
            "\u001b[0;32m<ipython-input-74-befda9b1eca4>\u001b[0m in \u001b[0;36m<cell line: 4>\u001b[0;34m()\u001b[0m\n\u001b[1;32m      2\u001b[0m \u001b[0mb\u001b[0m \u001b[0;34m=\u001b[0m \u001b[0mnp\u001b[0m\u001b[0;34m.\u001b[0m\u001b[0marange\u001b[0m\u001b[0;34m(\u001b[0m\u001b[0;36m3\u001b[0m \u001b[0;34m*\u001b[0m \u001b[0;36m2\u001b[0m\u001b[0;34m)\u001b[0m\u001b[0;34m.\u001b[0m\u001b[0mreshape\u001b[0m\u001b[0;34m(\u001b[0m\u001b[0;34m(\u001b[0m\u001b[0;36m2\u001b[0m\u001b[0;34m,\u001b[0m \u001b[0;36m3\u001b[0m\u001b[0;34m)\u001b[0m\u001b[0;34m)\u001b[0m\u001b[0;34m\u001b[0m\u001b[0;34m\u001b[0m\u001b[0m\n\u001b[1;32m      3\u001b[0m \u001b[0;34m\u001b[0m\u001b[0m\n\u001b[0;32m----> 4\u001b[0;31m \u001b[0mnp\u001b[0m\u001b[0;34m.\u001b[0m\u001b[0mmatmul\u001b[0m\u001b[0;34m(\u001b[0m\u001b[0ma\u001b[0m\u001b[0;34m,\u001b[0m\u001b[0mb\u001b[0m\u001b[0;34m)\u001b[0m\u001b[0;34m.\u001b[0m\u001b[0mshape\u001b[0m\u001b[0;34m\u001b[0m\u001b[0;34m\u001b[0m\u001b[0m\n\u001b[0m",
            "\u001b[0;31mValueError\u001b[0m: matmul: Input operand 1 has a mismatch in its core dimension 0, with gufunc signature (n?,k),(k,m?)->(n?,m?) (size 2 is different from 3)"
          ]
        }
      ]
    },
    {
      "cell_type": "markdown",
      "source": [
        "#### Размерности"
      ],
      "metadata": {
        "id": "LoGz6xQFMmPw"
      }
    },
    {
      "cell_type": "markdown",
      "source": [
        "Теперь давайте поговорим про размерности, потому что с этим вы будете сталкиваться чаще всего (но чаще это будет в pandas)\n",
        "\n",
        "Базово:\n",
        "\n",
        "* shape - посмотреть размерности\n",
        "\n",
        "* reshape - привести к новым размерностям (работает как transpose - меняем strides)\n",
        "\n",
        "* ravel/flatten - приведи к одномерному массиву\n",
        "\n",
        "* newaxis - добавь размерность\n",
        "\n",
        "А теперь в деталях:"
      ],
      "metadata": {
        "id": "Ial6hDJdWXxO"
      }
    },
    {
      "cell_type": "code",
      "source": [
        "a = np.arange(28)\n",
        "print(a.shape) # размерность 28, логично\n",
        "print(a.reshape(2, -1).shape) # приведи к размеру 2 x 14 (-1 значит все остальное)"
      ],
      "metadata": {
        "id": "FDdoQbAZW-pp",
        "colab": {
          "base_uri": "https://localhost:8080/"
        },
        "outputId": "bbdb4a2c-2ba4-49c0-c075-cca2d65bd7ec"
      },
      "execution_count": 18,
      "outputs": [
        {
          "output_type": "stream",
          "name": "stdout",
          "text": [
            "(28,)\n",
            "(2, 14)\n"
          ]
        }
      ]
    },
    {
      "cell_type": "code",
      "source": [
        "# если новая размерность не влезает (то есть у вас 28 элементов, а вы хотите размер (3, 2, 5)), то выдаст ошибку\n",
        "print(a.reshape(3, 2, 5))"
      ],
      "metadata": {
        "id": "bk5nlUbueuN_",
        "colab": {
          "base_uri": "https://localhost:8080/",
          "height": 193
        },
        "outputId": "d871ffc2-b658-4d8d-8e05-bd5ef44c9a5b"
      },
      "execution_count": 19,
      "outputs": [
        {
          "output_type": "error",
          "ename": "ValueError",
          "evalue": "ignored",
          "traceback": [
            "\u001b[0;31m---------------------------------------------------------------------------\u001b[0m",
            "\u001b[0;31mValueError\u001b[0m                                Traceback (most recent call last)",
            "\u001b[0;32m<ipython-input-19-bbda8e9ce282>\u001b[0m in \u001b[0;36m<cell line: 2>\u001b[0;34m()\u001b[0m\n\u001b[1;32m      1\u001b[0m \u001b[0;31m# если новая размерность не влезает (то есть у вас 28 элементов, а вы хотите размер (3, 2, 5)), то выдаст ошибку\u001b[0m\u001b[0;34m\u001b[0m\u001b[0;34m\u001b[0m\u001b[0m\n\u001b[0;32m----> 2\u001b[0;31m \u001b[0mprint\u001b[0m\u001b[0;34m(\u001b[0m\u001b[0ma\u001b[0m\u001b[0;34m.\u001b[0m\u001b[0mreshape\u001b[0m\u001b[0;34m(\u001b[0m\u001b[0;36m3\u001b[0m\u001b[0;34m,\u001b[0m \u001b[0;36m2\u001b[0m\u001b[0;34m,\u001b[0m \u001b[0;36m5\u001b[0m\u001b[0;34m)\u001b[0m\u001b[0;34m)\u001b[0m\u001b[0;34m\u001b[0m\u001b[0;34m\u001b[0m\u001b[0m\n\u001b[0m",
            "\u001b[0;31mValueError\u001b[0m: cannot reshape array of size 28 into shape (3,2,5)"
          ]
        }
      ]
    },
    {
      "cell_type": "code",
      "source": [
        "a = a.reshape(2, -1) # сама по себе не меняет размерность\n",
        "print(a.flatten())\n",
        "print(a.ravel())"
      ],
      "metadata": {
        "id": "hjs_UHrmXePu",
        "colab": {
          "base_uri": "https://localhost:8080/"
        },
        "outputId": "5fc986f3-d634-4180-f94d-2e438e4dc8e0"
      },
      "execution_count": 20,
      "outputs": [
        {
          "output_type": "stream",
          "name": "stdout",
          "text": [
            "[ 0  1  2  3  4  5  6  7  8  9 10 11 12 13 14 15 16 17 18 19 20 21 22 23\n",
            " 24 25 26 27]\n",
            "[ 0  1  2  3  4  5  6  7  8  9 10 11 12 13 14 15 16 17 18 19 20 21 22 23\n",
            " 24 25 26 27]\n"
          ]
        }
      ]
    },
    {
      "cell_type": "markdown",
      "source": [
        "Получаем одно и то же, но функции разные, в чем прикол?\n",
        "\n",
        "* flatten возвращает копию (то есть она независима от исходного массива)\n",
        "\n",
        "* ravel создает только view (то есть ссылку на origin), и если поменять в исходном массиве значение, то и в ravel оно изменится (имейте это ввиду)"
      ],
      "metadata": {
        "id": "ndkKA0JoYPKv"
      }
    },
    {
      "cell_type": "code",
      "source": [
        "a_f = a.flatten()\n",
        "a_r = a.ravel()\n",
        "a[0][0] = 1\n",
        "print(a_r) # изменилось, ух ты!"
      ],
      "metadata": {
        "id": "74CZgyVKYfbq",
        "colab": {
          "base_uri": "https://localhost:8080/"
        },
        "outputId": "e3301cf7-8ea9-49e8-bb2a-47e528f22892"
      },
      "execution_count": 21,
      "outputs": [
        {
          "output_type": "stream",
          "name": "stdout",
          "text": [
            "[ 1  1  2  3  4  5  6  7  8  9 10 11 12 13 14 15 16 17 18 19 20 21 22 23\n",
            " 24 25 26 27]\n"
          ]
        }
      ]
    },
    {
      "cell_type": "markdown",
      "source": [
        "А теперь допустим, что нам нужно не уменьшить число размерностей, а наоборот, их добавить\n",
        "\n",
        "Это можно сделать с помощью newaxis!"
      ],
      "metadata": {
        "id": "LAv-Ge1RZRW1"
      }
    },
    {
      "cell_type": "code",
      "source": [
        "a = np.arange(28)\n",
        "a = a.reshape(2, -1)\n",
        "print(a.shape)\n",
        "print(a)\n",
        "a_new = a[:, np.newaxis, :] # указываем newaxis туда, куда нам нужно, : значит возьми все\n",
        "print(a_new.shape)\n",
        "print(a_new)\n",
        "a = a.reshape(2, 1, -1) # можно и сделать с помощью reshape\n",
        "print(a.shape)\n",
        "print(a)"
      ],
      "metadata": {
        "id": "mBvM-wVxZggR",
        "colab": {
          "base_uri": "https://localhost:8080/"
        },
        "outputId": "0281ee53-2999-46c3-bb52-366f6912a5a9"
      },
      "execution_count": 29,
      "outputs": [
        {
          "output_type": "stream",
          "name": "stdout",
          "text": [
            "(2, 14)\n",
            "[[ 0  1  2  3  4  5  6  7  8  9 10 11 12 13]\n",
            " [14 15 16 17 18 19 20 21 22 23 24 25 26 27]]\n",
            "(2, 1, 14)\n",
            "[[[ 0  1  2  3  4  5  6  7  8  9 10 11 12 13]]\n",
            "\n",
            " [[14 15 16 17 18 19 20 21 22 23 24 25 26 27]]]\n",
            "(2, 1, 14)\n",
            "[[[ 0  1  2  3  4  5  6  7  8  9 10 11 12 13]]\n",
            "\n",
            " [[14 15 16 17 18 19 20 21 22 23 24 25 26 27]]]\n"
          ]
        }
      ]
    },
    {
      "cell_type": "markdown",
      "source": [
        "#### Соединения и добавления"
      ],
      "metadata": {
        "id": "xjkkSoFoMpEa"
      }
    },
    {
      "cell_type": "markdown",
      "source": [
        "Представим новую ситуацию: у вас есть два набора данных (допустим, за прошлую неделю и за текущую) и вы хотите их соединить их в единый набор данных\n",
        "\n",
        "Или же у вас одна половина данных лежит в одной, а другая в другой (скажем, есть карточка товара, в одном месте лежит вся информация про id, название etc, а в другом всякие web-счетчики: сколько посмотрели-покликали и так далее)\n",
        "\n",
        "Тогда на помощь приходят:\n",
        "\n",
        "* np.concatenate((arr1, arr2), axis) - соедини две таблицы по выбранному axis (по дефолту 0)\n",
        "\n",
        "* np.vstack((arr1, arr2)) - соедини две таблицы строчно (то есть друг под другом).То же самое, что и np.concatenate((arr1, arr2), axis=0)\n",
        "\n",
        "* np.hstack((arr1, arr2)) - соедини две таблицы по колонке (то есть arr1-arr2).То же самое, что и np.concatenate((arr1, arr2), axis=1)\n",
        "\n",
        "**Как и в перемножении матриц, размерности должны сходиться!**"
      ],
      "metadata": {
        "id": "QvVjkKE_M2AS"
      }
    },
    {
      "cell_type": "code",
      "source": [
        "a = np.array([[1, 2], [3, 4]])\n",
        "b = np.array([[5, 6], [7, 8]])\n",
        "\n",
        "print(np.vstack((a, b)))\n",
        "print(np.hstack((a, b)))\n",
        "print(np.concatenate((a, b), axis=0))\n",
        "print(np.concatenate((a, b), axis=1))"
      ],
      "metadata": {
        "id": "SEdhzLoJjyQS",
        "colab": {
          "base_uri": "https://localhost:8080/"
        },
        "outputId": "1fe86ad7-008f-45d0-f3eb-afb18c3234d3"
      },
      "execution_count": null,
      "outputs": [
        {
          "output_type": "stream",
          "name": "stdout",
          "text": [
            "[[1 2]\n",
            " [3 4]\n",
            " [5 6]\n",
            " [7 8]]\n",
            "[[1 2 5 6]\n",
            " [3 4 7 8]]\n",
            "[[1 2]\n",
            " [3 4]\n",
            " [5 6]\n",
            " [7 8]]\n",
            "[[1 2 5 6]\n",
            " [3 4 7 8]]\n"
          ]
        }
      ]
    },
    {
      "cell_type": "markdown",
      "source": [
        "А если хотим добавить?\n",
        "\n",
        "* np.append(arr_1, arr_2, ..., arr_n, axis) - сделай append (если отдельно задаете axis, то размерности должны быть одинаковыми)\n",
        "\n",
        "* np.insert(arr, slice, value, axis) - добавь в arr в slice значение value по выбранному axis\n",
        "\n",
        "* np.resize(arr, (sizes)) - по сути reshape, но если получившийся итог получается больше, то заполняет остальное копией a (аккуратнее с этим, лучше не делать с матрицами)\n",
        "\n",
        "* arr.resize((sizes)) - reshape, если больше, то заполнит нулями (аккуратно с этим)"
      ],
      "metadata": {
        "id": "QHqYgNPSlWVk"
      }
    },
    {
      "cell_type": "code",
      "source": [
        "a = np.array([[1, 2], [3, 4]])\n",
        "b = np.array([[5, 6], [7, 8]])\n",
        "\n",
        "print(np.append(a, b))\n",
        "print('-' * 30)\n",
        "print(np.insert(a, 1, b, axis = 0))\n",
        "print('-' * 30)\n",
        "print(np.resize(a, (5, 2))) # похож на reshape\n",
        "print('-' * 30)\n",
        "a.resize((1, 10), refcheck=False) # refcheck - не проверяй на наличие ссылок (иначе упадет)\n",
        "print(a)\n",
        "print('-' * 30)\n",
        "a = np.array([[1, 2], [3, 4]])\n",
        "print(np.append(a, [1, 2]))"
      ],
      "metadata": {
        "id": "64_Coh7hmQ7r",
        "colab": {
          "base_uri": "https://localhost:8080/"
        },
        "outputId": "fe3ba011-a4af-4adc-e134-91473ae9bb86"
      },
      "execution_count": null,
      "outputs": [
        {
          "output_type": "stream",
          "name": "stdout",
          "text": [
            "[1 2 3 4 5 6 7 8]\n",
            "------------------------------\n",
            "[[1 2]\n",
            " [5 6]\n",
            " [7 8]\n",
            " [3 4]]\n",
            "------------------------------\n",
            "[[1 2]\n",
            " [3 4]\n",
            " [1 2]\n",
            " [3 4]\n",
            " [1 2]]\n",
            "------------------------------\n",
            "[[1 2 3 4 0 0 0 0 0 0]]\n",
            "------------------------------\n",
            "[1 2 3 4 1 2]\n"
          ]
        }
      ]
    },
    {
      "cell_type": "markdown",
      "source": [
        "#### Сравнения"
      ],
      "metadata": {
        "id": "fROW7gayMrZ6"
      }
    },
    {
      "cell_type": "markdown",
      "source": [
        "Все, помучили наш массив как только можем, давайте теперь его как-то исследовать\n",
        "\n",
        "Допустим, теперь хотим что-то отфильтровать или посмотреть какие-то конкретные значения"
      ],
      "metadata": {
        "id": "TtpFfYGyoKuB"
      }
    },
    {
      "cell_type": "code",
      "source": [
        "a = np.arange(30)\n",
        "print(a[(a > 15) & (a < 27) | (a < 9)]) # как добавить несколько условий сразу через & и | (и/или)\n",
        "cond = (a > 15) & (a < 27) | (a < 9) # условия можно отдельно записывать, даст массив True-False\n",
        "print('-' * 30)\n",
        "print(a[cond])\n",
        "print(cond)"
      ],
      "metadata": {
        "id": "-u2Ef8yOovqe",
        "colab": {
          "base_uri": "https://localhost:8080/"
        },
        "outputId": "f830585b-3ba8-470b-de96-e4fb8376e329"
      },
      "execution_count": null,
      "outputs": [
        {
          "output_type": "stream",
          "name": "stdout",
          "text": [
            "[ 0  1  2  3  4  5  6  7  8 16 17 18 19 20 21 22 23 24 25 26]\n",
            "------------------------------\n",
            "[ 0  1  2  3  4  5  6  7  8 16 17 18 19 20 21 22 23 24 25 26]\n",
            "[ True  True  True  True  True  True  True  True  True False False False\n",
            " False False False False  True  True  True  True  True  True  True  True\n",
            "  True  True  True False False False]\n"
          ]
        }
      ]
    },
    {
      "cell_type": "code",
      "source": [
        "a = np.arange(30).reshape(5, -1)\n",
        "b = (np.arange(30) - 1).reshape(5, -1)\n",
        "b[0][0] = 15\n",
        "a > b # для таких сравнений должны быть одинаковые размерности"
      ],
      "metadata": {
        "id": "Mdr7c8Ccpwe1"
      },
      "execution_count": null,
      "outputs": []
    },
    {
      "cell_type": "code",
      "source": [
        "print((a > b).all()) # проверить, все ли значения True\n",
        "print((a > b).any()) # првоерить, есть ли хотя бы одно True\n",
        "print(a[a > b]) # выведет одномерный массив\n",
        "print('-' * 30)\n",
        "print(a[a[:, 0] > [1, 1, 1, 1, 1]]) # можно сравнивать и вот так"
      ],
      "metadata": {
        "id": "0kkaCxnpqIgM"
      },
      "execution_count": null,
      "outputs": []
    },
    {
      "cell_type": "markdown",
      "source": [
        "Теперь хотим применить условие и что-то сделать со значениями (обрезать или поменять)\n",
        "\n",
        "Можно по старинке:"
      ],
      "metadata": {
        "id": "dEMMpVy2M5bj"
      }
    },
    {
      "cell_type": "code",
      "source": [
        "a = np.arange(30).reshape(5, -1)\n",
        "a[a > 0] = a[a > 0] * 5\n",
        "a"
      ],
      "metadata": {
        "id": "0lK6jGe7q_ym",
        "colab": {
          "base_uri": "https://localhost:8080/"
        },
        "outputId": "2ec0f10e-25b7-4ee6-f85e-710f6ef33e41"
      },
      "execution_count": null,
      "outputs": [
        {
          "output_type": "execute_result",
          "data": {
            "text/plain": [
              "array([[  0,   5,  10,  15,  20,  25],\n",
              "       [ 30,  35,  40,  45,  50,  55],\n",
              "       [ 60,  65,  70,  75,  80,  85],\n",
              "       [ 90,  95, 100, 105, 110, 115],\n",
              "       [120, 125, 130, 135, 140, 145]])"
            ]
          },
          "metadata": {},
          "execution_count": 83
        }
      ]
    },
    {
      "cell_type": "markdown",
      "source": [
        "Но можно и лучше!\n",
        "\n",
        "* np.where(cond, act_1, act_2) - измени значения в зависимости от условия (если True, то сделай одно, если False, то другое)\n",
        "\n",
        "* np.clip(arr, a_min, a_max) - ограничить значения (все, что меньше a_min, станет a_min, все, что больше a_max, станет a_max)\n",
        "\n",
        "Последнее нужно, например, для обработки картинок (допустим, вам пришли плохие данные, где есть значения не в пределах от 0 до 256)"
      ],
      "metadata": {
        "id": "GWqJNq7LrGGK"
      }
    },
    {
      "cell_type": "code",
      "source": [
        "a = np.arange(30).reshape(5, -1)\n",
        "a = np.where(a > 0, a * 5, a)\n",
        "print(a)\n",
        "print('-' * 30)\n",
        "a = np.clip(a, 10, 100)\n",
        "print(a)"
      ],
      "metadata": {
        "id": "4f8TiFovrjUa",
        "colab": {
          "base_uri": "https://localhost:8080/"
        },
        "outputId": "b24fb2a9-3c51-4342-d346-addcfd1568c4"
      },
      "execution_count": null,
      "outputs": [
        {
          "output_type": "stream",
          "name": "stdout",
          "text": [
            "[[  0   5  10  15  20  25]\n",
            " [ 30  35  40  45  50  55]\n",
            " [ 60  65  70  75  80  85]\n",
            " [ 90  95 100 105 110 115]\n",
            " [120 125 130 135 140 145]]\n",
            "------------------------------\n",
            "[[ 10  10  10  15  20  25]\n",
            " [ 30  35  40  45  50  55]\n",
            " [ 60  65  70  75  80  85]\n",
            " [ 90  95 100 100 100 100]\n",
            " [100 100 100 100 100 100]]\n"
          ]
        }
      ]
    },
    {
      "cell_type": "markdown",
      "source": [
        "#### Прочие полезные вещи"
      ],
      "metadata": {
        "id": "G_Ui0dquMvAK"
      }
    },
    {
      "cell_type": "markdown",
      "source": [
        "Все, теперь к полному анализу наших данных!\n",
        "\n",
        "![](https://i.gifer.com/embedded/download/3nHQ.gif)"
      ],
      "metadata": {
        "id": "fg8jl95GM8yr"
      }
    },
    {
      "cell_type": "markdown",
      "source": [
        "Что умеем?\n",
        "\n",
        "*   sum, mean, std, min, max, prod - классика (сумма, среднее, стандратное отклонение, минимум/максимум, произведение)\n",
        "\n",
        "*   argmin, argmax - найди индекс максимума/минимума (знаете же, что в Python так нельзя, а вот тут пожалуйста)\n",
        "\n",
        "* nonzero - вывести индексы ненулевых значений\n",
        "\n",
        "* sort, unique - сортировка, уникальные элементы\n",
        "\n",
        "* diag, trace - вывести диагональ, след матрицы (работает только для размерности < 3)\n",
        "\n",
        "* cumsum, cumprod - кумулятивы сумм-произведений\n",
        "\n",
        "* isnan, isinf, isposinf, isneginf - поиск \"плохих\" значений\n",
        "\n",
        "* nan_to_num(x, nan, posinf) - если где-то видим nan или inf, то можем его поменять на значение в nan или posinf\n",
        "\n"
      ],
      "metadata": {
        "id": "TRwulevltROp"
      }
    },
    {
      "cell_type": "code",
      "source": [
        "a = np.array([[[1, 2, 3], [4, 5 ,6], [7, 8, 9]], [[-np.inf, 2, 3], [4, np.nan ,6], [np.nan, 8, np.inf]]])\n",
        "print(np.argwhere(np.isnan(a)))\n",
        "print('-' * 30)\n",
        "print(np.argwhere(np.isinf(a)))\n",
        "print('-' * 30)\n",
        "print(np.argwhere(np.isposinf(a)))\n",
        "print('-' * 30)\n",
        "print(np.argwhere(np.isneginf(a)))\n",
        "print('-' * 30)"
      ],
      "metadata": {
        "id": "PgeCAdAMu8zB",
        "colab": {
          "base_uri": "https://localhost:8080/"
        },
        "outputId": "89c5f444-60d3-47f2-f624-7dd5b7b01bf7"
      },
      "execution_count": null,
      "outputs": [
        {
          "output_type": "stream",
          "name": "stdout",
          "text": [
            "[[1 1 1]\n",
            " [1 2 0]]\n",
            "------------------------------\n",
            "[[1 0 0]\n",
            " [1 2 2]]\n",
            "------------------------------\n",
            "[[1 2 2]]\n",
            "------------------------------\n",
            "[[1 0 0]]\n",
            "------------------------------\n"
          ]
        }
      ]
    },
    {
      "cell_type": "code",
      "source": [
        "np.nan_to_num(a, copy=False, nan=0, posinf=999, neginf=-999)\n",
        "# очень часто у функций есть аргумент copy, то есть создавать новую копию или менять в исходном массиве\n",
        "print(a.sum()) # полная сумма\n",
        "print('-' * 30)\n",
        "print(a.sum(axis=0)) # сумма по оси\n",
        "print('-' * 30)\n",
        "print(a.std())"
      ],
      "metadata": {
        "id": "obHK4ezmv40v",
        "colab": {
          "base_uri": "https://localhost:8080/"
        },
        "outputId": "745ab9a1-6b01-41cd-f3ed-7d7df9e80ef1"
      },
      "execution_count": null,
      "outputs": [
        {
          "output_type": "stream",
          "name": "stdout",
          "text": [
            "68.0\n",
            "------------------------------\n",
            "[[-998.    4.    6.]\n",
            " [   8.    5.   12.]\n",
            " [   7.   16. 1008.]]\n",
            "------------------------------\n",
            "333.01310544040416\n"
          ]
        }
      ]
    },
    {
      "cell_type": "code",
      "source": [
        "print(np.cumsum(a))\n",
        "print('-' * 30)\n",
        "print(np.cumprod(a)) #"
      ],
      "metadata": {
        "id": "I7UIfrfFwyGX",
        "colab": {
          "base_uri": "https://localhost:8080/"
        },
        "outputId": "a5dd60fc-eb5f-4070-e1fa-920f8a2dc0ff"
      },
      "execution_count": null,
      "outputs": [
        {
          "output_type": "stream",
          "name": "stdout",
          "text": [
            "[   1.    3.    6.   10.   15.   21.   28.   36.   45. -954. -952. -949.\n",
            " -945. -945. -939. -939. -931.   68.]\n",
            "------------------------------\n",
            "[ 1.00000000e+00  2.00000000e+00  6.00000000e+00  2.40000000e+01\n",
            "  1.20000000e+02  7.20000000e+02  5.04000000e+03  4.03200000e+04\n",
            "  3.62880000e+05 -3.62517120e+08 -7.25034240e+08 -2.17510272e+09\n",
            " -8.70041088e+09 -0.00000000e+00 -0.00000000e+00 -0.00000000e+00\n",
            " -0.00000000e+00 -0.00000000e+00]\n"
          ]
        }
      ]
    },
    {
      "cell_type": "markdown",
      "source": [
        "#### Линейная алгебра (np.linalg)"
      ],
      "metadata": {
        "id": "h1pDMA1PNCgo"
      }
    },
    {
      "cell_type": "markdown",
      "source": [
        "Самый сильный инструмент внутри numpy - это модуль numpy.linalg, который позволяет применить кучу методов из линейной алгебры (например, сделать за вас тот же самый SVD)\n",
        "\n",
        "Из основного:\n",
        "\n",
        "* numpy.linalg.multi_dot - перемножение нескольких матриц сразу (причем выбирается самый быстрый способ перемножения)\n",
        "\n",
        "* np.vdot - скалярное произведение (не нужно делать .T  \n",
        "как минимум)\n",
        "\n",
        "* numpy.linalg.matrix_power - возвести матрицу в нужную степень\n",
        "\n",
        "* numpy.linalg.norm - матричная норма\n",
        "\n",
        "* numpy.linalg.det - определитель матрицы\n",
        "\n",
        "* numpy.linalg.inv - обратная матрица (если нет, то будет считать через pinv - псевдообратная матрица)\n",
        "\n",
        "* numpy.linalg.solve(a, b) - решить систему $ax = b$\n",
        "\n",
        "Разложения:\n",
        "\n",
        "* choletsky, qr, SVD - разложение Холецкого, QR-декомпозиция, SVD-разложение (можно сделать усеченным)\n",
        "\n",
        "* eig, eigvals - собственные вектор**Ы** и собственные значения\n"
      ],
      "metadata": {
        "id": "nJrwb_pIiIZK"
      }
    },
    {
      "cell_type": "code",
      "source": [
        "import numpy.linalg as lin\n",
        "\n",
        "A = np.matrix([[1, 2, 3], [4, 5, 11], [7, 8, 10]])\n",
        "print(\"Определитель матрицы:\", lin.det(A))\n",
        "print('-' * 30)\n",
        "print(\"Обратная матрица:\", lin.inv(A))\n",
        "print('-' * 30)\n",
        "print(\"Третья степень матрицы:\", lin.matrix_power(A, 3))\n",
        "print('-' * 30)\n",
        "b = np.array([1, 2, 3])\n",
        "print(\"Решаем систему:\", lin.solve(A, b))\n",
        "print('-' * 30)\n",
        "c = np.array([1, 2, 3])\n",
        "print(\"Скалярное произведение:\", np.vdot(c, b))\n",
        "print('-' * 30)"
      ],
      "metadata": {
        "id": "XTapKzFoAPf_",
        "colab": {
          "base_uri": "https://localhost:8080/"
        },
        "outputId": "ff25260c-2f19-4ec9-ae11-d09f19517275"
      },
      "execution_count": null,
      "outputs": [
        {
          "output_type": "stream",
          "name": "stdout",
          "text": [
            "Определитель матрицы: 27.0\n",
            "------------------------------\n",
            "Обратная матрица: [[-1.40740741  0.14814815  0.25925926]\n",
            " [ 1.37037037 -0.40740741  0.03703704]\n",
            " [-0.11111111  0.22222222 -0.11111111]]\n",
            "------------------------------\n",
            "Третья степень матрицы: [[ 559  680 1036]\n",
            " [1824 2223 3404]\n",
            " [2108 2560 3891]]\n",
            "------------------------------\n",
            "Решаем систему: [-0.33333333  0.66666667  0.        ]\n",
            "------------------------------\n",
            "Скалярное произведение: 14\n",
            "------------------------------\n"
          ]
        }
      ]
    },
    {
      "cell_type": "code",
      "source": [
        "U, s, Vh = lin.svd(A)\n",
        "print(U)\n",
        "print('-' * 30)\n",
        "print(s)\n",
        "print('-' * 30)\n",
        "print(Vh)"
      ],
      "metadata": {
        "id": "X9LuJ1XxBlO9",
        "colab": {
          "base_uri": "https://localhost:8080/"
        },
        "outputId": "6a614dfe-f6e9-4eb7-97ad-28274e2083ad"
      },
      "execution_count": null,
      "outputs": [
        {
          "output_type": "stream",
          "name": "stdout",
          "text": [
            "[[-0.18951531 -0.10237519 -0.97652612]\n",
            " [-0.6434869  -0.73824699  0.20227702]\n",
            " [-0.74162562  0.66671636  0.07403202]]\n",
            "------------------------------\n",
            "[19.51894064  2.78648927  0.496421  ]\n",
            "------------------------------\n",
            "[[-0.40754477 -0.48821656 -0.77172006]\n",
            " [ 0.5783806   0.51597023 -0.63186281]\n",
            " [ 0.70667046 -0.70386029  0.07209402]]\n"
          ]
        }
      ]
    },
    {
      "cell_type": "code",
      "source": [
        "lin.eig(A)"
      ],
      "metadata": {
        "id": "Ps9277glB-WO",
        "colab": {
          "base_uri": "https://localhost:8080/"
        },
        "outputId": "3c62a722-24a7-45af-ac22-d46a8b575283"
      },
      "execution_count": null,
      "outputs": [
        {
          "output_type": "execute_result",
          "data": {
            "text/plain": [
              "(array([18.83666805, -0.65787568, -2.17879237]),\n",
              " matrix([[-0.19655135, -0.61840136,  0.01695951],\n",
              "         [-0.64434967,  0.7673012 , -0.84013156],\n",
              "         [-0.73904064, -0.16978994,  0.54211746]]))"
            ]
          },
          "metadata": {},
          "execution_count": 90
        }
      ]
    },
    {
      "cell_type": "markdown",
      "source": [
        "#### Несколько полезных вещей"
      ],
      "metadata": {
        "id": "TWqAtKktyXYQ"
      }
    },
    {
      "cell_type": "markdown",
      "source": [
        "* np.meshgrid(x_{i}, indexing) - вернуть координатную сетку из координат $x_i$"
      ],
      "metadata": {
        "id": "M0VVwAKhyZ_C"
      }
    },
    {
      "cell_type": "code",
      "source": [
        "import matplotlib.pyplot as plt\n",
        "import numpy as np\n",
        "\n",
        "nx, ny = (3, 2)\n",
        "x = np.linspace(0, 1, nx)\n",
        "y = np.linspace(0, 1, ny)\n",
        "xv, yv = np.meshgrid(x, y)\n",
        "\n",
        "plt.plot(xv, yv, marker='o', color='k', linestyle='none')\n",
        "plt.show()"
      ],
      "metadata": {
        "id": "9Aou3YYwy5Jk",
        "colab": {
          "base_uri": "https://localhost:8080/",
          "height": 450
        },
        "outputId": "0b6a1388-2dd4-41f7-d24c-f2cd01e4278e"
      },
      "execution_count": null,
      "outputs": [
        {
          "output_type": "display_data",
          "data": {
            "text/plain": [
              "<Figure size 640x480 with 1 Axes>"
            ],
            "image/png": "[encoded data removed]"
          },
          "metadata": {}
        }
      ]
    },
    {
      "cell_type": "code",
      "source": [
        "print(xv, '\\n', yv)"
      ],
      "metadata": {
        "id": "YrUEfmdGzDTz",
        "colab": {
          "base_uri": "https://localhost:8080/"
        },
        "outputId": "e7774904-df11-4b72-feab-ade8effc22a6"
      },
      "execution_count": null,
      "outputs": [
        {
          "output_type": "stream",
          "name": "stdout",
          "text": [
            "[[0.  0.5 1. ]\n",
            " [0.  0.5 1. ]] \n",
            " [[0. 0. 0.]\n",
            " [1. 1. 1.]]\n"
          ]
        }
      ]
    },
    {
      "cell_type": "markdown",
      "source": [
        "По существу - каждая точка имеет координаты, которые раскиданы в разных матрицах (по необходимой оси)"
      ],
      "metadata": {
        "id": "W8IzWg5IzJdH"
      }
    },
    {
      "cell_type": "markdown",
      "source": [
        "#### Конвенция Эйнштейна и ее сила (***)"
      ],
      "metadata": {
        "id": "hAnnXPtdzWhN"
      }
    },
    {
      "cell_type": "markdown",
      "source": [
        "Но самая сильная вещь внутри numpy - это поддержка конвенции Эйнштейна и ее наглядное исполнение с помощью функции einsum()\n",
        "\n",
        "Что такое конвенция (или соглашение) Эйнштейна? Чаще всего оно используется в тензорах (тензор, если упрощать, это многомерный массив), которое облегчает форму записи.\n",
        "\n",
        "Попробуем в самом начале на примере, на основе которых мы поймем, что это такое:\n",
        "\n",
        "Дана матрица $A \\in \\mathbb{M}_{n x k}$ и $B \\in \\mathbb{M}_{k x m}$. Хотим перемножить и получить матрицу $C \\in \\mathbb{M}_{n x m}$\n",
        "\n",
        "Давайте запишем формулу, которая должна получать элемент $c_{ij}$:\n",
        "\n",
        "$$c_{ij} = \\sum_{k} a_{ik} b_{kj} $$\n",
        "\n",
        "Что здесь важно?\n",
        "\n",
        "1. Здесь есть свободные и фиктивные индексы. Свободный индекс - это не фиктивный индекс. Фиктивный индекс - это индекс, который входит в формулу дважды (в данном случае $k$ - фиктивный, его можно заменить на что угодно и смысл не изменится)\n",
        "\n",
        "2. Свободные индексы слева и справа одинаковые (и равны)\n",
        "\n",
        "Что предполагает соглашение Эйнштейна? По фиктивным индексам всегда происходит сложение, поэтому знак сумму смысла особого не имеет, мы можем его опустить и получить следующее:\n",
        "\n",
        "$$ c_{ij} = a_{ik} b_{kj} $$\n",
        "\n",
        "То есть суммирование само по себе предполагается. На самом деле тут есть еще один момент (уже для читабельности): фиктивный индекс вначале идет снизу, а потом сверху:\n",
        "\n",
        "$$c_{ij} = a_{ik}b^{k}_{j} $$"
      ],
      "metadata": {
        "id": "pxUldaBEzZYt"
      }
    },
    {
      "cell_type": "markdown",
      "source": [
        "Теперь непосредственно с einsum(). Функция поддерживает нотацию соглашения Эйнштейна в следующем виде (опять давайте для примера возьмем перемножение двух матриц):"
      ],
      "metadata": {
        "id": "tHDqBvtB2Ong"
      }
    },
    {
      "cell_type": "code",
      "source": [
        "m_1 = np.array([[1, 2], [3, 4], [5, 6]])\n",
        "m_2 = np.array([[7, 8], [9, 10]])\n",
        "\n",
        "np.einsum(\"ij,jk->ik\", m_1, m_2)"
      ],
      "metadata": {
        "id": "NESHc_B72ajr",
        "colab": {
          "base_uri": "https://localhost:8080/"
        },
        "outputId": "df08f406-2de6-496c-b572-41f05c10fd58"
      },
      "execution_count": null,
      "outputs": [
        {
          "output_type": "execute_result",
          "data": {
            "text/plain": [
              "array([[ 25,  28],\n",
              "       [ 57,  64],\n",
              "       [ 89, 100]])"
            ]
          },
          "metadata": {},
          "execution_count": 93
        }
      ]
    },
    {
      "cell_type": "code",
      "source": [
        "x = np.array([1, 2, 3])\n",
        "y = np.array([4, 5, 6])\n",
        "\n",
        "result = np.einsum('i, i', x, y) # скалярное произведение"
      ],
      "metadata": {
        "id": "YoxmB1tiFW4_"
      },
      "execution_count": null,
      "outputs": []
    },
    {
      "cell_type": "markdown",
      "source": [
        "Как читать нотацию?\n",
        "\n",
        "```\n",
        "indies for arguments -> result indices\n",
        "```\n",
        "\n",
        "То есть мы перечисляем индексы для каждой матрицы из указанных в аргументе (с учетом свободных и фиктивных) и далее получаете результат!\n",
        "\n",
        "Второй способ рассуждать: напишите for, который нам нужен, чтобы получить результат"
      ],
      "metadata": {
        "id": "9EeGStQT2rSX"
      }
    },
    {
      "cell_type": "code",
      "source": [
        "m_1 = np.array([[1, 2], [3, 4], [5, 6]])\n",
        "m_2 = np.array([[7, 8], [9, 10]])\n",
        "\n",
        "np.einsum(\"ij,jk->\", m_1, m_2) #Выведет сумму всех элементов"
      ],
      "metadata": {
        "id": "Zb4opJEN3Fk2"
      },
      "execution_count": null,
      "outputs": []
    },
    {
      "cell_type": "markdown",
      "source": [
        "Давайте попробуем сделать пару примеров:\n",
        "\n",
        "1. Найти сумму всех элементов\n",
        "\n",
        "2. Найти след матрицы\n",
        "\n",
        "3. Перемножить матрицу на вектор\n",
        "\n",
        "4. Поэлементное произведение"
      ],
      "metadata": {
        "id": "vDtj4nFL3QSa"
      }
    },
    {
      "cell_type": "code",
      "source": [
        "print(np.einsum(\"ij -> \", m_1))\n",
        "print(np.einsum(\"ii -> \", m_2))\n",
        "v = np.array([[0, 1]])\n",
        "print(np.einsum(\"ij,kj->ik\", m_1, v))\n",
        "print(np.einsum(\"ij,ij->ij\", m_1, m_1))"
      ],
      "metadata": {
        "id": "m-AEAXm33gss"
      },
      "execution_count": null,
      "outputs": []
    },
    {
      "cell_type": "markdown",
      "source": [
        "#### Выгрузка"
      ],
      "metadata": {
        "id": "ikeGwjyZiGZx"
      }
    },
    {
      "cell_type": "markdown",
      "source": [
        "Ну все, потрудились, можно и результаты сохранить:\n",
        "\n",
        "* np.save(name, arr) -  сохранить файл с раширением .npy\n",
        "\n",
        "* np.savetxt(file, arr) - сохранить файл в txt"
      ],
      "metadata": {
        "id": "dD8UXVAYiI22"
      }
    },
    {
      "cell_type": "markdown",
      "source": [
        "## Упражнения\n",
        "\n",
        "[Задачи для самостоятельной работы](https://colab.research.google.com/drive/17zzCB0bjyLVzn3Pr3zmJ-FLJEmufMJzM)"
      ],
      "metadata": {
        "id": "lHvWur9lfs8v"
      }
    }
  ]
}