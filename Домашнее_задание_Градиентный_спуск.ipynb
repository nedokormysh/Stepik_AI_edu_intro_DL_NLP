{
  "nbformat": 4,
  "nbformat_minor": 0,
  "metadata": {
    "colab": {
      "provenance": [],
      "include_colab_link": true
    },
    "kernelspec": {
      "name": "python3",
      "display_name": "Python 3"
    },
    "language_info": {
      "name": "python"
    }
  },
  "cells": [
    {
      "cell_type": "markdown",
      "metadata": {
        "id": "view-in-github",
        "colab_type": "text"
      },
      "source": [
        "<a href=\"https://colab.research.google.com/github/nedokormysh/Stepik_AI_edu_intro_DL_NLP/blob/week_4_backpropagation/%D0%94%D0%BE%D0%BC%D0%B0%D1%88%D0%BD%D0%B5%D0%B5_%D0%B7%D0%B0%D0%B4%D0%B0%D0%BD%D0%B8%D0%B5_%D0%93%D1%80%D0%B0%D0%B4%D0%B8%D0%B5%D0%BD%D1%82%D0%BD%D1%8B%D0%B9_%D1%81%D0%BF%D1%83%D1%81%D0%BA.ipynb\" target=\"_parent\"><img src=\"https://colab.research.google.com/assets/colab-badge.svg\" alt=\"Open In Colab\"/></a>"
      ]
    },
    {
      "cell_type": "markdown",
      "source": [
        "# Домашнее задание\n",
        "\n",
        "### Применение различных методов градиентного спуска\n",
        "\n",
        "В этом домашнем задании мы потренируемся применять различные методы градиентного спуска на примере классического датасета для предсказания стоимости домов в Калифорнии."
      ],
      "metadata": {
        "id": "RviFzrzcDiFo"
      }
    },
    {
      "cell_type": "markdown",
      "source": [
        "## Импорт библиотек"
      ],
      "metadata": {
        "id": "VUA5S_9JEJqN"
      }
    },
    {
      "cell_type": "code",
      "execution_count": 1,
      "metadata": {
        "id": "A-y-4JNCDCft"
      },
      "outputs": [],
      "source": [
        "import pandas as pd\n",
        "import numpy as np\n",
        "from numpy import random\n",
        "\n",
        "from sklearn.datasets import fetch_california_housing\n",
        "from sklearn.linear_model import LinearRegression\n",
        "from sklearn.model_selection import train_test_split\n",
        "from sklearn.preprocessing import StandardScaler\n",
        "\n",
        "import matplotlib.pyplot as plt\n",
        "%matplotlib inline\n",
        "\n",
        "RANDOM_SEED = 42"
      ]
    },
    {
      "cell_type": "markdown",
      "source": [
        "### Загрузим датасет"
      ],
      "metadata": {
        "id": "phj9pO5oK5WH"
      }
    },
    {
      "cell_type": "code",
      "source": [
        "data = fetch_california_housing()\n",
        "df = pd.DataFrame(data= np.c_[data['data'], data['target']],\n",
        "                     columns= data['feature_names'] + data['target_names'])\n",
        "df.head()"
      ],
      "metadata": {
        "colab": {
          "base_uri": "https://localhost:8080/",
          "height": 206
        },
        "id": "qniOF2KMEO4h",
        "outputId": "7a22c872-4cb5-4e97-9fc9-f9a48032b085"
      },
      "execution_count": 2,
      "outputs": [
        {
          "output_type": "execute_result",
          "data": {
            "text/plain": [
              "   MedInc  HouseAge  AveRooms  AveBedrms  Population  AveOccup  Latitude  \\\n",
              "0  8.3252      41.0  6.984127   1.023810       322.0  2.555556     37.88   \n",
              "1  8.3014      21.0  6.238137   0.971880      2401.0  2.109842     37.86   \n",
              "2  7.2574      52.0  8.288136   1.073446       496.0  2.802260     37.85   \n",
              "3  5.6431      52.0  5.817352   1.073059       558.0  2.547945     37.85   \n",
              "4  3.8462      52.0  6.281853   1.081081       565.0  2.181467     37.85   \n",
              "\n",
              "   Longitude  MedHouseVal  \n",
              "0    -122.23        4.526  \n",
              "1    -122.22        3.585  \n",
              "2    -122.24        3.521  \n",
              "3    -122.25        3.413  \n",
              "4    -122.25        3.422  "
            ],
            "text/html": [
              "\n",
              "  <div id=\"df-84678065-f7c1-42a7-83bf-5bf9b432c505\" class=\"colab-df-container\">\n",
              "    <div>\n",
              "<style scoped>\n",
              "    .dataframe tbody tr th:only-of-type {\n",
              "        vertical-align: middle;\n",
              "    }\n",
              "\n",
              "    .dataframe tbody tr th {\n",
              "        vertical-align: top;\n",
              "    }\n",
              "\n",
              "    .dataframe thead th {\n",
              "        text-align: right;\n",
              "    }\n",
              "</style>\n",
              "<table border=\"1\" class=\"dataframe\">\n",
              "  <thead>\n",
              "    <tr style=\"text-align: right;\">\n",
              "      <th></th>\n",
              "      <th>MedInc</th>\n",
              "      <th>HouseAge</th>\n",
              "      <th>AveRooms</th>\n",
              "      <th>AveBedrms</th>\n",
              "      <th>Population</th>\n",
              "      <th>AveOccup</th>\n",
              "      <th>Latitude</th>\n",
              "      <th>Longitude</th>\n",
              "      <th>MedHouseVal</th>\n",
              "    </tr>\n",
              "  </thead>\n",
              "  <tbody>\n",
              "    <tr>\n",
              "      <th>0</th>\n",
              "      <td>8.3252</td>\n",
              "      <td>41.0</td>\n",
              "      <td>6.984127</td>\n",
              "      <td>1.023810</td>\n",
              "      <td>322.0</td>\n",
              "      <td>2.555556</td>\n",
              "      <td>37.88</td>\n",
              "      <td>-122.23</td>\n",
              "      <td>4.526</td>\n",
              "    </tr>\n",
              "    <tr>\n",
              "      <th>1</th>\n",
              "      <td>8.3014</td>\n",
              "      <td>21.0</td>\n",
              "      <td>6.238137</td>\n",
              "      <td>0.971880</td>\n",
              "      <td>2401.0</td>\n",
              "      <td>2.109842</td>\n",
              "      <td>37.86</td>\n",
              "      <td>-122.22</td>\n",
              "      <td>3.585</td>\n",
              "    </tr>\n",
              "    <tr>\n",
              "      <th>2</th>\n",
              "      <td>7.2574</td>\n",
              "      <td>52.0</td>\n",
              "      <td>8.288136</td>\n",
              "      <td>1.073446</td>\n",
              "      <td>496.0</td>\n",
              "      <td>2.802260</td>\n",
              "      <td>37.85</td>\n",
              "      <td>-122.24</td>\n",
              "      <td>3.521</td>\n",
              "    </tr>\n",
              "    <tr>\n",
              "      <th>3</th>\n",
              "      <td>5.6431</td>\n",
              "      <td>52.0</td>\n",
              "      <td>5.817352</td>\n",
              "      <td>1.073059</td>\n",
              "      <td>558.0</td>\n",
              "      <td>2.547945</td>\n",
              "      <td>37.85</td>\n",
              "      <td>-122.25</td>\n",
              "      <td>3.413</td>\n",
              "    </tr>\n",
              "    <tr>\n",
              "      <th>4</th>\n",
              "      <td>3.8462</td>\n",
              "      <td>52.0</td>\n",
              "      <td>6.281853</td>\n",
              "      <td>1.081081</td>\n",
              "      <td>565.0</td>\n",
              "      <td>2.181467</td>\n",
              "      <td>37.85</td>\n",
              "      <td>-122.25</td>\n",
              "      <td>3.422</td>\n",
              "    </tr>\n",
              "  </tbody>\n",
              "</table>\n",
              "</div>\n",
              "    <div class=\"colab-df-buttons\">\n",
              "\n",
              "  <div class=\"colab-df-container\">\n",
              "    <button class=\"colab-df-convert\" onclick=\"convertToInteractive('df-84678065-f7c1-42a7-83bf-5bf9b432c505')\"\n",
              "            title=\"Convert this dataframe to an interactive table.\"\n",
              "            style=\"display:none;\">\n",
              "\n",
              "  <svg xmlns=\"http://www.w3.org/2000/svg\" height=\"24px\" viewBox=\"0 -960 960 960\">\n",
              "    <path d=\"M120-120v-720h720v720H120Zm60-500h600v-160H180v160Zm220 220h160v-160H400v160Zm0 220h160v-160H400v160ZM180-400h160v-160H180v160Zm440 0h160v-160H620v160ZM180-180h160v-160H180v160Zm440 0h160v-160H620v160Z\"/>\n",
              "  </svg>\n",
              "    </button>\n",
              "\n",
              "  <style>\n",
              "    .colab-df-container {\n",
              "      display:flex;\n",
              "      gap: 12px;\n",
              "    }\n",
              "\n",
              "    .colab-df-convert {\n",
              "      background-color: #E8F0FE;\n",
              "      border: none;\n",
              "      border-radius: 50%;\n",
              "      cursor: pointer;\n",
              "      display: none;\n",
              "      fill: #1967D2;\n",
              "      height: 32px;\n",
              "      padding: 0 0 0 0;\n",
              "      width: 32px;\n",
              "    }\n",
              "\n",
              "    .colab-df-convert:hover {\n",
              "      background-color: #E2EBFA;\n",
              "      box-shadow: 0px 1px 2px rgba(60, 64, 67, 0.3), 0px 1px 3px 1px rgba(60, 64, 67, 0.15);\n",
              "      fill: #174EA6;\n",
              "    }\n",
              "\n",
              "    .colab-df-buttons div {\n",
              "      margin-bottom: 4px;\n",
              "    }\n",
              "\n",
              "    [theme=dark] .colab-df-convert {\n",
              "      background-color: #3B4455;\n",
              "      fill: #D2E3FC;\n",
              "    }\n",
              "\n",
              "    [theme=dark] .colab-df-convert:hover {\n",
              "      background-color: #434B5C;\n",
              "      box-shadow: 0px 1px 3px 1px rgba(0, 0, 0, 0.15);\n",
              "      filter: drop-shadow(0px 1px 2px rgba(0, 0, 0, 0.3));\n",
              "      fill: #FFFFFF;\n",
              "    }\n",
              "  </style>\n",
              "\n",
              "    <script>\n",
              "      const buttonEl =\n",
              "        document.querySelector('#df-84678065-f7c1-42a7-83bf-5bf9b432c505 button.colab-df-convert');\n",
              "      buttonEl.style.display =\n",
              "        google.colab.kernel.accessAllowed ? 'block' : 'none';\n",
              "\n",
              "      async function convertToInteractive(key) {\n",
              "        const element = document.querySelector('#df-84678065-f7c1-42a7-83bf-5bf9b432c505');\n",
              "        const dataTable =\n",
              "          await google.colab.kernel.invokeFunction('convertToInteractive',\n",
              "                                                    [key], {});\n",
              "        if (!dataTable) return;\n",
              "\n",
              "        const docLinkHtml = 'Like what you see? Visit the ' +\n",
              "          '<a target=\"_blank\" href=https://colab.research.google.com/notebooks/data_table.ipynb>data table notebook</a>'\n",
              "          + ' to learn more about interactive tables.';\n",
              "        element.innerHTML = '';\n",
              "        dataTable['output_type'] = 'display_data';\n",
              "        await google.colab.output.renderOutput(dataTable, element);\n",
              "        const docLink = document.createElement('div');\n",
              "        docLink.innerHTML = docLinkHtml;\n",
              "        element.appendChild(docLink);\n",
              "      }\n",
              "    </script>\n",
              "  </div>\n",
              "\n",
              "\n",
              "<div id=\"df-f34f7cf4-ff70-4d84-9ea2-f80289cd7cbe\">\n",
              "  <button class=\"colab-df-quickchart\" onclick=\"quickchart('df-f34f7cf4-ff70-4d84-9ea2-f80289cd7cbe')\"\n",
              "            title=\"Suggest charts.\"\n",
              "            style=\"display:none;\">\n",
              "\n",
              "<svg xmlns=\"http://www.w3.org/2000/svg\" height=\"24px\"viewBox=\"0 0 24 24\"\n",
              "     width=\"24px\">\n",
              "    <g>\n",
              "        <path d=\"M19 3H5c-1.1 0-2 .9-2 2v14c0 1.1.9 2 2 2h14c1.1 0 2-.9 2-2V5c0-1.1-.9-2-2-2zM9 17H7v-7h2v7zm4 0h-2V7h2v10zm4 0h-2v-4h2v4z\"/>\n",
              "    </g>\n",
              "</svg>\n",
              "  </button>\n",
              "\n",
              "<style>\n",
              "  .colab-df-quickchart {\n",
              "      --bg-color: #E8F0FE;\n",
              "      --fill-color: #1967D2;\n",
              "      --hover-bg-color: #E2EBFA;\n",
              "      --hover-fill-color: #174EA6;\n",
              "      --disabled-fill-color: #AAA;\n",
              "      --disabled-bg-color: #DDD;\n",
              "  }\n",
              "\n",
              "  [theme=dark] .colab-df-quickchart {\n",
              "      --bg-color: #3B4455;\n",
              "      --fill-color: #D2E3FC;\n",
              "      --hover-bg-color: #434B5C;\n",
              "      --hover-fill-color: #FFFFFF;\n",
              "      --disabled-bg-color: #3B4455;\n",
              "      --disabled-fill-color: #666;\n",
              "  }\n",
              "\n",
              "  .colab-df-quickchart {\n",
              "    background-color: var(--bg-color);\n",
              "    border: none;\n",
              "    border-radius: 50%;\n",
              "    cursor: pointer;\n",
              "    display: none;\n",
              "    fill: var(--fill-color);\n",
              "    height: 32px;\n",
              "    padding: 0;\n",
              "    width: 32px;\n",
              "  }\n",
              "\n",
              "  .colab-df-quickchart:hover {\n",
              "    background-color: var(--hover-bg-color);\n",
              "    box-shadow: 0 1px 2px rgba(60, 64, 67, 0.3), 0 1px 3px 1px rgba(60, 64, 67, 0.15);\n",
              "    fill: var(--button-hover-fill-color);\n",
              "  }\n",
              "\n",
              "  .colab-df-quickchart-complete:disabled,\n",
              "  .colab-df-quickchart-complete:disabled:hover {\n",
              "    background-color: var(--disabled-bg-color);\n",
              "    fill: var(--disabled-fill-color);\n",
              "    box-shadow: none;\n",
              "  }\n",
              "\n",
              "  .colab-df-spinner {\n",
              "    border: 2px solid var(--fill-color);\n",
              "    border-color: transparent;\n",
              "    border-bottom-color: var(--fill-color);\n",
              "    animation:\n",
              "      spin 1s steps(1) infinite;\n",
              "  }\n",
              "\n",
              "  @keyframes spin {\n",
              "    0% {\n",
              "      border-color: transparent;\n",
              "      border-bottom-color: var(--fill-color);\n",
              "      border-left-color: var(--fill-color);\n",
              "    }\n",
              "    20% {\n",
              "      border-color: transparent;\n",
              "      border-left-color: var(--fill-color);\n",
              "      border-top-color: var(--fill-color);\n",
              "    }\n",
              "    30% {\n",
              "      border-color: transparent;\n",
              "      border-left-color: var(--fill-color);\n",
              "      border-top-color: var(--fill-color);\n",
              "      border-right-color: var(--fill-color);\n",
              "    }\n",
              "    40% {\n",
              "      border-color: transparent;\n",
              "      border-right-color: var(--fill-color);\n",
              "      border-top-color: var(--fill-color);\n",
              "    }\n",
              "    60% {\n",
              "      border-color: transparent;\n",
              "      border-right-color: var(--fill-color);\n",
              "    }\n",
              "    80% {\n",
              "      border-color: transparent;\n",
              "      border-right-color: var(--fill-color);\n",
              "      border-bottom-color: var(--fill-color);\n",
              "    }\n",
              "    90% {\n",
              "      border-color: transparent;\n",
              "      border-bottom-color: var(--fill-color);\n",
              "    }\n",
              "  }\n",
              "</style>\n",
              "\n",
              "  <script>\n",
              "    async function quickchart(key) {\n",
              "      const quickchartButtonEl =\n",
              "        document.querySelector('#' + key + ' button');\n",
              "      quickchartButtonEl.disabled = true;  // To prevent multiple clicks.\n",
              "      quickchartButtonEl.classList.add('colab-df-spinner');\n",
              "      try {\n",
              "        const charts = await google.colab.kernel.invokeFunction(\n",
              "            'suggestCharts', [key], {});\n",
              "      } catch (error) {\n",
              "        console.error('Error during call to suggestCharts:', error);\n",
              "      }\n",
              "      quickchartButtonEl.classList.remove('colab-df-spinner');\n",
              "      quickchartButtonEl.classList.add('colab-df-quickchart-complete');\n",
              "    }\n",
              "    (() => {\n",
              "      let quickchartButtonEl =\n",
              "        document.querySelector('#df-f34f7cf4-ff70-4d84-9ea2-f80289cd7cbe button');\n",
              "      quickchartButtonEl.style.display =\n",
              "        google.colab.kernel.accessAllowed ? 'block' : 'none';\n",
              "    })();\n",
              "  </script>\n",
              "</div>\n",
              "    </div>\n",
              "  </div>\n"
            ]
          },
          "metadata": {},
          "execution_count": 2
        }
      ]
    },
    {
      "cell_type": "markdown",
      "source": [
        "Разделим датасет на обучающую и тестовую выборки, а также сразу осуществим масштабирование признаков, поскольку в дальнейшем мы будем использовать линейную регрессию."
      ],
      "metadata": {
        "id": "hsBHGsjBr_3w"
      }
    },
    {
      "cell_type": "code",
      "source": [
        "X_train, X_test, y_train, y_test = train_test_split(df[data['feature_names']], df[data['target_names']].values,\n",
        "                                                    test_size=0.33,\n",
        "                                                    random_state=RANDOM_SEED)\n",
        "\n",
        "scaler = StandardScaler()\n",
        "X_train = scaler.fit_transform(X_train)\n",
        "X_test = scaler.transform(X_test)"
      ],
      "metadata": {
        "id": "h-Pm6MyVK-fU"
      },
      "execution_count": 3,
      "outputs": []
    },
    {
      "cell_type": "markdown",
      "source": [
        "Попробуем применить линейную регрессию \"из коробки\" и посмотреть, какая получается ошибка на тестовой выборке."
      ],
      "metadata": {
        "id": "Gm_mgDvesOUp"
      }
    },
    {
      "cell_type": "code",
      "source": [
        "model = LinearRegression()\n",
        "model.fit(X_train, y_train)\n",
        "pred = model.predict(X_test)\n",
        "print(f'Ошибка: {np.sum((pred - y_test)**2) / y_test.shape[0]}')"
      ],
      "metadata": {
        "colab": {
          "base_uri": "https://localhost:8080/"
        },
        "id": "YGiaDDRmsV_f",
        "outputId": "e4337d08-6951-4cc6-cb50-8a2b9243e5ad"
      },
      "execution_count": 4,
      "outputs": [
        {
          "output_type": "stream",
          "name": "stdout",
          "text": [
            "Ошибка: 0.5369686543372459\n"
          ]
        }
      ]
    },
    {
      "cell_type": "markdown",
      "source": [
        "В итоге мы получили на тестовой выборке некоторое значение ошибки. Давайте теперь попробуем самостоятельно реализовать классический градиентный спуск и сравним значение полученной ошибки"
      ],
      "metadata": {
        "id": "DG2XKC0msi2a"
      }
    },
    {
      "cell_type": "code",
      "source": [
        "X_train.shape[0]"
      ],
      "metadata": {
        "id": "5IkrhGKjvTuF",
        "outputId": "de232568-7339-4c06-9478-17429ad73b11",
        "colab": {
          "base_uri": "https://localhost:8080/"
        }
      },
      "execution_count": 6,
      "outputs": [
        {
          "output_type": "execute_result",
          "data": {
            "text/plain": [
              "13828"
            ]
          },
          "metadata": {},
          "execution_count": 6
        }
      ]
    },
    {
      "cell_type": "code",
      "source": [
        "def full_gradient_descent(X, y, lr=0.001, tol=0.0001, max_steps=20000):\n",
        "  # Добавьте в начало матрицы Х столбец из единиц\n",
        "  X = np.hstack((np.ones((X.shape[0], 1)), X))\n",
        "  np.random.seed(RANDOM_SEED)\n",
        "  w_prev = np.random.rand(X.shape[1], 1)\n",
        "\n",
        "  # Количество строк в матрице Х\n",
        "  n = X.shape[0]\n",
        "  errors = []\n",
        "\n",
        "  for i in range(max_steps):\n",
        "    # Значение градиента на шаге i\n",
        "    grad = - 2 / n * X.T @ (y - X @ w_prev)\n",
        "    # Шаг градиентного спуска\n",
        "    w_new = w_prev - lr * grad\n",
        "\n",
        "    errors.append(((y - X @ w_new)**2).sum() / n)\n",
        "    # Условие, что норма разности векторов w_new и w_prev меньше tol\n",
        "    if np.linalg.norm(w_new - w_prev) < tol:\n",
        "      return w_new, errors\n",
        "    else:\n",
        "      w_prev = w_new\n",
        "\n",
        "  return w_new, errors\n",
        "\n",
        "\n",
        "def test_error(X, y, w):\n",
        "  X = np.hstack((np.ones((X.shape[0], 1)), X))\n",
        "  return ((y - X @ w)**2).sum() / X.shape[0]"
      ],
      "metadata": {
        "id": "4Wxn1oFILC0n"
      },
      "execution_count": 11,
      "outputs": []
    },
    {
      "cell_type": "code",
      "source": [
        "%%time\n",
        "w_fgd, errors_fgd = full_gradient_descent(X_train, y_train)\n",
        "\n",
        "print(f'Количество итераций: {len(errors_fgd)}')"
      ],
      "metadata": {
        "id": "y5qLZmbdX41G",
        "outputId": "5923cb17-787c-4b6f-d003-0a61330b8e0b",
        "colab": {
          "base_uri": "https://localhost:8080/"
        }
      },
      "execution_count": 12,
      "outputs": [
        {
          "output_type": "stream",
          "name": "stdout",
          "text": [
            "Количество итераций: 8554\n",
            "CPU times: user 2.08 s, sys: 1.08 s, total: 3.16 s\n",
            "Wall time: 2.05 s\n"
          ]
        }
      ]
    },
    {
      "cell_type": "code",
      "source": [
        "print(f'Ошибка на тестовой выборке: {test_error(X_test, y_test, w_fgd)}')\n",
        "print('Значения весов', w_fgd.T)\n",
        "plt.plot(errors_fgd);"
      ],
      "metadata": {
        "colab": {
          "base_uri": "https://localhost:8080/",
          "height": 482
        },
        "id": "8xRYidhquvd3",
        "outputId": "dba81281-3608-4716-96c1-9d539c4d7c95"
      },
      "execution_count": 13,
      "outputs": [
        {
          "output_type": "stream",
          "name": "stdout",
          "text": [
            "Ошибка на тестовой выборке: 0.56785915405439\n",
            "Значения весов [[ 2.06663614  0.90272471  0.18767006 -0.29860149  0.29710304  0.02317329\n",
            "  -0.0498699  -0.34309453 -0.32044882]]\n"
          ]
        },
        {
          "output_type": "display_data",
          "data": {
            "text/plain": [
              "<Figure size 640x480 with 1 Axes>"
            ],
            "image/png": "[encoded data removed]"
          },
          "metadata": {}
        }
      ]
    },
    {
      "cell_type": "markdown",
      "source": [
        "Давайте теперь реализуем стохастический градиентный спуск."
      ],
      "metadata": {
        "id": "vsFu4wdpuuuF"
      }
    },
    {
      "cell_type": "code",
      "source": [
        "ind = np.random.randint(X_train.shape[0])\n",
        "ind"
      ],
      "metadata": {
        "id": "WTp4NqkE0Ewa",
        "outputId": "b7009708-55b9-47f8-8b05-ce00ca50b279",
        "colab": {
          "base_uri": "https://localhost:8080/"
        }
      },
      "execution_count": 16,
      "outputs": [
        {
          "output_type": "execute_result",
          "data": {
            "text/plain": [
              "1685"
            ]
          },
          "metadata": {},
          "execution_count": 16
        }
      ]
    },
    {
      "cell_type": "code",
      "source": [
        "def stochastic_gradient_descent(X, y, lr=0.001, tol=0.0001, max_steps=20000):\n",
        "  # Добавьте в начало матрицы Х столбец из единиц\n",
        "  X = np.hstack((np.ones((X.shape[0], 1)), X))\n",
        "  np.random.seed(RANDOM_SEED)\n",
        "  w_prev = np.random.rand(X.shape[1], 1)\n",
        "\n",
        "  # Количество строк в матрице Х\n",
        "  n = X.shape[0]\n",
        "  errors = []\n",
        "\n",
        "  for i in range(max_steps):\n",
        "    # Создайте список из номера одного случайного объекта из выборки\n",
        "    ind = np.random.randint(n)\n",
        "\n",
        "    X_ind = X[ind, :].reshape(1,-1)\n",
        "    y_ind = y[ind]\n",
        "\n",
        "    # Значение градиента на шаге i\n",
        "    grad = -2 * X_ind.T @ (y_ind -X_ind @ w_prev)\n",
        "    # Шаг градиентного спуска\n",
        "    w_new = w_prev - lr * grad\n",
        "\n",
        "    errors.append(((y - X @ w_new)**2).sum() / n)\n",
        "    # Условие, что норма разности векторов w_new и w_prev меньше tol\n",
        "    if np.linalg.norm(w_new - w_prev) < tol:\n",
        "      return w_new, errors\n",
        "    else:\n",
        "      w_prev = w_new\n",
        "\n",
        "  return w_new, errors\n"
      ],
      "metadata": {
        "id": "qvFdrwpalkMD"
      },
      "execution_count": 19,
      "outputs": []
    },
    {
      "cell_type": "code",
      "source": [
        "%%time\n",
        "w_sgd, errors_sgd = stochastic_gradient_descent(X_train, y_train)\n",
        "\n",
        "print(f'Количество итераций: {len(errors_sgd)}')"
      ],
      "metadata": {
        "id": "NXzPtiOerfgb",
        "outputId": "87ec570b-1625-4db2-a3c4-4364f4fd613c",
        "colab": {
          "base_uri": "https://localhost:8080/"
        }
      },
      "execution_count": 20,
      "outputs": [
        {
          "output_type": "stream",
          "name": "stdout",
          "text": [
            "Количество итераций: 244\n",
            "CPU times: user 32.3 ms, sys: 35.3 ms, total: 67.6 ms\n",
            "Wall time: 52.3 ms\n"
          ]
        }
      ]
    },
    {
      "cell_type": "code",
      "source": [
        "print(f'Ошибка на тестовой выборке: {test_error(X_test, y_test, w_sgd)}')\n",
        "print('Значения весов', w_sgd.T)\n",
        "plt.plot(errors_sgd);"
      ],
      "metadata": {
        "colab": {
          "base_uri": "https://localhost:8080/",
          "height": 482
        },
        "id": "_4LEwJ4UO2vo",
        "outputId": "9d989c20-6720-4789-e194-07273275358c"
      },
      "execution_count": 21,
      "outputs": [
        {
          "output_type": "stream",
          "name": "stdout",
          "text": [
            "Ошибка на тестовой выборке: 2.2276906805256025\n",
            "Значения весов [[1.07960103 0.8941185  0.60013235 0.40334447 0.0432827  0.22142737\n",
            "  0.03361304 0.70012945 0.67218878]]\n"
          ]
        },
        {
          "output_type": "display_data",
          "data": {
            "text/plain": [
              "<Figure size 640x480 with 1 Axes>"
            ],
            "image/png": "[encoded data removed]"
          },
          "metadata": {}
        }
      ]
    },
    {
      "cell_type": "markdown",
      "source": [
        "Видно, что хоть мы и движемся вниз с точки зрения ошибки на обучающей выборке, мы останавливаемся слишком рано. Подумайте, почему так происходит. Попробуйте уменьшить значение параметра tol и посмотрите, что получится."
      ],
      "metadata": {
        "id": "u02JZZAy77fC"
      }
    },
    {
      "cell_type": "code",
      "source": [
        "%%time\n",
        "w_sgd, errors_sgd = stochastic_gradient_descent(X_train, y_train, tol=0.00001)\n",
        "\n",
        "print(f'Количество итераций: {len(errors_sgd)}')"
      ],
      "metadata": {
        "id": "WOviapK2PLcT",
        "outputId": "5b48c468-51b0-4095-8df5-0ba965b25ba7",
        "colab": {
          "base_uri": "https://localhost:8080/"
        }
      },
      "execution_count": 22,
      "outputs": [
        {
          "output_type": "stream",
          "name": "stdout",
          "text": [
            "Количество итераций: 1260\n",
            "CPU times: user 142 ms, sys: 69.5 ms, total: 211 ms\n",
            "Wall time: 113 ms\n"
          ]
        }
      ]
    },
    {
      "cell_type": "code",
      "source": [
        "print(f'Ошибка на тестовой выборке: {test_error(X_test, y_test, w_sgd)}')\n",
        "print('Значения весов', w_sgd.T)\n",
        "plt.plot(errors_sgd);"
      ],
      "metadata": {
        "colab": {
          "base_uri": "https://localhost:8080/",
          "height": 482
        },
        "id": "N9LWdcvPQeFY",
        "outputId": "40ad1f0c-c3cd-4ed4-9293-6a21a04cb808"
      },
      "execution_count": 23,
      "outputs": [
        {
          "output_type": "stream",
          "name": "stdout",
          "text": [
            "Ошибка на тестовой выборке: 0.8302967114200617\n",
            "Значения весов [[ 1.94675537  0.82909012  0.39157934  0.05928422 -0.06918601  0.13142379\n",
            "  -0.01282355  0.4608064   0.49975588]]\n"
          ]
        },
        {
          "output_type": "display_data",
          "data": {
            "text/plain": [
              "<Figure size 640x480 with 1 Axes>"
            ],
            "image/png": "[encoded data removed]"
          },
          "metadata": {}
        }
      ]
    },
    {
      "cell_type": "markdown",
      "source": [
        "Ошибка получилась значительно меньше, но и количество потребовавшихся шагов сильно увеличилось. Давайте теперь попробуем сделать что-то среднее между полным градиентным спуском и стохастическим градиентным спуском (Mini-batch),  добавим сохранение момента и динамический learning rate."
      ],
      "metadata": {
        "id": "xVf--yEl9Y78"
      }
    },
    {
      "cell_type": "code",
      "source": [
        "def momentum_gradient_descent(X, y, lr=0.001, tol=0.0001, batch_size=64, alpha=0.9, max_steps=20000):\n",
        "  # Добавьте в начало матрицы Х столбец из единиц\n",
        "  X = np.hstack((np.ones((X.shape[0], 1)), X))\n",
        "  np.random.seed(RANDOM_SEED)\n",
        "  w_prev = np.random.rand(X.shape[1], 1)\n",
        "\n",
        "  # Количество строк в матрице Х\n",
        "  n = X.shape[0]\n",
        "  errors = []\n",
        "  momentum = 0\n",
        "\n",
        "  for i in range(max_steps):\n",
        "    # Создайте список из batch_size штук случайных объектов из выборки\n",
        "    ind = np.random.randint(X.shape[0], size=batch_size)\n",
        "\n",
        "    X_ind = X[ind, :]\n",
        "    y_ind = y[ind]\n",
        "\n",
        "    # Значение градиента на шаге i\n",
        "    grad = - 2 / n * X_ind.T @ (y_ind - X_ind @ w_prev)\n",
        "\n",
        "    # Шаг градиентного спуска\n",
        "    h = alpha * momentum + lr * grad\n",
        "    w_new = w_prev - h\n",
        "\n",
        "    errors.append(((y - X @ w_new)**2).sum() / n)\n",
        "    # Условие, что норма разности векторов w_new и w_prev меньше tol\n",
        "    if np.linalg.norm(w_new - w_prev) < tol:\n",
        "      return w_new, errors\n",
        "    else:\n",
        "      w_prev = w_new\n",
        "      momentum = h\n",
        "      # Динамический learning rate\n",
        "      lr = 0.01 / (i+1)**0.3\n",
        "\n",
        "  return w_new, errors"
      ],
      "metadata": {
        "id": "iOSU6hZi9W3g"
      },
      "execution_count": 62,
      "outputs": []
    },
    {
      "cell_type": "code",
      "source": [
        "%%time\n",
        "w_mgd, errors_mgd = momentum_gradient_descent(X_train, y_train, tol=0.001)\n",
        "\n",
        "print(f'Количество итераций: {len(errors_mgd)}')"
      ],
      "metadata": {
        "id": "7uNkULEz-G2c",
        "outputId": "34da56a3-3288-4b43-b9e5-7e5104e2ae61",
        "colab": {
          "base_uri": "https://localhost:8080/"
        }
      },
      "execution_count": 63,
      "outputs": [
        {
          "output_type": "stream",
          "name": "stdout",
          "text": [
            "Количество итераций: 1\n",
            "CPU times: user 3.03 ms, sys: 3.87 ms, total: 6.91 ms\n",
            "Wall time: 8 ms\n"
          ]
        }
      ]
    },
    {
      "cell_type": "code",
      "source": [
        "# Ошибка на тестовой выборке: 0.5351006091270314\n",
        "# Значения весов [[ 2.0567588   0.88538669  0.11552066 -0.37842814  0.36108541  0.00758211\n",
        "#   -0.13126665 -0.6894802  -0.68867091]]"
      ],
      "metadata": {
        "id": "752DYYafHYC9"
      },
      "execution_count": null,
      "outputs": []
    },
    {
      "cell_type": "code",
      "source": [
        "print(f'Ошибка на тестовой выборке: {test_error(X_test, y_test, w_mgd)}')\n",
        "print('Значения весов', w_mgd.T)\n",
        "plt.plot(errors_mgd);"
      ],
      "metadata": {
        "colab": {
          "base_uri": "https://localhost:8080/",
          "height": 482
        },
        "id": "-BFCuDYf-I7n",
        "outputId": "2e5049a1-1d21-492c-e569-9c7a46d668cd"
      },
      "execution_count": 64,
      "outputs": [
        {
          "output_type": "stream",
          "name": "stdout",
          "text": [
            "Ошибка на тестовой выборке: 4.807050259168336\n",
            "Значения весов [[0.37455486 0.95071366 0.73199196 0.59865229 0.15601378 0.15599742\n",
            "  0.05808333 0.86617001 0.60111908]]\n"
          ]
        },
        {
          "output_type": "display_data",
          "data": {
            "text/plain": [
              "<Figure size 640x480 with 1 Axes>"
            ],
            "image/png": "[encoded data removed]"
          },
          "metadata": {}
        }
      ]
    },
    {
      "cell_type": "markdown",
      "source": [
        "Обратите внимание, что с помощью Momentum Mini-batch SGD мы получили даже лучше результат, чем при использовании метода LinearRegression из пакета sklearn. Однако, пришлось заменить значение параметра tol. Подумайте, почему так происходит, и поэкспериментируйте."
      ],
      "metadata": {
        "id": "3OggNDbLDhFw"
      }
    },
    {
      "cell_type": "code",
      "source": [],
      "metadata": {
        "id": "oREWqRyv-gLI"
      },
      "execution_count": null,
      "outputs": []
    }
  ]
}