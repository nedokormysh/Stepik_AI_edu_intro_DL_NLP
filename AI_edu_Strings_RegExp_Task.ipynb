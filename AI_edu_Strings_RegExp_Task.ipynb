{
  "nbformat": 4,
  "nbformat_minor": 0,
  "metadata": {
    "colab": {
      "provenance": [],
      "include_colab_link": true
    },
    "kernelspec": {
      "name": "python3",
      "display_name": "Python 3"
    },
    "language_info": {
      "name": "python"
    }
  },
  "cells": [
    {
      "cell_type": "markdown",
      "metadata": {
        "id": "view-in-github",
        "colab_type": "text"
      },
      "source": [
        "<a href=\"https://colab.research.google.com/github/nedokormysh/Stepik_AI_edu_intro_DL_NLP/blob/week_5_re/AI_edu_Strings_RegExp_Task.ipynb\" target=\"_parent\"><img src=\"https://colab.research.google.com/assets/colab-badge.svg\" alt=\"Open In Colab\"/></a>"
      ]
    },
    {
      "cell_type": "markdown",
      "source": [
        "# Работа со строками. Регулярные выражения. Практика"
      ],
      "metadata": {
        "id": "nWvD7qWzGI1J"
      }
    },
    {
      "cell_type": "markdown",
      "source": [
        "## Как сдавать"
      ],
      "metadata": {
        "id": "pKiSLIceOw7u"
      }
    },
    {
      "cell_type": "markdown",
      "source": [
        "\n",
        "\n",
        "1.   Создаем копию ноутбука и сохраняем к себе на Google Drive\n",
        "2.   Выполняем задания\n",
        "3.   Делаем ноутбук доступным для чтения и комментариев\n",
        "     - в правом верхнем углу кликаем `Share`\n",
        "     - выбираем Anyone with the link (в `General access`)\n",
        "     - меняем роль `Viewer` на `Commenter`\n",
        "     - копируем получившуюся ссылку (`Copy link`) и отправляем на степик\n"
      ],
      "metadata": {
        "id": "bstPr_kfO4Bg"
      }
    },
    {
      "cell_type": "markdown",
      "source": [
        "## Упражнения"
      ],
      "metadata": {
        "id": "lHvWur9lfs8v"
      }
    },
    {
      "cell_type": "code",
      "source": [
        "import re"
      ],
      "metadata": {
        "id": "SQ1t7nKMy0e4"
      },
      "execution_count": null,
      "outputs": []
    },
    {
      "cell_type": "markdown",
      "source": [
        "### Задание 1. Четное число"
      ],
      "metadata": {
        "id": "dSwELBk53g-V"
      }
    },
    {
      "cell_type": "markdown",
      "source": [
        "Напишите регулярное выражение, соответствующее четному числу."
      ],
      "metadata": {
        "id": "nehfD6fd3pFQ"
      }
    },
    {
      "cell_type": "code",
      "source": [
        "# числа\n",
        "numbers = {\n",
        "    \"2341\": False,\n",
        "    \"132\": True,\n",
        "    \"29\": False,\n",
        "    \"5578\": True\n",
        "}\n",
        "\n",
        "pattern = r'\\d*[24680]$'\n",
        "for number, answer in numbers.items():\n",
        "  assert bool(re.match(pattern, number)) == numbers[number]"
      ],
      "metadata": {
        "id": "5dRgorkJ3qUU"
      },
      "execution_count": null,
      "outputs": []
    },
    {
      "cell_type": "markdown",
      "source": [
        "### Задание 2. Гласные"
      ],
      "metadata": {
        "id": "ZL--cOY4fvkn"
      }
    },
    {
      "cell_type": "markdown",
      "source": [
        "Извлечь все слова, начинающиеся на гласную"
      ],
      "metadata": {
        "id": "ujnPIx0Dfznb"
      }
    },
    {
      "cell_type": "code",
      "source": [
        "string = 'ОГО Десять негритят отправились обедать, \\\n",
        "          Один поперхнулся, их осталось девять.'\n",
        "pattern = r'\\b[ауоеияюеэАУОЕИЯЮЕЭ]\\w+'\n",
        "re.findall(pattern, string)"
      ],
      "metadata": {
        "id": "RbkJSfSZHxUi",
        "colab": {
          "base_uri": "https://localhost:8080/"
        },
        "outputId": "0f5afa06-ac55-4681-9b87-bdf45a112f7a"
      },
      "execution_count": null,
      "outputs": [
        {
          "output_type": "execute_result",
          "data": {
            "text/plain": [
              "['ОГО', 'отправились', 'обедать', 'Один', 'их', 'осталось']"
            ]
          },
          "metadata": {},
          "execution_count": 11
        }
      ]
    },
    {
      "cell_type": "markdown",
      "source": [
        "### Задание 3. Телефонный номер"
      ],
      "metadata": {
        "id": "LJFV1Cy2yRJR"
      }
    },
    {
      "cell_type": "markdown",
      "source": [
        "Проверить телефонный номер (номер должен быть длиной 10 знаков и начинаться с 7 или 8)"
      ],
      "metadata": {
        "id": "CfSGk0pGyVCb"
      }
    },
    {
      "cell_type": "code",
      "source": [
        "phone_numbers = ['899999999964', '8999999999', '79999999992', '7999999999', '9999999999']\n",
        "pattern = r'[78]{1}[0-9]{9}'\n",
        "\n",
        "for number in phone_numbers:\n",
        "  m = re.search(pattern, number)\n",
        "  if m and len(number) == 10:\n",
        "      print(f'{number} - корректный телефонный номер')\n",
        "  else:\n",
        "      print (f'{number} - некорректный телефонный номер')"
      ],
      "metadata": {
        "id": "VCOJVmcuyQL5",
        "colab": {
          "base_uri": "https://localhost:8080/"
        },
        "outputId": "4d7087ec-954b-4449-85fb-f79f83f8ec7d"
      },
      "execution_count": null,
      "outputs": [
        {
          "output_type": "stream",
          "name": "stdout",
          "text": [
            "899999999964 - некорректный телефонный номер\n",
            "8999999999 - корректный телефонный номер\n",
            "79999999992 - некорректный телефонный номер\n",
            "7999999999 - корректный телефонный номер\n",
            "9999999999 - некорректный телефонный номер\n"
          ]
        }
      ]
    },
    {
      "cell_type": "markdown",
      "source": [
        "### Задание 4. Номера автомобилей"
      ],
      "metadata": {
        "id": "LiUIhVJSybLM"
      }
    },
    {
      "cell_type": "markdown",
      "source": [
        "В России применяются регистрационные знаки нескольких видов. Общего в них то, что они состоят из цифр и букв. Причём используются только 12 букв кириллицы,\n",
        "имеющие графические аналоги в латинском алфавите — А, В, Е, К, М, Н, О, Р, С, Т, У и Х.\n",
        "\n",
        "У частных легковых автомобилях номера — это буква, три цифры, две буквы, затем две или три цифры с\n",
        "кодом региона. У такси — две буквы, три цифры, затем две или три цифры с кодом региона.\n",
        "Есть также и другие виды, но в этой задаче они не понадобятся."
      ],
      "metadata": {
        "id": "oTA5KMCeyeaM"
      }
    },
    {
      "cell_type": "code",
      "source": [
        "# Автомобильные номера\n",
        "numbers = ['С227НА777', 'КУ22777', 'Т22В7477', 'М227К19У9', 'С227НА8777']\n",
        "\n",
        "# Теперь правильные ответы\n",
        "Answers = ['Private', 'Taxi', 'Fail', 'Fail', 'Fail']"
      ],
      "metadata": {
        "id": "pxEiw7jGyeB4"
      },
      "execution_count": null,
      "outputs": []
    },
    {
      "cell_type": "code",
      "source": [
        "x = int(input('Введите номер примера для проверки:'))\n",
        "number = numbers[x]\n",
        "\n",
        "private_pattern = r'\\b[АВЕКМНОРСТУХ]{1}\\d{3}[АВЕКМНОРСТУХ]{2}\\d{2,3}'\n",
        "taxi_pattern = r'\\b[АВЕКМНОРСТУХ]{2}\\d{3}\\d{2,3}'\n",
        "\n",
        "if re.match(private_pattern, number) and len(number) in (8,9):\n",
        "    print('Private')\n",
        "elif re.match(taxi_pattern, number) and len(number) in (7,8):\n",
        "    print('Taxi')\n",
        "else:\n",
        "    print('Fail')"
      ],
      "metadata": {
        "id": "pb5eWG0G2Bmn",
        "colab": {
          "base_uri": "https://localhost:8080/"
        },
        "outputId": "e663235a-0fe0-4acb-e2ef-0278934a1f95"
      },
      "execution_count": null,
      "outputs": [
        {
          "output_type": "stream",
          "name": "stdout",
          "text": [
            "Введите номер примера для проверки:1\n",
            "Taxi\n"
          ]
        }
      ]
    },
    {
      "cell_type": "markdown",
      "source": [
        "### Задание 5. Проверка пароля"
      ],
      "metadata": {
        "id": "Do324_es5lNH"
      }
    },
    {
      "cell_type": "markdown",
      "source": [
        "На сайте нужно вывести сообщение, если пароль не валиден.\n",
        "Обычно пароль должен содержать не менее 8 символов, не менее одной заглавной буквы,\n",
        "не менее одной строчной буквы и, опционально, символ.\n",
        "\n",
        "_\"Your password must have at least 8 characters, at least an upper case letter, an lowercase letter,\n",
        "a number and probably a symbol so you make sure you’ll never remember it in the future\"_"
      ],
      "metadata": {
        "id": "Uwjvt6HP5ujl"
      }
    },
    {
      "cell_type": "code",
      "source": [
        "passwords = ['', '1', 'abcdefgh', 'abCdefgh', 'ABCDEFGH', 'ab3defGh']\n",
        "\n",
        "# Не менее 8 символов (тут не считаются знаки препинания)\n",
        "# char_regex = re.compile(r'^.{8,}')\n",
        "# char_regex = re.compile(r'^[A-Za-z\\d!@#$%^&*()_+{}\\[\\]:;<>,.?~\\\\-=\\\\/]{8,}$')\n",
        "# char_regex = re.compile(r'^[A-Za-z\\d!@#$%^&*()_+{}\\[\\]:;<>,.?~\\\\/]{8,}$')\n",
        "\n",
        "char_regex = re.compile(r'^\\S{8,}')\n",
        "\n",
        "# Не менее 1 маленькой буквы\n",
        "lower_regex = re.compile(r'[a-z]')\n",
        "\n",
        "# Не менее 1 большой буквы\n",
        "upper_regex = re.compile(r'[A-Z]')\n",
        "\n",
        "# Не менее 1 цифры\n",
        "digit_regex = re.compile(r'\\d')\n",
        "\n",
        "# ПРОВЕРКА\n",
        "for password in passwords:\n",
        "  if char_regex.findall(password) == []:\n",
        "      print('Password must contain at least 8 characters')\n",
        "  elif lower_regex.findall(password)==[]:\n",
        "      print('Password must contain at least one lowercase character')\n",
        "  elif upper_regex.findall(password)==[]:\n",
        "      print('Password must contain at least one uppercase character')\n",
        "  elif digit_regex.findall(password)==[]:\n",
        "      print('Password must contain at least one digit character')\n",
        "  else:\n",
        "      print('Your password is strong. Good job!')"
      ],
      "metadata": {
        "colab": {
          "base_uri": "https://localhost:8080/"
        },
        "id": "LI3QUFB15qCl",
        "outputId": "b532a7bc-8b29-4b16-8d08-434ddf81e6e4"
      },
      "execution_count": null,
      "outputs": [
        {
          "output_type": "stream",
          "name": "stdout",
          "text": [
            "Password must contain at least 8 characters\n",
            "Password must contain at least 8 characters\n",
            "Password must contain at least one uppercase character\n",
            "Password must contain at least one digit character\n",
            "Password must contain at least one lowercase character\n",
            "Your password is strong. Good job!\n"
          ]
        }
      ]
    }
  ]
}